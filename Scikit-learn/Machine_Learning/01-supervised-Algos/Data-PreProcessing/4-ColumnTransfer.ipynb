{
 "cells": [
  {
   "cell_type": "markdown",
   "id": "e8780bf0",
   "metadata": {},
   "source": [
    "# ColumnTransformer — Smart Preprocessing for Mixed Data\n",
    "\n",
    "## Why It Exists\n",
    "Real-world data often contain a mix of **categorical** (text) and **numerical** (numbers) features.\n",
    "- Numerical features tyically needs scaling(e.g. StandardScaler or MinMaxScaler).\n",
    "- Categorical features require encoding (e.g. OneHotEncoder or OrdinalEncoder).\n",
    "\n",
    "Applying these transformations manually to different columns can be tedious and error-prone.  \n",
    "\n",
    "Instead of preprocessing them separately, **ColumnTransformer** simplifies the process by handling everything together in one pipeline.\n",
    "\n",
    "---\n",
    "\n",
    "## 🧠 How it Works ?\n",
    "With `ColumnTransformer`, we specify:\n",
    "1. Which columns need **scaling** (numerical features).\n",
    "2. Which columns need **encoding** (categorical features).\n",
    "3. (Optionally) which columns to:\n",
    "   1. Drop Entirely \n",
    "   2. Pass through unchanged (without any tansformation).\n",
    "\n",
    "Then `ColumnTransformer` automatically applies the correct transformation to each column based on our instuctions.\n",
    "\n",
    "## 🌟 Benefits\n",
    "- **Automation**: Handles all preprocessing steps in one go.\n",
    "- **Avoids Errors**: Ensures no data leakage between train and test sets.\n",
    "- **Flexibility**: Supports different transformations for different columns.\n",
    "- **Integration**: Works seamlessly with pipelines for end-to-end workflows.\n"
   ]
  },
  {
   "cell_type": "code",
   "execution_count": 35,
   "id": "64f4bd6a",
   "metadata": {},
   "outputs": [],
   "source": [
    "import pandas as pd\n",
    "from sklearn.model_selection import train_test_split\n",
    "from sklearn.compose import ColumnTransformer\n",
    "from sklearn.preprocessing import StandardScaler, OneHotEncoder\n",
    "from sklearn.pipeline import Pipeline\n",
    "from sklearn.linear_model import LogisticRegression\n",
    "from sklearn.metrics import accuracy_score"
   ]
  },
  {
   "cell_type": "code",
   "execution_count": null,
   "id": "d72a88ff",
   "metadata": {},
   "outputs": [],
   "source": [
    "# Create the dataset\n",
    "data = {\n",
    "    \"Age\": [25, 30, 35, 40, 45, 50, 55, 60],\n",
    "    \"Salary\": [50000, 60000, 70000, 80000, 90000, 100000, 110000, 120000],\n",
    "    \"City\": [\n",
    "        \"Delhi\",\n",
    "        \"Mumbai\",\n",
    "        \"Bangalore\",\n",
    "        \"Kolkata\",\n",
    "        \"Delhi\",\n",
    "        \"Mumbai\",\n",
    "        \"Bangalore\",\n",
    "        \"Kolkata\",\n",
    "    ],\n",
    "    \"Gender\": [\"Male\", \"Female\", \"Male\", \"Female\", \"Male\", \"Female\", \"Male\", \"Female\"],\n",
    "    \"Purchased\": [0, 1, 0, 1, 0, 1, 0, 1], # This is target column\n",
    "}\n",
    "df = pd.DataFrame(data)\n",
    "\n",
    "# Separate features (X) and target (y)\n",
    "X = df.drop(\"Purchased\", axis=1)\n",
    "y = df[\"Purchased\"]"
   ]
  },
  {
   "cell_type": "code",
   "execution_count": 37,
   "id": "35136145",
   "metadata": {},
   "outputs": [],
   "source": [
    "# Splitting\n",
    "X_train, X_test, y_train, y_test = train_test_split(\n",
    "    X, y, test_size=0.2, random_state=42, stratify=y\n",
    ")\n"
   ]
  },
  {
   "cell_type": "code",
   "execution_count": 38,
   "id": "0e6083a2",
   "metadata": {},
   "outputs": [],
   "source": [
    "# Defining preprocessing\n",
    "preprocessor = ColumnTransformer(\n",
    "    transformers=[\n",
    "        (\"num\", StandardScaler(), [\"Age\", \"Salary\"]),\n",
    "        (\"cat\", OneHotEncoder(handle_unknown=\"ignore\"), [\"City\", \"Gender\"]),\n",
    "    ]\n",
    ")"
   ]
  },
  {
   "cell_type": "code",
   "execution_count": 39,
   "id": "bf5e6bc9",
   "metadata": {},
   "outputs": [
    {
     "name": "stdout",
     "output_type": "stream",
     "text": [
      "Accuracy: 1.0\n"
     ]
    }
   ],
   "source": [
    "# Creating Pipeline\n",
    "pipeline = Pipeline(\n",
    "    steps=[(\"preprocessor\", preprocessor), (\"model\", LogisticRegression())]\n",
    ")\n",
    "\n",
    "# Training the pipeline\n",
    "pipeline.fit(X_train, y_train)\n",
    "\n",
    "y_pred = pipeline.predict(X_test)\n",
    "\n",
    "print(\"Accuracy:\", accuracy_score(y_test, y_pred))"
   ]
  },
  {
   "cell_type": "code",
   "execution_count": null,
   "id": "b91b19de",
   "metadata": {},
   "outputs": [],
   "source": []
  }
 ],
 "metadata": {
  "kernelspec": {
   "display_name": "myenv",
   "language": "python",
   "name": "python3"
  },
  "language_info": {
   "codemirror_mode": {
    "name": "ipython",
    "version": 3
   },
   "file_extension": ".py",
   "mimetype": "text/x-python",
   "name": "python",
   "nbconvert_exporter": "python",
   "pygments_lexer": "ipython3",
   "version": "3.13.7"
  }
 },
 "nbformat": 4,
 "nbformat_minor": 5
}
