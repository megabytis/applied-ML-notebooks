{
 "cells": [
  {
   "cell_type": "markdown",
   "id": "e8da48c5",
   "metadata": {},
   "source": [
    "# 🧩 Feature Encoding (Label vs One-Hot)\n",
    "\n",
    "## 💡 Why Encoding?\n",
    "Machines can’t understand text (like “Delhi” or “Mumbai”) — they only understand numbers.  \n",
    "So we convert text features into numerical form so that models can learn from them.\n",
    "\n",
    "> But how we do it depends on the type of text data.\n",
    "\n",
    "| Type of text data     | Example                | Encoding Type      |\n",
    "| --------- | ---------------------- | ------------------ |\n",
    "| Ordered   | Low, Medium, High      | ✅ Label Encoding   |\n",
    "| Unordered | Delhi, Mumbai, Chennai | ✅ One-Hot Encoding |\n",
    "\n",
    "\n",
    "\n",
    "---\n",
    "\n",
    "## 🔹 1️⃣ Label Encoding\n",
    "Assigns each category a unique number.\n",
    "\n",
    "Example:- 1\n",
    "\n",
    "| City     | Price | Encoded City |\n",
    "|-----------|--------|--------------|\n",
    "| Delhi     | 80     | 0 |\n",
    "| Mumbai    | 100    | 1 |\n",
    "| Chennai   | 60     | 2 |\n",
    "\n",
    "Example:- 2\n",
    "\n",
    "| shirt-size     | Price | Encoded size |\n",
    "|-----------|--------|--------------|\n",
    "| Small     | 60     | 0 |\n",
    "| Large    | 100    | 2 |\n",
    "| Medium   | 80     | 1 |\n",
    "\n",
    "✅ **Best for:** When categories have some order (e.g., “Low”, “Medium”, “High”)  \n",
    "❌ **Avoid for:** Unordered text (like cities, colors), since numbers may imply ranking.\n",
    "\n",
    "\n",
    "- in above Example-2 “Large” > “Medium” > “Small” — there’s a clear order.\n",
    "- So it’s okay if we use Label Encoding, because the model can learn that higher number = bigger size.\n",
    "\n",
    "- But in example-1, There’s no natural order — we can’t say “Mumbai > Delhi”, it makes no sense right . why the hell mumbai would be greater than delhi . \n",
    "- So, by label encoding If we assign numbers like Delhi=0, Mumbai=1, Chennai=2, the model might mistakenly think “Chennai > Mumbai > Delhi” — which makes no sense. 😅\n",
    "- So for such unordered categories, we use One-Hot Encoding — it treats every label equally, with no ranking implied.\n",
    "\n",
    "---\n",
    "\n",
    "## 🔹 2️⃣ One-Hot Encoding\n",
    "Creates a new binary (1/0) column for each category.\n",
    "\n",
    "| City     | Price | Delhi | Mumbai | Chennai |\n",
    "|-----------|--------|--------|--------|----------|\n",
    "| Delhi     | 80     | 1 | 0 | 0 |\n",
    "| Mumbai    | 100    | 0 | 1 | 0 |\n",
    "| Chennai   | 60     | 0 | 0 | 1 |\n",
    "\n",
    "✅ **Best for:** Unordered (nominal) data — cities, gender, color  \n",
    "❌ **Downside:** Increases columns drastically if there are too many categories.\n",
    "\n",
    "---"
   ]
  },
  {
   "cell_type": "code",
   "execution_count": 44,
   "id": "5b5471bb",
   "metadata": {},
   "outputs": [],
   "source": [
    "import pandas as pd"
   ]
  },
  {
   "cell_type": "markdown",
   "id": "fc76da31",
   "metadata": {},
   "source": [
    "## 1. Label Encoding (Simple Numbering)\n",
    "\n",
    "Converts categories into **integer labels**."
   ]
  },
  {
   "cell_type": "code",
   "execution_count": 45,
   "id": "e8769041",
   "metadata": {},
   "outputs": [
    {
     "data": {
      "text/html": [
       "<div>\n",
       "<style scoped>\n",
       "    .dataframe tbody tr th:only-of-type {\n",
       "        vertical-align: middle;\n",
       "    }\n",
       "\n",
       "    .dataframe tbody tr th {\n",
       "        vertical-align: top;\n",
       "    }\n",
       "\n",
       "    .dataframe thead th {\n",
       "        text-align: right;\n",
       "    }\n",
       "</style>\n",
       "<table border=\"1\" class=\"dataframe\">\n",
       "  <thead>\n",
       "    <tr style=\"text-align: right;\">\n",
       "      <th></th>\n",
       "      <th>Shirt-size</th>\n",
       "      <th>size_encoded</th>\n",
       "    </tr>\n",
       "  </thead>\n",
       "  <tbody>\n",
       "    <tr>\n",
       "      <th>0</th>\n",
       "      <td>small</td>\n",
       "      <td>1</td>\n",
       "    </tr>\n",
       "    <tr>\n",
       "      <th>1</th>\n",
       "      <td>medium</td>\n",
       "      <td>2</td>\n",
       "    </tr>\n",
       "    <tr>\n",
       "      <th>2</th>\n",
       "      <td>large</td>\n",
       "      <td>3</td>\n",
       "    </tr>\n",
       "  </tbody>\n",
       "</table>\n",
       "</div>"
      ],
      "text/plain": [
       "  Shirt-size  size_encoded\n",
       "0      small             1\n",
       "1     medium             2\n",
       "2      large             3"
      ]
     },
     "execution_count": 45,
     "metadata": {},
     "output_type": "execute_result"
    }
   ],
   "source": [
    "df = pd.DataFrame({\"Shirt-size\": [\"small\", \"medium\", \"large\"]})\n",
    "\n",
    "from sklearn.preprocessing import LabelEncoder\n",
    "\n",
    "le = LabelEncoder()\n",
    "df[\"size_encoded\"] = le.fit_transform(df[\"Shirt-size\"])\n",
    "\n",
    "'''\n",
    "    Shirt-size  size_encoded\n",
    "0      small             2\n",
    "1     medium             1\n",
    "2      large             0\n",
    "'''\n",
    "\n",
    "# And here we got fooled. \n",
    "# What just happened here is sklearn’s LabelEncoder doesn’t actually know that \"small < medium < large\".\n",
    "# It just assigns numbers in alphabetical order, like this: 👉 \"large\" → 0, \"medium\" → 1, \"small\" → 2\n",
    "# It’s purely based on string sorting, not meaning.\n",
    "# “small (2) > medium (1) > large (0)” 😭, which is opposite of real world order .\n",
    "\n",
    "# So, Moral of the story :\n",
    "# If your categorical data has true order, don’t trust LabelEncoder blindly.\n",
    "# We should provide numbers to each category manually, like;\n",
    "size_map={'small':1,'medium':2,'large':3}\n",
    "df['size_encoded'] = df['Shirt-size'].map(size_map)\n",
    "\n",
    "# Now the machine will correctly understand: small < medium < large ✅\n",
    "df"
   ]
  },
  {
   "cell_type": "markdown",
   "id": "d8ddf79a",
   "metadata": {},
   "source": [
    "## 2. One-Hot Encoding"
   ]
  },
  {
   "cell_type": "code",
   "execution_count": 46,
   "id": "fd342baa",
   "metadata": {},
   "outputs": [
    {
     "name": "stdout",
     "output_type": "stream",
     "text": [
      "   City_Bhubaneswar  City_Delhi  City_Mumbai\n",
      "0               0.0         1.0          0.0\n",
      "1               1.0         0.0          0.0\n",
      "2               0.0         0.0          0.0\n",
      "3               0.0         0.0          1.0\n"
     ]
    }
   ],
   "source": [
    "from sklearn.preprocessing import  OneHotEncoder\n",
    "\n",
    "# Step-1: creating DataFrame with categorical data\n",
    "df = pd.DataFrame({'City':['Delhi','Bhubaneswar','Bangalore','Mumbai']})\n",
    "\n",
    "# Step-2: Initializing the OneHotEncoder\n",
    "encoder = OneHotEncoder(drop='first', sparse_output=False)\n",
    "# As we know already drop='first' to avoids multicollinearity\n",
    "\n",
    "# Step-3: Fiting and transforming the data\n",
    "encoded_City = encoder.fit_transform(df[['City']]) # Passing the column as a DataFrame (2D)\n",
    "\n",
    "# Step-4: Converting the result back to DataFrme\n",
    "encoded_df=pd.DataFrame(encoded_City, columns=encoder.get_feature_names_out(['City']))\n",
    "\n",
    "print(encoded_df)"
   ]
  },
  {
   "cell_type": "markdown",
   "id": "c7152164",
   "metadata": {},
   "source": [
    "## 3. Pandas One-Hot Encoding Shortcut"
   ]
  },
  {
   "cell_type": "code",
   "execution_count": 47,
   "id": "bc5af063",
   "metadata": {},
   "outputs": [
    {
     "name": "stdout",
     "output_type": "stream",
     "text": [
      "   City_Delhi  City_Kolkata  City_Mumbai\n",
      "0           1             0            0\n",
      "1           0             0            1\n",
      "2           0             0            0\n",
      "3           0             1            0\n"
     ]
    },
    {
     "data": {
      "text/plain": [
       "' \\n        City_Delhi  City_Kolkata  City_Mumbai\\n0           1             0            0\\n1           0             0            1\\n2           0             0            0\\n3           0             1            0\\n'"
      ]
     },
     "execution_count": 47,
     "metadata": {},
     "output_type": "execute_result"
    }
   ],
   "source": [
    "df = pd.DataFrame({\"City\":['Delhi','Mumbai','Bangalore','Kolkata']})\n",
    "\n",
    "df_encoded = pd.get_dummies(df, columns=[\"City\"], drop_first=True, dtype=int)\n",
    "print(df_encoded)\n",
    "\n",
    "''' \n",
    "        City_Delhi  City_Kolkata  City_Mumbai\n",
    "0           1             0            0\n",
    "1           0             0            1\n",
    "2           0             0            0\n",
    "3           0             1            0\n",
    "'''\n",
    "\n",
    "# can also be written like; df_encoded = pd.get_dummies(df, columns=[\"City\"], drop_first=True)\n",
    "# here drop_first=True means, one of the categories is dropped to avoid multicollinearity (redundancy in the data).\n",
    "\n",
    "# 🤖 How drop_first=True Works:\n",
    "# When we use drop_first=True, pandas drops the first category alphabetically to avoid multicollinearity. The categories in ouy City column are: ['Bangalore', 'Delhi', 'Kolkata', 'Mumbai']\n",
    "# Alphabetically the order is: 'Bangalore' < 'Delhi' < 'Kolkata' < 'Mumbai'\n",
    "# Therefore, pd.get_dummies() drops Bangalore as the first category.\n",
    "# Bangalore becomes the baseline category (implicitly represented by all zeros).\n",
    "# The remaining categories (Delhi, Kolkata, Mumbai) are explicitly encoded.\n",
    "\n",
    "# Why Does This Happen ❓\n",
    "# The drop_first=True parameter ensures that one category is dropped to avoid redundancy. For example:\n",
    "# - Without drop_first=True, all four cities would be encoded, and the sum of all columns for each row would always equal 1.\n",
    "# - With drop_first=True, one category (alphabetically first) is dropped, and the model interprets the other categories relative to the dropped one."
   ]
  },
  {
   "cell_type": "markdown",
   "id": "4dfbd014",
   "metadata": {},
   "source": [
    "> This pd.get_dummies() trick is 🔑 in 90% of ML workflows — it’s fast, simple, and model-friendly."
   ]
  }
 ],
 "metadata": {
  "kernelspec": {
   "display_name": "myenv",
   "language": "python",
   "name": "python3"
  },
  "language_info": {
   "codemirror_mode": {
    "name": "ipython",
    "version": 3
   },
   "file_extension": ".py",
   "mimetype": "text/x-python",
   "name": "python",
   "nbconvert_exporter": "python",
   "pygments_lexer": "ipython3",
   "version": "3.13.7"
  }
 },
 "nbformat": 4,
 "nbformat_minor": 5
}
