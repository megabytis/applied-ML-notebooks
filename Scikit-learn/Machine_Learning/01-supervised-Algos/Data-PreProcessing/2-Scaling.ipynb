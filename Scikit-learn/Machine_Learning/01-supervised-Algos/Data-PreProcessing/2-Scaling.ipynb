{
 "cells": [
  {
   "cell_type": "markdown",
   "id": "05322260",
   "metadata": {},
   "source": [
    "# Feature Scaling — Why, When & How\n",
    "\n",
    "### Why Scaling Matters\n",
    "In machine learning, some features have huge ranges while others don’t.  \n",
    "Example 👇  \n",
    "\n",
    "| Feature | Range |\n",
    "|----------|--------|\n",
    "| House size | 500 – 5000 sq ft |\n",
    "| Bedrooms | 1 – 5 |\n",
    "| Age | 1 – 20 years |\n",
    "\n",
    "If we train a model as-is, the feature with the largest values (e.g., *size*) will dominate.  \n",
    "The model will assume it’s far more important than other features just because the numbers are larger.  \n",
    "That’s **feature bias**.  \n",
    "\n",
    "To fix this, we make sure **all features share the same scale**.  \n",
    "That’s what **scaling** does.\n",
    "\n",
    "---\n",
    "\n",
    "## Types of Feature Scaling\n",
    "\n",
    "### 1️⃣ Standardization (Z-score scaling)\n",
    "\n",
    "Formula:  \n",
    "\\[\n",
    "x' = \\frac{x - \\text{mean}}{\\text{std}}\n",
    "\\]\n",
    "\n",
    "This converts data so that:\n",
    "- mean = 0  \n",
    "- standard deviation = 1  \n",
    "\n",
    "**Used when:**\n",
    "- Data follows a roughly normal (bell-curve) distribution  \n",
    "- Works well for models assuming Gaussian data  \n",
    "  (e.g., Linear Regression, Logistic Regression, SVM, PCA)\n"
   ]
  }
 ],
 "metadata": {
  "kernelspec": {
   "display_name": "myenv",
   "language": "python",
   "name": "python3"
  },
  "language_info": {
   "name": "python",
   "version": "3.13.7"
  }
 },
 "nbformat": 4,
 "nbformat_minor": 5
}
