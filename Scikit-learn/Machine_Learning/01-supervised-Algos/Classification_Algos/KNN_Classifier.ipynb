{
 "cells": [
  {
   "cell_type": "markdown",
   "id": "28d79c1d",
   "metadata": {},
   "source": [
    "# 📘 K-Nearest Neighbors (KNN) — Classifier\n",
    "\n",
    "## 🌍 Concept\n",
    "KNN is a **lazy learning** algorithm — it doesn't “train” a model in the usual sense.  \n",
    "Instead, when you ask it to predict, it literally:\n",
    "1. Looks at the *K* closest points to the new sample.\n",
    "2. Checks their labels.\n",
    "3. Takes the **majority vote** for classification (or average for regression).\n",
    "\n",
    "So basically — “show me your 5 closest friends and I’ll tell you who you are.” 💀\n",
    "\n",
    "---\n",
    "\n",
    "## 🧩 Key Terms\n",
    "\n",
    "| Term | Meaning |\n",
    "|------|----------|\n",
    "| `K` | Number of neighbors considered for voting. |\n",
    "| `Distance metric` | How closeness is measured (default: Euclidean distance). |\n",
    "| `Scaling` | KNN is distance-based, so features must be scaled (`StandardScaler`). |\n",
    "| `weights` | `'uniform'` (all neighbors equal) or `'distance'` (closer = higher weight). |\n",
    "\n",
    "---\n",
    "\n",
    "## ⚙️ Steps to Build a KNN Model\n",
    "\n",
    "1. Import and preprocess data  \n",
    "2. Split into train/test  \n",
    "3. Scale features  \n",
    "4. Train KNN with chosen `n_neighbors`  \n",
    "5. Evaluate using metrics like accuracy, recall, f1-score  \n",
    "\n",
    "---\n",
    "\n",
    "## Example :-\n",
    "\n",
    "<img src=\"images/KNN-lassifier.webp\">\n",
    "\n",
    "👆 Here, the new point is classified as Category 2 because most of its closest neighbors are blue squares.\n",
    "\n",
    "KNN assigns the category based on the majority of nearby points. The image shows how KNN predicts the category of a new data point based on its closest neighbours.\n",
    "\n",
    "- The red diamonds represent Category 1 and the blue squares represent Category 2.\n",
    "- The new data point checks its closest neighbors (circled points).\n",
    "- Since the majority of its closest neighbors are blue squares (Category 2) KNN predicts the new data point belongs to Category 2.\n",
    "\n",
    "---\n",
    "\n",
    "## What is 'K' in K Nearest Neighbour?\n",
    "\n",
    "In the k-Nearest Neighbours algorithm k is just a number that tells the algorithm how many nearby points or neighbors to look at when it makes a decision.\n",
    "\n",
    "Example: Imagine you're deciding which fruit it is based on its shape and size. You compare it to fruits you already know.\n",
    "\n",
    "- If k = 3, the algorithm looks at the 3 closest fruits to the new one.\n",
    "- If 2 of those 3 fruits are apples and 1 is a banana, the algorithm says the new fruit is an apple because most of its neighbors are apples.\n",
    "\n",
    "\n",
    "---"
   ]
  },
  {
   "cell_type": "code",
   "execution_count": 10,
   "id": "250ddaa2",
   "metadata": {},
   "outputs": [],
   "source": [
    "import pandas as pd\n",
    "from sklearn.model_selection import train_test_split\n",
    "from sklearn.preprocessing import StandardScaler\n",
    "from sklearn.neighbors import KNeighborsClassifier\n",
    "from sklearn.metrics import confusion_matrix, classification_report, accuracy_score"
   ]
  },
  {
   "cell_type": "code",
   "execution_count": 11,
   "id": "0ec1aac0",
   "metadata": {},
   "outputs": [],
   "source": [
    "df = pd.read_csv(\"assets/loan_approval_data.csv\")\n",
    "\n",
    "X = df.drop(\"Approved\", axis=1)\n",
    "y = df[\"Approved\"]"
   ]
  },
  {
   "cell_type": "code",
   "execution_count": 12,
   "id": "c36c8e7e",
   "metadata": {},
   "outputs": [],
   "source": [
    "X_train, X_test, y_train, y_test = train_test_split(\n",
    "    X, y, test_size=0.2, random_state=42\n",
    ")"
   ]
  },
  {
   "cell_type": "code",
   "execution_count": 13,
   "id": "7cb7eb61",
   "metadata": {},
   "outputs": [],
   "source": [
    "scaler=StandardScaler()\n",
    "X_train_scaled=scaler.fit_transform(X_train)\n",
    "X_test_scaled=scaler.transform(X_test)"
   ]
  },
  {
   "cell_type": "code",
   "execution_count": 14,
   "id": "e5da2d15",
   "metadata": {},
   "outputs": [],
   "source": [
    "# Initializing KNN\n",
    "knn = KNeighborsClassifier(n_neighbors=5)\n",
    "\n",
    "knn.fit(X_train_scaled, y_train)\n",
    "y_pred = knn.predict(X_test_scaled)"
   ]
  },
  {
   "cell_type": "code",
   "execution_count": 15,
   "id": "3b79a20b",
   "metadata": {},
   "outputs": [
    {
     "name": "stdout",
     "output_type": "stream",
     "text": [
      "Accuracy: 0.61\n",
      "\n",
      "Classification Report :\n",
      "               precision    recall  f1-score   support\n",
      "\n",
      "           0       0.58      0.61      0.59        94\n",
      "           1       0.64      0.61      0.62       106\n",
      "\n",
      "    accuracy                           0.61       200\n",
      "   macro avg       0.61      0.61      0.61       200\n",
      "weighted avg       0.61      0.61      0.61       200\n",
      "\n"
     ]
    }
   ],
   "source": [
    "acc = accuracy_score(y_test, y_pred)\n",
    "cr = classification_report(y_test, y_pred)\n",
    "\n",
    "print(\"Accuracy:\", acc)\n",
    "print(\"\\nClassification Report :\\n\", cr)"
   ]
  },
  {
   "cell_type": "code",
   "execution_count": null,
   "id": "cbb5124a",
   "metadata": {},
   "outputs": [],
   "source": []
  }
 ],
 "metadata": {
  "kernelspec": {
   "display_name": "myenv",
   "language": "python",
   "name": "python3"
  },
  "language_info": {
   "codemirror_mode": {
    "name": "ipython",
    "version": 3
   },
   "file_extension": ".py",
   "mimetype": "text/x-python",
   "name": "python",
   "nbconvert_exporter": "python",
   "pygments_lexer": "ipython3",
   "version": "3.13.7"
  }
 },
 "nbformat": 4,
 "nbformat_minor": 5
}
