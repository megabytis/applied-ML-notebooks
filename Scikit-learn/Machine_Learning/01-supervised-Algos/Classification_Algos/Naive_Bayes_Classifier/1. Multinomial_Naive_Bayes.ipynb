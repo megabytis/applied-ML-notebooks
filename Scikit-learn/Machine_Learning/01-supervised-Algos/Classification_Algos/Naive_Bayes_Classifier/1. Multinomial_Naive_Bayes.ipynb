{
 "cells": [
  {
   "cell_type": "markdown",
   "id": "6692ba49",
   "metadata": {},
   "source": [
    "# 1. Multinomial Naive Bayes"
   ]
  },
  {
   "cell_type": "markdown",
   "id": "e16cb62d",
   "metadata": {},
   "source": [
    "building a SPAM classifier using multinomial Naive Bayes. Exactly how Gmail or Whatsapp spam filters start out."
   ]
  },
  {
   "cell_type": "markdown",
   "id": "756e2450",
   "metadata": {},
   "source": [
    "### 🧠 Step 1: Real-world idea\n",
    "\n",
    "We want to predict whether a message is spam or not spam.\n",
    "\n",
    "Example:\n",
    "\n",
    "| Message                        | Label          |\n",
    "| ------------------------------ | -------------- |\n",
    "| \"Win money now!!!\"             | spam           |\n",
    "| \"Your project meeting at 10am\" | ham (not spam) |\n",
    "| \"Free laptop just for you\"     | spam           |\n",
    "| \"Can we talk later?\"           | ham            |\n",
    "\n",
    "\n",
    "### 🧩 Step 2: Concept\n",
    "\n",
    "The algorithm looks for which words are common in spam vs ham messages.\n",
    "\n",
    "It calculates probabilities like:\n",
    "- P(word = “win” | spam)\n",
    "- P(word = “win” | ham)\n",
    "\n",
    "Then, when a new message comes in — say \"Win a free phone now\" —\n",
    "it multiplies those probabilities for all words and picks whichever class (spam/ham) gives a higher probability."
   ]
  },
  {
   "cell_type": "code",
   "execution_count": null,
   "id": "d04c4ecc",
   "metadata": {},
   "outputs": [],
   "source": [
    "import pandas as pd\n",
    "from sklearn.model_selection import train_test_split\n",
    "from sklearn.naive_bayes import MultinomialNB\n",
    "from sklearn.metrics import confusion_matrix, classification_report, accuracy_score\n",
    "from sklearn.feature_extraction.text import CountVectorizer"
   ]
  },
  {
   "cell_type": "code",
   "execution_count": null,
   "id": "d1779b15",
   "metadata": {},
   "outputs": [],
   "source": [
    "messeges = [\n",
    "    \"Win money now\",\n",
    "    \"Free cash prize\",\n",
    "    \"Click to claim your reward\",\n",
    "    \"Earn extra income today\",\n",
    "    \"Meeting at 10am\",\n",
    "    \"Let's have lunch tomorrow\",\n",
    "    \"Project submission due\",\n",
    "    \"Are you free tonight?\",\n",
    "]\n",
    "\n",
    "labels = [\"spam\", \"spam\", \"spam\", \"spam\", \"ham\", \"ham\", \"ham\", \"ham\"]"
   ]
  },
  {
   "cell_type": "code",
   "execution_count": null,
   "id": "53edc72d",
   "metadata": {},
   "outputs": [],
   "source": [
    "vectorizer = CountVectorizer()\n",
    "X = vectorizer.fit_transform(messeges)\n",
    "\n",
    "\"\"\" \n",
    "WHAT HAPPENED HERE ?\n",
    "\n",
    "#############################################\n",
    "PHASE-1 : fit() phase → VOCABULARY GENERATION\n",
    "#############################################\n",
    "\n",
    "1. CountVectorizer.fit() scans all messages \n",
    "2. Splits each message into individual words (tokenization)\n",
    "3. Collects all unique words across all messages\n",
    "4. sorts them alphabetically\n",
    "5. stores thi svocabulary internally in the vectozier object\n",
    "\n",
    "- Now vectorizer.vocabulary_ contains all the word-to-index mapping :\n",
    "\n",
    "{'win': 25, 'money': 15, 'now': 16, 'free': 9, 'cash': 3, 'prize': 17, 'click': 5, 'to': 21, 'claim': 4, 'your': 27, 'reward': 19, 'earn': 7, 'extra': 8, 'income': 11, 'today': 22, 'meeting': 14, 'at': 2, '10am': 0, 'let': 12, 'have': 10, 'lunch': 13, 'tomorrow': 23, 'project': 18, 'submission': 20, 'due': 6, 'are': 1, 'you': 26, 'tonight': 24}\n",
    "\n",
    "#############################################################\n",
    "PHASE-2 : transform() phase → DOCUMENT-TERM MATRIX GENERATION\n",
    "#############################################################\n",
    "\n",
    "1. CountVectorizer.transform() uses the vocabulary created in phase-1\n",
    "2. for each message, counts how many times each word appears\n",
    "3. creates the numerical matrix (sparse matrix format)\n",
    "\n",
    "- Now X conatains our document-term matrix\n",
    "\n",
    "👇 click the below link to see How document-term matrix Looks like 👇\n",
    "\n",
    "\"\"\""
   ]
  },
  {
   "cell_type": "markdown",
   "id": "38f1d8dc",
   "metadata": {},
   "source": [
    "click here 👉 [Document-term Matrix](./assets/document_Matrix.xlsx)"
   ]
  },
  {
   "cell_type": "code",
   "execution_count": null,
   "id": "685e7773",
   "metadata": {},
   "outputs": [],
   "source": [
    "X_train, X_test, y_train, y_test = train_test_split(\n",
    "    X, labels, test_size=0.25, random_state=42\n",
    ")"
   ]
  },
  {
   "cell_type": "code",
   "execution_count": null,
   "id": "d034432f",
   "metadata": {},
   "outputs": [],
   "source": [
    "model = MultinomialNB()\n",
    "model.fit(X_train, y_train)\n",
    "\n",
    "y_pred = model.predict(X_test)"
   ]
  },
  {
   "cell_type": "code",
   "execution_count": null,
   "id": "a7b1e398",
   "metadata": {},
   "outputs": [],
   "source": [
    "cm = confusion_matrix(y_test, y_pred)\n",
    "acc = accuracy_score(y_test, y_pred)\n",
    "cr = classification_report(y_test, y_pred)\n",
    "\n",
    "print(f\"Cnfusion Matrix:\\n {cm}\")\n",
    "print(f\"\\nAccuracy Score: {acc:.3f}\")\n",
    "print(f\"\\nClassification Report: {cr}\")"
   ]
  },
  {
   "cell_type": "markdown",
   "id": "32b04d89",
   "metadata": {},
   "source": [
    "#### Testing our model :--"
   ]
  },
  {
   "cell_type": "code",
   "execution_count": null,
   "id": "cfa5ee3b",
   "metadata": {},
   "outputs": [],
   "source": [
    "sample = [\n",
    "    \"Win a free laptop now\",\n",
    "    \"Let's schedule a meeting\",\n",
    "    \"Click here to grab your free cash prize\",\n",
    "]\n",
    "\n",
    "sample_vector = vectorizer.transform(sample)\n",
    "print(f\"\\nPredictions: {model.predict(sample_vector)}\")"
   ]
  },
  {
   "cell_type": "markdown",
   "id": "98ca4454",
   "metadata": {},
   "source": [
    "### Summary :\n",
    "\n",
    " **how multinomial works**\n",
    " \n",
    "we'll have to use countvectorizer of slearn.feature_extraction.text to fit messeges , which will extract all words from phrases or sentences , \n",
    "then it will use transform() to make a document-tree matrix where it will find each extracted words are present how many times in each sentence and will note on that matrix!\n",
    "then real calculation is  like , it will calculate probability of each word to be SPAM or HAM \n",
    "then when a new sentence will come , after breakin the new sentence into words , it will find probability of each word wheather it is spam or ham\n",
    "then will find overall probability or (spam) and (ham) , which probability would be large will be the final answer "
   ]
  }
 ],
 "metadata": {
  "kernelspec": {
   "display_name": "myenv",
   "language": "python",
   "name": "python3"
  },
  "language_info": {
   "name": "python",
   "version": "3.13.7"
  }
 },
 "nbformat": 4,
 "nbformat_minor": 5
}
