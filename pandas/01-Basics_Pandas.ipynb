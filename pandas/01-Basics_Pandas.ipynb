{
 "cells": [
  {
   "cell_type": "markdown",
   "id": "6446ea13",
   "metadata": {},
   "source": [
    "## 🐼 What is Pandas?\n",
    "\n",
    "- Pandas is an open-source data analysis library written in **Python**.\n",
    "- It leverages the **power and speed of NumPy** to make data analysis and preprocessing easy for data scientists.\n",
    "- It provides **rich and highly robust** data operations.\n",
    "\n",
    "---\n",
    "\n",
    "### 🔧 Pandas works well with:\n",
    "- **NumPy**\n",
    "- **Excel-like tabular data**\n",
    "- **Python built-in structures** such as:\n",
    "  - `list`\n",
    "  - `dict`\n",
    "  - `tuple`\n"
   ]
  },
  {
   "cell_type": "markdown",
   "id": "112fcc89",
   "metadata": {},
   "source": [
    "## 📊 Pandas Data Structure\n",
    "\n",
    "Pandas has **two types of data structures**:\n",
    "\n",
    "- **a) Series** – It’s a one-dimensional array with indexes. It stores a single column or row of data in a DataFrame.\n",
    "\n",
    "- **b) DataFrame** – It’s a tabular spreadsheet-like structure representing rows, each of which contains one or multiple columns.\n",
    "\n",
    "---\n",
    "\n",
    "- A one-dimensional array (labeled) capable of holding any type of data – **Series**\n",
    "\n",
    "- A two-dimensional data (labeled) structure with columns of potentially different types of data – **DataFrame**\n"
   ]
  },
  {
   "cell_type": "code",
   "execution_count": 1,
   "id": "3aeaf02f-6d84-4434-8f43-cef3b1545563",
   "metadata": {},
   "outputs": [],
   "source": [
    "import pandas as pd\n",
    "import numpy as np"
   ]
  },
  {
   "cell_type": "code",
   "execution_count": 2,
   "id": "2933ef75-2105-4f7d-8029-929d8a2303e9",
   "metadata": {},
   "outputs": [],
   "source": [
    "dict1 = {\n",
    "    \"name\": ['miku','milan','karan'],\n",
    "    \"marks\": [49,90,89],\n",
    "    \"city\": [\"Talcher\",\"Cuttack\",\"Angul\"]\n",
    "}"
   ]
  },
  {
   "cell_type": "code",
   "execution_count": 3,
   "id": "8d645d1c-e29c-4c2a-94c7-3eb7e5e0f486",
   "metadata": {},
   "outputs": [],
   "source": [
    "# it will create out dictionary into Data frame format\n",
    "df = pd.DataFrame(dict1)"
   ]
  },
  {
   "cell_type": "code",
   "execution_count": 4,
   "id": "977ffdfa-fbfb-4806-9ddf-2645e9ebc33b",
   "metadata": {},
   "outputs": [
    {
     "data": {
      "text/html": [
       "<div>\n",
       "<style scoped>\n",
       "    .dataframe tbody tr th:only-of-type {\n",
       "        vertical-align: middle;\n",
       "    }\n",
       "\n",
       "    .dataframe tbody tr th {\n",
       "        vertical-align: top;\n",
       "    }\n",
       "\n",
       "    .dataframe thead th {\n",
       "        text-align: right;\n",
       "    }\n",
       "</style>\n",
       "<table border=\"1\" class=\"dataframe\">\n",
       "  <thead>\n",
       "    <tr style=\"text-align: right;\">\n",
       "      <th></th>\n",
       "      <th>name</th>\n",
       "      <th>marks</th>\n",
       "      <th>city</th>\n",
       "    </tr>\n",
       "  </thead>\n",
       "  <tbody>\n",
       "    <tr>\n",
       "      <th>0</th>\n",
       "      <td>miku</td>\n",
       "      <td>49</td>\n",
       "      <td>Talcher</td>\n",
       "    </tr>\n",
       "    <tr>\n",
       "      <th>1</th>\n",
       "      <td>milan</td>\n",
       "      <td>90</td>\n",
       "      <td>Cuttack</td>\n",
       "    </tr>\n",
       "    <tr>\n",
       "      <th>2</th>\n",
       "      <td>karan</td>\n",
       "      <td>89</td>\n",
       "      <td>Angul</td>\n",
       "    </tr>\n",
       "  </tbody>\n",
       "</table>\n",
       "</div>"
      ],
      "text/plain": [
       "    name  marks     city\n",
       "0   miku     49  Talcher\n",
       "1  milan     90  Cuttack\n",
       "2  karan     89    Angul"
      ]
     },
     "execution_count": 4,
     "metadata": {},
     "output_type": "execute_result"
    }
   ],
   "source": [
    "df"
   ]
  },
  {
   "cell_type": "code",
   "execution_count": 5,
   "id": "f4581be9-cb6c-4c6c-bdd3-c9263fbe30f3",
   "metadata": {},
   "outputs": [],
   "source": [
    "# it will create a csv file by using the previously created DataFrame\n",
    "df.to_csv('bhaiChara.csv')"
   ]
  },
  {
   "cell_type": "code",
   "execution_count": 6,
   "id": "125525b4-bdba-4c6e-a152-8234b5e19b9f",
   "metadata": {},
   "outputs": [],
   "source": [
    "# it will create also csv file but without index number\n",
    "df.to_csv('bhaiChara_without_Index.csv', index=False)"
   ]
  },
  {
   "cell_type": "code",
   "execution_count": 7,
   "id": "6896051b-3965-44a8-bca3-35dee4697b8a",
   "metadata": {},
   "outputs": [
    {
     "data": {
      "text/html": [
       "<div>\n",
       "<style scoped>\n",
       "    .dataframe tbody tr th:only-of-type {\n",
       "        vertical-align: middle;\n",
       "    }\n",
       "\n",
       "    .dataframe tbody tr th {\n",
       "        vertical-align: top;\n",
       "    }\n",
       "\n",
       "    .dataframe thead th {\n",
       "        text-align: right;\n",
       "    }\n",
       "</style>\n",
       "<table border=\"1\" class=\"dataframe\">\n",
       "  <thead>\n",
       "    <tr style=\"text-align: right;\">\n",
       "      <th></th>\n",
       "      <th>name</th>\n",
       "      <th>marks</th>\n",
       "      <th>city</th>\n",
       "    </tr>\n",
       "  </thead>\n",
       "  <tbody>\n",
       "    <tr>\n",
       "      <th>0</th>\n",
       "      <td>miku</td>\n",
       "      <td>49</td>\n",
       "      <td>Talcher</td>\n",
       "    </tr>\n",
       "    <tr>\n",
       "      <th>1</th>\n",
       "      <td>milan</td>\n",
       "      <td>90</td>\n",
       "      <td>Cuttack</td>\n",
       "    </tr>\n",
       "  </tbody>\n",
       "</table>\n",
       "</div>"
      ],
      "text/plain": [
       "    name  marks     city\n",
       "0   miku     49  Talcher\n",
       "1  milan     90  Cuttack"
      ]
     },
     "execution_count": 7,
     "metadata": {},
     "output_type": "execute_result"
    }
   ],
   "source": [
    "# it will print first 2 rows\n",
    "df.head(2)"
   ]
  },
  {
   "cell_type": "code",
   "execution_count": 8,
   "id": "b619ad6f-2bc1-482c-ae93-c90cedd805d0",
   "metadata": {},
   "outputs": [
    {
     "data": {
      "text/html": [
       "<div>\n",
       "<style scoped>\n",
       "    .dataframe tbody tr th:only-of-type {\n",
       "        vertical-align: middle;\n",
       "    }\n",
       "\n",
       "    .dataframe tbody tr th {\n",
       "        vertical-align: top;\n",
       "    }\n",
       "\n",
       "    .dataframe thead th {\n",
       "        text-align: right;\n",
       "    }\n",
       "</style>\n",
       "<table border=\"1\" class=\"dataframe\">\n",
       "  <thead>\n",
       "    <tr style=\"text-align: right;\">\n",
       "      <th></th>\n",
       "      <th>name</th>\n",
       "      <th>marks</th>\n",
       "      <th>city</th>\n",
       "    </tr>\n",
       "  </thead>\n",
       "  <tbody>\n",
       "    <tr>\n",
       "      <th>1</th>\n",
       "      <td>milan</td>\n",
       "      <td>90</td>\n",
       "      <td>Cuttack</td>\n",
       "    </tr>\n",
       "    <tr>\n",
       "      <th>2</th>\n",
       "      <td>karan</td>\n",
       "      <td>89</td>\n",
       "      <td>Angul</td>\n",
       "    </tr>\n",
       "  </tbody>\n",
       "</table>\n",
       "</div>"
      ],
      "text/plain": [
       "    name  marks     city\n",
       "1  milan     90  Cuttack\n",
       "2  karan     89    Angul"
      ]
     },
     "execution_count": 8,
     "metadata": {},
     "output_type": "execute_result"
    }
   ],
   "source": [
    "# it will print last two rows \n",
    "df.tail(2)"
   ]
  },
  {
   "cell_type": "code",
   "execution_count": 9,
   "id": "889442dd-6d24-4d44-9c11-7d3755e4fb82",
   "metadata": {},
   "outputs": [
    {
     "data": {
      "text/html": [
       "<div>\n",
       "<style scoped>\n",
       "    .dataframe tbody tr th:only-of-type {\n",
       "        vertical-align: middle;\n",
       "    }\n",
       "\n",
       "    .dataframe tbody tr th {\n",
       "        vertical-align: top;\n",
       "    }\n",
       "\n",
       "    .dataframe thead th {\n",
       "        text-align: right;\n",
       "    }\n",
       "</style>\n",
       "<table border=\"1\" class=\"dataframe\">\n",
       "  <thead>\n",
       "    <tr style=\"text-align: right;\">\n",
       "      <th></th>\n",
       "      <th>marks</th>\n",
       "    </tr>\n",
       "  </thead>\n",
       "  <tbody>\n",
       "    <tr>\n",
       "      <th>count</th>\n",
       "      <td>3.000000</td>\n",
       "    </tr>\n",
       "    <tr>\n",
       "      <th>mean</th>\n",
       "      <td>76.000000</td>\n",
       "    </tr>\n",
       "    <tr>\n",
       "      <th>std</th>\n",
       "      <td>23.388031</td>\n",
       "    </tr>\n",
       "    <tr>\n",
       "      <th>min</th>\n",
       "      <td>49.000000</td>\n",
       "    </tr>\n",
       "    <tr>\n",
       "      <th>25%</th>\n",
       "      <td>69.000000</td>\n",
       "    </tr>\n",
       "    <tr>\n",
       "      <th>50%</th>\n",
       "      <td>89.000000</td>\n",
       "    </tr>\n",
       "    <tr>\n",
       "      <th>75%</th>\n",
       "      <td>89.500000</td>\n",
       "    </tr>\n",
       "    <tr>\n",
       "      <th>max</th>\n",
       "      <td>90.000000</td>\n",
       "    </tr>\n",
       "  </tbody>\n",
       "</table>\n",
       "</div>"
      ],
      "text/plain": [
       "           marks\n",
       "count   3.000000\n",
       "mean   76.000000\n",
       "std    23.388031\n",
       "min    49.000000\n",
       "25%    69.000000\n",
       "50%    89.000000\n",
       "75%    89.500000\n",
       "max    90.000000"
      ]
     },
     "execution_count": 9,
     "metadata": {},
     "output_type": "execute_result"
    }
   ],
   "source": [
    "# it will generate an mathematical stats of the numerical column\n",
    "df.describe()"
   ]
  },
  {
   "cell_type": "code",
   "execution_count": 10,
   "id": "472b2b3b-3297-4246-9f85-f95cb4151508",
   "metadata": {},
   "outputs": [
    {
     "data": {
      "text/html": [
       "<div>\n",
       "<style scoped>\n",
       "    .dataframe tbody tr th:only-of-type {\n",
       "        vertical-align: middle;\n",
       "    }\n",
       "\n",
       "    .dataframe tbody tr th {\n",
       "        vertical-align: top;\n",
       "    }\n",
       "\n",
       "    .dataframe thead th {\n",
       "        text-align: right;\n",
       "    }\n",
       "</style>\n",
       "<table border=\"1\" class=\"dataframe\">\n",
       "  <thead>\n",
       "    <tr style=\"text-align: right;\">\n",
       "      <th></th>\n",
       "      <th>name</th>\n",
       "      <th>marks</th>\n",
       "      <th>city</th>\n",
       "    </tr>\n",
       "  </thead>\n",
       "  <tbody>\n",
       "    <tr>\n",
       "      <th>0</th>\n",
       "      <td>miku</td>\n",
       "      <td>49</td>\n",
       "      <td>Talcher</td>\n",
       "    </tr>\n",
       "    <tr>\n",
       "      <th>1</th>\n",
       "      <td>milan</td>\n",
       "      <td>90</td>\n",
       "      <td>Cuttack</td>\n",
       "    </tr>\n",
       "    <tr>\n",
       "      <th>2</th>\n",
       "      <td>karan</td>\n",
       "      <td>89</td>\n",
       "      <td>Angul</td>\n",
       "    </tr>\n",
       "  </tbody>\n",
       "</table>\n",
       "</div>"
      ],
      "text/plain": [
       "    name  marks     city\n",
       "0   miku     49  Talcher\n",
       "1  milan     90  Cuttack\n",
       "2  karan     89    Angul"
      ]
     },
     "execution_count": 10,
     "metadata": {},
     "output_type": "execute_result"
    }
   ],
   "source": [
    "df"
   ]
  },
  {
   "cell_type": "code",
   "execution_count": 11,
   "id": "77ffd4cf-e864-437b-b527-f577afca260a",
   "metadata": {},
   "outputs": [
    {
     "data": {
      "text/html": [
       "<div>\n",
       "<style scoped>\n",
       "    .dataframe tbody tr th:only-of-type {\n",
       "        vertical-align: middle;\n",
       "    }\n",
       "\n",
       "    .dataframe tbody tr th {\n",
       "        vertical-align: top;\n",
       "    }\n",
       "\n",
       "    .dataframe thead th {\n",
       "        text-align: right;\n",
       "    }\n",
       "</style>\n",
       "<table border=\"1\" class=\"dataframe\">\n",
       "  <thead>\n",
       "    <tr style=\"text-align: right;\">\n",
       "      <th></th>\n",
       "      <th>name</th>\n",
       "      <th>marks</th>\n",
       "      <th>city</th>\n",
       "    </tr>\n",
       "  </thead>\n",
       "  <tbody>\n",
       "    <tr>\n",
       "      <th>0</th>\n",
       "      <td>miku</td>\n",
       "      <td>49</td>\n",
       "      <td>Talcher</td>\n",
       "    </tr>\n",
       "    <tr>\n",
       "      <th>1</th>\n",
       "      <td>milan</td>\n",
       "      <td>90</td>\n",
       "      <td>Cuttack</td>\n",
       "    </tr>\n",
       "    <tr>\n",
       "      <th>2</th>\n",
       "      <td>karan</td>\n",
       "      <td>89</td>\n",
       "      <td>Angul</td>\n",
       "    </tr>\n",
       "  </tbody>\n",
       "</table>\n",
       "</div>"
      ],
      "text/plain": [
       "    name  marks     city\n",
       "0   miku     49  Talcher\n",
       "1  milan     90  Cuttack\n",
       "2  karan     89    Angul"
      ]
     },
     "execution_count": 11,
     "metadata": {},
     "output_type": "execute_result"
    }
   ],
   "source": [
    "df"
   ]
  },
  {
   "cell_type": "code",
   "execution_count": 12,
   "id": "081fa0ea-5cab-4166-b349-d52e8a0d48ba",
   "metadata": {},
   "outputs": [
    {
     "name": "stderr",
     "output_type": "stream",
     "text": [
      "/tmp/ipykernel_48910/1021711537.py:1: FutureWarning: ChainedAssignmentError: behaviour will change in pandas 3.0!\n",
      "You are setting values through chained assignment. Currently this works in certain cases, but when using Copy-on-Write (which will become the default behaviour in pandas 3.0) this will never work to update the original DataFrame or Series, because the intermediate object on which we are setting values will behave as a copy.\n",
      "A typical example is when you are setting values in a column of a DataFrame, like:\n",
      "\n",
      "df[\"col\"][row_indexer] = value\n",
      "\n",
      "Use `df.loc[row_indexer, \"col\"] = values` instead, to perform the assignment in a single step and ensure this keeps updating the original `df`.\n",
      "\n",
      "See the caveats in the documentation: https://pandas.pydata.org/pandas-docs/stable/user_guide/indexing.html#returning-a-view-versus-a-copy\n",
      "\n",
      "  df['marks'][0] = 78\n",
      "/tmp/ipykernel_48910/1021711537.py:1: SettingWithCopyWarning: \n",
      "A value is trying to be set on a copy of a slice from a DataFrame\n",
      "\n",
      "See the caveats in the documentation: https://pandas.pydata.org/pandas-docs/stable/user_guide/indexing.html#returning-a-view-versus-a-copy\n",
      "  df['marks'][0] = 78\n",
      "/tmp/ipykernel_48910/1021711537.py:2: FutureWarning: ChainedAssignmentError: behaviour will change in pandas 3.0!\n",
      "You are setting values through chained assignment. Currently this works in certain cases, but when using Copy-on-Write (which will become the default behaviour in pandas 3.0) this will never work to update the original DataFrame or Series, because the intermediate object on which we are setting values will behave as a copy.\n",
      "A typical example is when you are setting values in a column of a DataFrame, like:\n",
      "\n",
      "df[\"col\"][row_indexer] = value\n",
      "\n",
      "Use `df.loc[row_indexer, \"col\"] = values` instead, to perform the assignment in a single step and ensure this keeps updating the original `df`.\n",
      "\n",
      "See the caveats in the documentation: https://pandas.pydata.org/pandas-docs/stable/user_guide/indexing.html#returning-a-view-versus-a-copy\n",
      "\n",
      "  df['marks'][1] = 80\n",
      "/tmp/ipykernel_48910/1021711537.py:2: SettingWithCopyWarning: \n",
      "A value is trying to be set on a copy of a slice from a DataFrame\n",
      "\n",
      "See the caveats in the documentation: https://pandas.pydata.org/pandas-docs/stable/user_guide/indexing.html#returning-a-view-versus-a-copy\n",
      "  df['marks'][1] = 80\n",
      "/tmp/ipykernel_48910/1021711537.py:3: FutureWarning: ChainedAssignmentError: behaviour will change in pandas 3.0!\n",
      "You are setting values through chained assignment. Currently this works in certain cases, but when using Copy-on-Write (which will become the default behaviour in pandas 3.0) this will never work to update the original DataFrame or Series, because the intermediate object on which we are setting values will behave as a copy.\n",
      "A typical example is when you are setting values in a column of a DataFrame, like:\n",
      "\n",
      "df[\"col\"][row_indexer] = value\n",
      "\n",
      "Use `df.loc[row_indexer, \"col\"] = values` instead, to perform the assignment in a single step and ensure this keeps updating the original `df`.\n",
      "\n",
      "See the caveats in the documentation: https://pandas.pydata.org/pandas-docs/stable/user_guide/indexing.html#returning-a-view-versus-a-copy\n",
      "\n",
      "  df['marks'][2] = 50\n",
      "/tmp/ipykernel_48910/1021711537.py:3: SettingWithCopyWarning: \n",
      "A value is trying to be set on a copy of a slice from a DataFrame\n",
      "\n",
      "See the caveats in the documentation: https://pandas.pydata.org/pandas-docs/stable/user_guide/indexing.html#returning-a-view-versus-a-copy\n",
      "  df['marks'][2] = 50\n"
     ]
    }
   ],
   "source": [
    "df['marks'][0] = 78\n",
    "df['marks'][1] = 80\n",
    "df['marks'][2] = 50"
   ]
  },
  {
   "cell_type": "code",
   "execution_count": 13,
   "id": "de0bed14-2801-4cb1-9c5f-a1e6ceeccd5e",
   "metadata": {},
   "outputs": [
    {
     "data": {
      "text/html": [
       "<div>\n",
       "<style scoped>\n",
       "    .dataframe tbody tr th:only-of-type {\n",
       "        vertical-align: middle;\n",
       "    }\n",
       "\n",
       "    .dataframe tbody tr th {\n",
       "        vertical-align: top;\n",
       "    }\n",
       "\n",
       "    .dataframe thead th {\n",
       "        text-align: right;\n",
       "    }\n",
       "</style>\n",
       "<table border=\"1\" class=\"dataframe\">\n",
       "  <thead>\n",
       "    <tr style=\"text-align: right;\">\n",
       "      <th></th>\n",
       "      <th>name</th>\n",
       "      <th>marks</th>\n",
       "      <th>city</th>\n",
       "    </tr>\n",
       "  </thead>\n",
       "  <tbody>\n",
       "    <tr>\n",
       "      <th>0</th>\n",
       "      <td>miku</td>\n",
       "      <td>78</td>\n",
       "      <td>Talcher</td>\n",
       "    </tr>\n",
       "    <tr>\n",
       "      <th>1</th>\n",
       "      <td>milan</td>\n",
       "      <td>80</td>\n",
       "      <td>Cuttack</td>\n",
       "    </tr>\n",
       "    <tr>\n",
       "      <th>2</th>\n",
       "      <td>karan</td>\n",
       "      <td>50</td>\n",
       "      <td>Angul</td>\n",
       "    </tr>\n",
       "  </tbody>\n",
       "</table>\n",
       "</div>"
      ],
      "text/plain": [
       "    name  marks     city\n",
       "0   miku     78  Talcher\n",
       "1  milan     80  Cuttack\n",
       "2  karan     50    Angul"
      ]
     },
     "execution_count": 13,
     "metadata": {},
     "output_type": "execute_result"
    }
   ],
   "source": [
    "df"
   ]
  },
  {
   "cell_type": "code",
   "execution_count": 14,
   "id": "0f4376a5-3dbc-4c15-9a53-c3870da97304",
   "metadata": {},
   "outputs": [],
   "source": [
    "df.to_csv('changed_profile.csv')"
   ]
  },
  {
   "cell_type": "code",
   "execution_count": 15,
   "id": "8cd447e7-88a2-49ed-a8e8-82d8198449fc",
   "metadata": {},
   "outputs": [
    {
     "data": {
      "text/html": [
       "<div>\n",
       "<style scoped>\n",
       "    .dataframe tbody tr th:only-of-type {\n",
       "        vertical-align: middle;\n",
       "    }\n",
       "\n",
       "    .dataframe tbody tr th {\n",
       "        vertical-align: top;\n",
       "    }\n",
       "\n",
       "    .dataframe thead th {\n",
       "        text-align: right;\n",
       "    }\n",
       "</style>\n",
       "<table border=\"1\" class=\"dataframe\">\n",
       "  <thead>\n",
       "    <tr style=\"text-align: right;\">\n",
       "      <th></th>\n",
       "      <th>name</th>\n",
       "      <th>marks</th>\n",
       "      <th>city</th>\n",
       "    </tr>\n",
       "  </thead>\n",
       "  <tbody>\n",
       "    <tr>\n",
       "      <th>0</th>\n",
       "      <td>miku</td>\n",
       "      <td>78</td>\n",
       "      <td>Talcher</td>\n",
       "    </tr>\n",
       "    <tr>\n",
       "      <th>1</th>\n",
       "      <td>milan</td>\n",
       "      <td>80</td>\n",
       "      <td>Cuttack</td>\n",
       "    </tr>\n",
       "    <tr>\n",
       "      <th>2</th>\n",
       "      <td>karan</td>\n",
       "      <td>50</td>\n",
       "      <td>Angul</td>\n",
       "    </tr>\n",
       "  </tbody>\n",
       "</table>\n",
       "</div>"
      ],
      "text/plain": [
       "    name  marks     city\n",
       "0   miku     78  Talcher\n",
       "1  milan     80  Cuttack\n",
       "2  karan     50    Angul"
      ]
     },
     "execution_count": 15,
     "metadata": {},
     "output_type": "execute_result"
    }
   ],
   "source": [
    "df"
   ]
  },
  {
   "cell_type": "code",
   "execution_count": 16,
   "id": "0ba50b1d-71ad-4ea1-a6b3-4ec0c8c64d56",
   "metadata": {},
   "outputs": [],
   "source": [
    "# here i'm changing Index names\n",
    "df.index = ['ek','dui','tini']"
   ]
  },
  {
   "cell_type": "code",
   "execution_count": 17,
   "id": "2c1561ef-a36d-44d0-af9a-6c3c12425b08",
   "metadata": {},
   "outputs": [
    {
     "data": {
      "text/html": [
       "<div>\n",
       "<style scoped>\n",
       "    .dataframe tbody tr th:only-of-type {\n",
       "        vertical-align: middle;\n",
       "    }\n",
       "\n",
       "    .dataframe tbody tr th {\n",
       "        vertical-align: top;\n",
       "    }\n",
       "\n",
       "    .dataframe thead th {\n",
       "        text-align: right;\n",
       "    }\n",
       "</style>\n",
       "<table border=\"1\" class=\"dataframe\">\n",
       "  <thead>\n",
       "    <tr style=\"text-align: right;\">\n",
       "      <th></th>\n",
       "      <th>name</th>\n",
       "      <th>marks</th>\n",
       "      <th>city</th>\n",
       "    </tr>\n",
       "  </thead>\n",
       "  <tbody>\n",
       "    <tr>\n",
       "      <th>ek</th>\n",
       "      <td>miku</td>\n",
       "      <td>78</td>\n",
       "      <td>Talcher</td>\n",
       "    </tr>\n",
       "    <tr>\n",
       "      <th>dui</th>\n",
       "      <td>milan</td>\n",
       "      <td>80</td>\n",
       "      <td>Cuttack</td>\n",
       "    </tr>\n",
       "    <tr>\n",
       "      <th>tini</th>\n",
       "      <td>karan</td>\n",
       "      <td>50</td>\n",
       "      <td>Angul</td>\n",
       "    </tr>\n",
       "  </tbody>\n",
       "</table>\n",
       "</div>"
      ],
      "text/plain": [
       "       name  marks     city\n",
       "ek     miku     78  Talcher\n",
       "dui   milan     80  Cuttack\n",
       "tini  karan     50    Angul"
      ]
     },
     "execution_count": 17,
     "metadata": {},
     "output_type": "execute_result"
    }
   ],
   "source": [
    "df"
   ]
  },
  {
   "cell_type": "code",
   "execution_count": 21,
   "id": "2243aec1",
   "metadata": {},
   "outputs": [],
   "source": [
    "newDf = pd.DataFrame(np.random.rand(200,6))"
   ]
  },
  {
   "cell_type": "code",
   "execution_count": 49,
   "id": "206b585f",
   "metadata": {},
   "outputs": [
    {
     "data": {
      "text/plain": [
       "RangeIndex(start=0, stop=6, step=1)"
      ]
     },
     "execution_count": 49,
     "metadata": {},
     "output_type": "execute_result"
    }
   ],
   "source": [
    "# newDf\n",
    "# newDf.head(7)\n",
    "# type(newDf)\n",
    "# newDf.describe()\n",
    "# newDf.dtypes\n",
    "# newDf[0][1] = 'miku' # here it means newDf['col_name']['rowname'], here 0, 1 are not index number they r index name :)\n",
    "# newDf.index\n",
    "newDf.columns"
   ]
  },
  {
   "cell_type": "code",
   "execution_count": null,
   "id": "0bc087b1",
   "metadata": {},
   "outputs": [],
   "source": []
  }
 ],
 "metadata": {
  "kernelspec": {
   "display_name": "Python 3",
   "language": "python",
   "name": "python3"
  },
  "language_info": {
   "codemirror_mode": {
    "name": "ipython",
    "version": 3
   },
   "file_extension": ".py",
   "mimetype": "text/x-python",
   "name": "python",
   "nbconvert_exporter": "python",
   "pygments_lexer": "ipython3",
   "version": "3.13.5"
  }
 },
 "nbformat": 4,
 "nbformat_minor": 5
}
