{
 "cells": [
  {
   "cell_type": "code",
   "execution_count": null,
   "id": "a506f2f8",
   "metadata": {},
   "outputs": [],
   "source": [
    "import pandas as pd\n",
    "import numpy as np"
   ]
  },
  {
   "cell_type": "markdown",
   "id": "0e0c1193",
   "metadata": {},
   "source": [
    "- #### Pandas DataFrames are two-dimensional data structures with labeled rows and columns, that can hold many data types."
   ]
  },
  {
   "cell_type": "code",
   "execution_count": null,
   "id": "30ffbecb",
   "metadata": {},
   "outputs": [],
   "source": [
    "# Sample dataframe\n",
    "df = pd.DataFrame({\n",
    "    'A': [1,2,3],\n",
    "    'B': [4,5,6],\n",
    "    'C': [7,8,9]\n",
    "})\n",
    "df"
   ]
  },
  {
   "cell_type": "markdown",
   "id": "6d0e76c8",
   "metadata": {},
   "source": [
    "## Axes :---"
   ]
  },
  {
   "cell_type": "code",
   "execution_count": null,
   "id": "715e86b7",
   "metadata": {},
   "outputs": [],
   "source": [
    "# Understanding Axes\n",
    "df.sum() # it sums down 0 axis (rows)\n",
    "df.sum(axis=0) # same as before, sums down 0 axis (cuz axis=0 is default)\n",
    "df.sum(axis=1) # sums across the 1 axis (columns)"
   ]
  },
  {
   "cell_type": "markdown",
   "id": "65f2fc17",
   "metadata": {},
   "source": [
    "## Loading Data into DF :---"
   ]
  },
  {
   "cell_type": "code",
   "execution_count": null,
   "id": "36a14f8c",
   "metadata": {},
   "outputs": [],
   "source": [
    "# Loading data into DF\n",
    "df = pd.read_csv('username-or-email.csv')\n",
    "\n",
    "# limit which rows are read when reading in a file \n",
    "pd.read_csv('username-or-email.csv', nrows=3) # it will only read first 3 rows\n",
    "pd.read_csv('username-or-email.csv', skiprows=[1,4]) # it will skip 1st row(i.e. row-index=0) & 4th row(i.e. row-index=3)\n",
    "\n",
    "# randomly sample a dataframe\n",
    "duffer_1 = df.sample(frac=0.62, random_state=1) # it will contain 62% of the rows\n",
    "print(duffer_1)\n",
    "# this sample() randomly picks rows from df, like sufflinf a deck of cards\n",
    "# And Without random_state=1 we'll get differetn rows everytime but with it we'll get same rows every time\n",
    "duffer_2 = df[~df.index.isin(duffer_1.index)] # it will contain the other 38% of the rows\n",
    "print(duffer_2)\n",
    "\n",
    "# changing the maximum number of rows and columns printed\n",
    "pd.set_option(max_columns,None) # 'None' means 'unlimited'\n",
    "# default is 60 rows\n",
    "\n",
    "pd.set_option(max_columns,None)\n",
    "# default is 60 columns\n",
    "\n",
    "# Reset options to defaults\n",
    "pd.reset_option(max_rows)\n",
    "pd.reset_option(max_columns)"
   ]
  },
  {
   "cell_type": "markdown",
   "id": "c0e7ad1b",
   "metadata": {},
   "source": [
    "## Create DataFrame :---"
   ]
  },
  {
   "cell_type": "code",
   "execution_count": null,
   "id": "fd59e0f5",
   "metadata": {},
   "outputs": [],
   "source": [
    "# Creating a dictionary of pandas series\n",
    "items = {\n",
    "    \"Miku\": pd.Series(data=[100, 33, 181], index=[\"Watches\", \"shoes\", \"books\"]),\n",
    "    \"Milan\": pd.Series(data=[43, 22, 90], index=[\"toys\", \"shoes\", \"bats\"]),\n",
    "    \"Nikita\": pd.Series(data=[90, 28, 187], index=[\"makeup-kit\", \"sarees\", \"books\"]),\n",
    "}\n",
    "\n",
    "print(type(items))  # <class 'dict'>\n",
    "\n",
    "# creating a pandas DataFrame by passing it a dictionary of Series\n",
    "amazon_cart = pd.DataFrame(items)\n",
    "\n",
    "# creating dataframe that only has a subset of the data/colums\n",
    "shoes_shopping_cart = pd.DataFrame(\n",
    "    items, columns=[\"Milan\"]\n",
    ")  # will show everything of 'Milan' column only\n",
    "\n",
    "# creating a dataframe that only has selected keys\n",
    "shopping_cart = pd.DataFrame(\n",
    "    items, index=[\"toys\", \"makeup-kit\"]\n",
    ")  # this will show only 'toys' & 'makeup-kit' index/row for all columns\n",
    "\n",
    "# combining both of the above - i.e. selected keys for selected columns\n",
    "Miku_Nikita_books_shoes_collection = pd.DataFrame(\n",
    "    items, columns=[\"Miku\", \"Nikita\"], index=[\"books\", \"shoes\"]\n",
    ")\n",
    "\n",
    "# Creating DataFrames from a dictionary of lists (arrays)\n",
    "# In this case, however, all the lists (arrays) in the dictionary must be of the same length\n",
    "\n",
    "# Creating a dictioonary of lists (arrays)\n",
    "data = {\"Integers\": [1, 2, 3], \"Floats\": [1.2, 3.4, 5.6]}\n",
    "\n",
    "# Now creating a dataframe using the above lists\n",
    "df = pd.DataFrame(data)\n",
    "\n",
    "# creating a DataFrame & providing the row index for each row/key\n",
    "df = pd.DataFrame(data, index=[\"nums-1\", \"nums-2\", \"nums-3\"])\n",
    "\n",
    "# Creating DataFrames from a list of Python dictionaris\n",
    "# CReating a list of python dictionaries\n",
    "items2 = [\n",
    "    {\"t-shirts\": 5, \"full-shirts\": 2, \"watches\": 3},\n",
    "    {\"bikes\": 0, \"goggles\": 6, \"watches\": 2},\n",
    "]\n",
    "\n",
    "# Creating a DataFrame\n",
    "store_items2 = pd.DataFrame(items2)\n",
    "\n",
    "\n",
    "# Creating a DataFrame and providing th row index\n",
    "store_items2 = pd.DataFrame(items2, index=['store-1','store-2'])\n",
    "print(store_items2)"
   ]
  },
  {
   "cell_type": "markdown",
   "id": "05222c3f",
   "metadata": {},
   "source": [
    "## Create df from Series, dicts :---"
   ]
  },
  {
   "cell_type": "code",
   "execution_count": null,
   "id": "de2e52ad",
   "metadata": {},
   "outputs": [],
   "source": [
    "# creaing dictionary from a bunch of Series/data\n",
    "books = pd.Series(\n",
    "    data=[\n",
    "        \"half-girlfriend\",\n",
    "        \"Of Mice and Men\",\n",
    "        \"Romeo and Juliet\",\n",
    "        \"The Time Machine\",\n",
    "        \"Alice in Wonderland\",\n",
    "    ]\n",
    ")\n",
    "authors = pd.Series(\n",
    "    data=[\n",
    "        \"Chetan Bhagat\",\n",
    "        \"John Steinbeck\",\n",
    "        \"William Shakespeare\",\n",
    "        \" H. G. Wells\",\n",
    "        \"Lewis Carroll\",\n",
    "    ]\n",
    ")\n",
    "\n",
    "user_1 = pd.Series(data=[1.4, 4.5])\n",
    "user_2 = pd.Series(data=[3.5, 9.1, 1.1, 9.0])\n",
    "user_3 = pd.Series(data=[1.4, 5, np.nan, 4.2])\n",
    "user_4 = pd.Series(data=[4, 3.5, 6, 8])\n",
    "\n",
    "a_dict = {'Author':authors, 'Book Title':books, 'User_1':user_1, 'User_2':user_2, 'User_3':user_3, 'User_4':user_4}\n",
    "\n",
    "# Use the dictionary to create a Pandas DataFrame\n",
    "book_ratings = pd.DataFrame(a_dict)\n",
    "\n",
    "# convert to numpy array (remove the column names, get just the values to convert it into a numpy array)\n",
    "book_ratings_numpy = book_ratings.values\n",
    "book_ratings_numpy"
   ]
  },
  {
   "cell_type": "code",
   "execution_count": null,
   "id": "d720fe9c",
   "metadata": {},
   "outputs": [],
   "source": [
    "# CReating a DataFrame from a dictionary\n",
    "pd.DataFrame(\n",
    "    {\n",
    "        \"column_x\": [\"value-x1\", \"value-x2\", \"value-x3\"],\n",
    "        \"column_y\": [\"value-y1\", \"value-y2\", \"value-y3\"],\n",
    "    }\n",
    ")\n",
    "\n",
    "# creatign a DataFrame from a list of lists\n",
    "pd.DataFrame([\n",
    "    ['value_x1','value_y1'],\n",
    "    ['value_x2','value_y2'],\n",
    "    ['value_x3','value_y3']\n",
    "])"
   ]
  },
  {
   "cell_type": "markdown",
   "id": "31de8213",
   "metadata": {},
   "source": [
    "## Accessing Elements :---"
   ]
  },
  {
   "cell_type": "code",
   "execution_count": null,
   "id": "a419e660",
   "metadata": {},
   "outputs": [],
   "source": [
    "# Accessing elements :---\n",
    "# Accesing via col-label\n",
    "print('watches in each store:- \\n',store_items2[['watches']])\n",
    "print('\\nt-shirts & goggles in each store:- \\n',store_items2[['t-shirts','goggles']])\n",
    "\n",
    "# Accessing via row-label\n",
    "print('\\nItems in store-1:-\\n',store_items2.loc[['store-1']])\n",
    "\n",
    "# Accessing via both row & col label\n",
    "print('\\nfull-shirts in store-1:',store_items2['full-shirts']['store-1'])\n",
    "\n",
    "# while accessing individual elements in a dataframe, the labels should always be provided with column label first, then row label \n",
    "# i.e. in the form dataframe[column][row]"
   ]
  },
  {
   "cell_type": "markdown",
   "id": "6b537224",
   "metadata": {},
   "source": [
    "## Modify Elements :---"
   ]
  },
  {
   "cell_type": "code",
   "execution_count": null,
   "id": "3644119a",
   "metadata": {},
   "outputs": [],
   "source": [
    "# Modifying elements\n",
    "# Adding new columns \n",
    "# addin it to the end of the DF)\n",
    "store_items2['suits'] = [22,46]\n",
    "\n",
    "# Adding new column via arithmatic operation between columns\n",
    "store_items2['laptop'] = store_items2['suits'] + store_items2['watches']\n",
    "\n",
    "# Adding new row\n",
    "# To add rows to our df, create a new df then concat it to the original df\n",
    "# creating a dictoinary from a list of python dictionaries\n",
    "new_items = [{'t-shirts':20, 'full-shirts':8, 'watches':10, 'bikes':12, 'goggles':4, 'suits':71, 'laptop': 21}]\n",
    "\n",
    "\n",
    "# Now creating a new dataFrame with the new_items and providing index label as 'store_3\n",
    "new_store = pd.DataFrame(new_items ,index=['store-3'])\n",
    "\n",
    "# concating store-3 to our store_items2 DataFrame\n",
    "store_items2 = pd.concat([store_items2, new_store])\n",
    "\n",
    "# inserting a new column with label bikes rigth before the column with numerical index 4\n",
    "store_items2.insert(4, 'bikes', [2,66,5])\n",
    "\n",
    "print(store_items2)"
   ]
  },
  {
   "cell_type": "markdown",
   "id": "057e4a89",
   "metadata": {},
   "source": [
    "## Deleting Element :---"
   ]
  },
  {
   "cell_type": "code",
   "execution_count": null,
   "id": "75571d7e",
   "metadata": {},
   "outputs": [],
   "source": [
    "# Deleting element\n",
    "# .pop() method only allos us to delete columns, while .drop() method can be used to delete both rows and columns by use of the axis keyword\n",
    "\n",
    "# removing the t-shirts column\n",
    "store_items2.pop('t-shirts')\n",
    "\n",
    "# removing the full-shirts and bikes columns\n",
    "store_items2 = store_items2.drop(['goggles','suits'], axis=1)\n",
    "\n",
    "# removing the store-2 & store-1 rows\n",
    "store_items2 = store_items2.drop(['store-2', 'store-1'], axis=0)"
   ]
  },
  {
   "cell_type": "markdown",
   "id": "94eaefb1",
   "metadata": {},
   "source": [
    "## Rename the Row & Column labels :---"
   ]
  },
  {
   "cell_type": "code",
   "execution_count": null,
   "id": "0d28ff8c",
   "metadata": {},
   "outputs": [],
   "source": [
    "# Renaming the row and column labels\n",
    "# changing the column label\n",
    "store_items2 = store_items2.rename(columns= {'goggles':'skateboards'})\n",
    "\n",
    "# changing the row label\n",
    "store_items2 = store_items2.rename(index= {'store-3':'last-store'})"
   ]
  },
  {
   "cell_type": "markdown",
   "id": "43741948",
   "metadata": {},
   "source": [
    "## Change Index :---"
   ]
  },
  {
   "cell_type": "code",
   "execution_count": null,
   "id": "8c35b197",
   "metadata": {},
   "outputs": [],
   "source": [
    "# Changing Index\n",
    "store_items2 = store_items2.set_index('suits')"
   ]
  },
  {
   "cell_type": "markdown",
   "id": "4c85c9b3",
   "metadata": {},
   "source": [
    "## Dealing with NaN values (missing data) :---"
   ]
  },
  {
   "cell_type": "code",
   "execution_count": 88,
   "id": "46beb071",
   "metadata": {},
   "outputs": [
    {
     "name": "stdout",
     "output_type": "stream",
     "text": [
      "bikes      3\n",
      "pants      3\n",
      "watches    3\n",
      "shirts     2\n",
      "shoes      3\n",
      "suits      2\n",
      "glasses    2\n",
      "dtype: int64\n"
     ]
    }
   ],
   "source": [
    "# Dealing with NaN values (missing data)\n",
    "\n",
    "# creating a list of python dictionaries\n",
    "items2 = [\n",
    "    {\"bikes\": 20, \"pants\": 30, \"watches\": 35, \"shirts\": 15, \"shoes\": 8, \"suits\": 45},\n",
    "    {\n",
    "        \"watches\": 10,\n",
    "        \"glasses\": 50,\n",
    "        \"bikes\": 15,\n",
    "        \"pants\": 5,\n",
    "        \"shirts\": 2,\n",
    "        \"shoes\": 5,\n",
    "        \"suits\": 7,\n",
    "    },\n",
    "    {\"bikes\": 20, \"pants\": 30, \"watches\": 35, \"glasses\": 4, \"shoes\": 10},\n",
    "]\n",
    "\n",
    "# Now creating a dataFrame and providing the row index\n",
    "store_items = pd.DataFrame(items2, index=['store-1','store-2','store-3'])\n",
    "\n",
    "# Checking if there are any NaN values in our dataset \n",
    "# .any() performs an OR operation. If any of the values along the specified axis is True, this will return True .\n",
    "store_items.isnull().any()\n",
    "# output :---\n",
    "'''\n",
    "bikes      False\n",
    "pants      False\n",
    "watches    False\n",
    "shirts      True\n",
    "shoes      False\n",
    "suits       True\n",
    "glasses     True\n",
    "dtype: bool\n",
    "'''\n",
    "\n",
    "# Counting the number of NaN values in DatFrame \n",
    "numOfNaNs = store_items.isnull().sum().sum()\n",
    "\n",
    "# Counting the number os non-NaN values in dataFrame \n",
    "numOfNaNs = store_items.count()\n",
    "print(numOfNaNs)"
   ]
  },
  {
   "cell_type": "code",
   "execution_count": null,
   "id": "c11c0c73",
   "metadata": {},
   "outputs": [],
   "source": []
  }
 ],
 "metadata": {
  "kernelspec": {
   "display_name": "Python 3 (ipykernel)",
   "language": "python",
   "name": "python3"
  },
  "language_info": {
   "codemirror_mode": {
    "name": "ipython",
    "version": 3
   },
   "file_extension": ".py",
   "mimetype": "text/x-python",
   "name": "python",
   "nbconvert_exporter": "python",
   "pygments_lexer": "ipython3",
   "version": "3.13.7"
  }
 },
 "nbformat": 4,
 "nbformat_minor": 5
}
