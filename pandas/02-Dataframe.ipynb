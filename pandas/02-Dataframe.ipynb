{
 "cells": [
  {
   "cell_type": "code",
   "execution_count": 2,
   "id": "a506f2f8",
   "metadata": {},
   "outputs": [],
   "source": [
    "import pandas as pd\n",
    "import numpy as np"
   ]
  },
  {
   "cell_type": "markdown",
   "id": "0e0c1193",
   "metadata": {},
   "source": [
    "- #### Pandas DataFrames are two-dimensional data structures with labeled rows and columns, that can hold many data types."
   ]
  },
  {
   "cell_type": "code",
   "execution_count": 5,
   "id": "30ffbecb",
   "metadata": {},
   "outputs": [
    {
     "data": {
      "text/html": [
       "<div>\n",
       "<style scoped>\n",
       "    .dataframe tbody tr th:only-of-type {\n",
       "        vertical-align: middle;\n",
       "    }\n",
       "\n",
       "    .dataframe tbody tr th {\n",
       "        vertical-align: top;\n",
       "    }\n",
       "\n",
       "    .dataframe thead th {\n",
       "        text-align: right;\n",
       "    }\n",
       "</style>\n",
       "<table border=\"1\" class=\"dataframe\">\n",
       "  <thead>\n",
       "    <tr style=\"text-align: right;\">\n",
       "      <th></th>\n",
       "      <th>A</th>\n",
       "      <th>B</th>\n",
       "      <th>C</th>\n",
       "    </tr>\n",
       "  </thead>\n",
       "  <tbody>\n",
       "    <tr>\n",
       "      <th>0</th>\n",
       "      <td>1</td>\n",
       "      <td>4</td>\n",
       "      <td>7</td>\n",
       "    </tr>\n",
       "    <tr>\n",
       "      <th>1</th>\n",
       "      <td>2</td>\n",
       "      <td>5</td>\n",
       "      <td>8</td>\n",
       "    </tr>\n",
       "    <tr>\n",
       "      <th>2</th>\n",
       "      <td>3</td>\n",
       "      <td>6</td>\n",
       "      <td>9</td>\n",
       "    </tr>\n",
       "  </tbody>\n",
       "</table>\n",
       "</div>"
      ],
      "text/plain": [
       "   A  B  C\n",
       "0  1  4  7\n",
       "1  2  5  8\n",
       "2  3  6  9"
      ]
     },
     "execution_count": 5,
     "metadata": {},
     "output_type": "execute_result"
    }
   ],
   "source": [
    "# Sample dataframe\n",
    "df = pd.DataFrame({\n",
    "    'A': [1,2,3],\n",
    "    'B': [4,5,6],\n",
    "    'C': [7,8,9]\n",
    "})\n",
    "df"
   ]
  },
  {
   "cell_type": "markdown",
   "id": "6d0e76c8",
   "metadata": {},
   "source": [
    "## Axes :---"
   ]
  },
  {
   "cell_type": "code",
   "execution_count": null,
   "id": "715e86b7",
   "metadata": {},
   "outputs": [
    {
     "data": {
      "text/plain": [
       "0    12\n",
       "1    15\n",
       "2    18\n",
       "dtype: int64"
      ]
     },
     "execution_count": 7,
     "metadata": {},
     "output_type": "execute_result"
    }
   ],
   "source": [
    "# Understanding Axes\n",
    "df.sum() # it sums down 0 axis (rows)\n",
    "df.sum(axis=0) # same as before, sums down 0 axis (cuz axis=0 is default)\n",
    "df.sum(axis=1) # sums across the 1 axis (columns)"
   ]
  },
  {
   "cell_type": "markdown",
   "id": "65f2fc17",
   "metadata": {},
   "source": [
    "## Loading Data into DF :---"
   ]
  },
  {
   "cell_type": "code",
   "execution_count": 41,
   "id": "36a14f8c",
   "metadata": {},
   "outputs": [
    {
     "data": {
      "text/html": [
       "<div>\n",
       "<style scoped>\n",
       "    .dataframe tbody tr th:only-of-type {\n",
       "        vertical-align: middle;\n",
       "    }\n",
       "\n",
       "    .dataframe tbody tr th {\n",
       "        vertical-align: top;\n",
       "    }\n",
       "\n",
       "    .dataframe thead th {\n",
       "        text-align: right;\n",
       "    }\n",
       "</style>\n",
       "<table border=\"1\" class=\"dataframe\">\n",
       "  <thead>\n",
       "    <tr style=\"text-align: right;\">\n",
       "      <th></th>\n",
       "      <th>Username;Login email;Identifier;First name;Last name</th>\n",
       "    </tr>\n",
       "  </thead>\n",
       "  <tbody>\n",
       "    <tr>\n",
       "      <th>2</th>\n",
       "      <td>johnson81;craig@yourcompany.com;4081;Craig;Joh...</td>\n",
       "    </tr>\n",
       "    <tr>\n",
       "      <th>1</th>\n",
       "      <td>grey07;laura@yourcompany.com;2070;Laura;Grey</td>\n",
       "    </tr>\n",
       "    <tr>\n",
       "      <th>4</th>\n",
       "      <td>smith79;jamie@example.com;5079;Jamie;Smith</td>\n",
       "    </tr>\n",
       "  </tbody>\n",
       "</table>\n",
       "</div>"
      ],
      "text/plain": [
       "  Username;Login email;Identifier;First name;Last name\n",
       "2  johnson81;craig@yourcompany.com;4081;Craig;Joh...  \n",
       "1       grey07;laura@yourcompany.com;2070;Laura;Grey  \n",
       "4         smith79;jamie@example.com;5079;Jamie;Smith  "
      ]
     },
     "execution_count": 41,
     "metadata": {},
     "output_type": "execute_result"
    }
   ],
   "source": [
    "# Loading data into DF\n",
    "df = pd.read_csv('username-or-email.csv')\n",
    "\n",
    "# limit which rows are read when reading in a file \n",
    "pd.read_csv('username-or-email.csv', nrows=3) # it will only read first 3 rows\n",
    "pd.read_csv('username-or-email.csv', skiprows=[1,4]) # it will skip 1st row(i.e. row-index=0) & 4th row(i.e. row-index=3)\n",
    "\n",
    "# randomly sample a dataframe\n",
    "duffer = df.sample(frac=0.62, random_state=1) # this sample() randomly picks rows from df, like sufflinf a deck of cards\n",
    "# And Without random_state=1 we'll get differetn rows everytime but with it we'll get same rows every time\n",
    "duffer"
   ]
  },
  {
   "cell_type": "code",
   "execution_count": null,
   "id": "fd59e0f5",
   "metadata": {},
   "outputs": [],
   "source": []
  }
 ],
 "metadata": {
  "kernelspec": {
   "display_name": "Python 3",
   "language": "python",
   "name": "python3"
  },
  "language_info": {
   "codemirror_mode": {
    "name": "ipython",
    "version": 3
   },
   "file_extension": ".py",
   "mimetype": "text/x-python",
   "name": "python",
   "nbconvert_exporter": "python",
   "pygments_lexer": "ipython3",
   "version": "3.13.7"
  }
 },
 "nbformat": 4,
 "nbformat_minor": 5
}
