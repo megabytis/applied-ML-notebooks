{
 "cells": [
  {
   "cell_type": "code",
   "execution_count": 1,
   "id": "a506f2f8",
   "metadata": {},
   "outputs": [],
   "source": [
    "import pandas as pd\n",
    "import numpy as np"
   ]
  },
  {
   "cell_type": "markdown",
   "id": "0e0c1193",
   "metadata": {},
   "source": [
    "- #### Pandas DataFrames are two-dimensional data structures with labeled rows and columns, that can hold many data types."
   ]
  },
  {
   "cell_type": "code",
   "execution_count": 2,
   "id": "30ffbecb",
   "metadata": {},
   "outputs": [
    {
     "data": {
      "text/html": [
       "<div>\n",
       "<style scoped>\n",
       "    .dataframe tbody tr th:only-of-type {\n",
       "        vertical-align: middle;\n",
       "    }\n",
       "\n",
       "    .dataframe tbody tr th {\n",
       "        vertical-align: top;\n",
       "    }\n",
       "\n",
       "    .dataframe thead th {\n",
       "        text-align: right;\n",
       "    }\n",
       "</style>\n",
       "<table border=\"1\" class=\"dataframe\">\n",
       "  <thead>\n",
       "    <tr style=\"text-align: right;\">\n",
       "      <th></th>\n",
       "      <th>A</th>\n",
       "      <th>B</th>\n",
       "      <th>C</th>\n",
       "    </tr>\n",
       "  </thead>\n",
       "  <tbody>\n",
       "    <tr>\n",
       "      <th>0</th>\n",
       "      <td>1</td>\n",
       "      <td>4</td>\n",
       "      <td>7</td>\n",
       "    </tr>\n",
       "    <tr>\n",
       "      <th>1</th>\n",
       "      <td>2</td>\n",
       "      <td>5</td>\n",
       "      <td>8</td>\n",
       "    </tr>\n",
       "    <tr>\n",
       "      <th>2</th>\n",
       "      <td>3</td>\n",
       "      <td>6</td>\n",
       "      <td>9</td>\n",
       "    </tr>\n",
       "  </tbody>\n",
       "</table>\n",
       "</div>"
      ],
      "text/plain": [
       "   A  B  C\n",
       "0  1  4  7\n",
       "1  2  5  8\n",
       "2  3  6  9"
      ]
     },
     "execution_count": 2,
     "metadata": {},
     "output_type": "execute_result"
    }
   ],
   "source": [
    "# Sample dataframe\n",
    "df = pd.DataFrame({\n",
    "    'A': [1,2,3],\n",
    "    'B': [4,5,6],\n",
    "    'C': [7,8,9]\n",
    "})\n",
    "df"
   ]
  },
  {
   "cell_type": "markdown",
   "id": "6d0e76c8",
   "metadata": {},
   "source": [
    "## Axes :---"
   ]
  },
  {
   "cell_type": "code",
   "execution_count": 3,
   "id": "715e86b7",
   "metadata": {},
   "outputs": [
    {
     "data": {
      "text/plain": [
       "0    12\n",
       "1    15\n",
       "2    18\n",
       "dtype: int64"
      ]
     },
     "execution_count": 3,
     "metadata": {},
     "output_type": "execute_result"
    }
   ],
   "source": [
    "# Understanding Axes\n",
    "df.sum() # it sums down 0 axis (rows)\n",
    "df.sum(axis=0) # same as before, sums down 0 axis (cuz axis=0 is default)\n",
    "df.sum(axis=1) # sums across the 1 axis (columns)"
   ]
  },
  {
   "cell_type": "markdown",
   "id": "65f2fc17",
   "metadata": {},
   "source": [
    "## Loading Data into DF :---"
   ]
  },
  {
   "cell_type": "code",
   "execution_count": 18,
   "id": "36a14f8c",
   "metadata": {},
   "outputs": [
    {
     "name": "stdout",
     "output_type": "stream",
     "text": [
      "  Username;Login email;Identifier;First name;Last name\n",
      "2  johnson81;craig@yourcompany.com;4081;Craig;Joh...  \n",
      "1       grey07;laura@yourcompany.com;2070;Laura;Grey  \n",
      "4         smith79;jamie@example.com;5079;Jamie;Smith  \n",
      "  Username;Login email;Identifier;First name;Last name\n",
      "0     booker12;rachel@example.com;9012;Rachel;Booker  \n",
      "3       jenkins46;mary@example.com;9346;Mary;Jenkins  \n"
     ]
    },
    {
     "ename": "NameError",
     "evalue": "name 'max_columns' is not defined",
     "output_type": "error",
     "traceback": [
      "\u001b[31m---------------------------------------------------------------------------\u001b[39m",
      "\u001b[31mNameError\u001b[39m                                 Traceback (most recent call last)",
      "\u001b[36mCell\u001b[39m\u001b[36m \u001b[39m\u001b[32mIn[18]\u001b[39m\u001b[32m, line 17\u001b[39m\n\u001b[32m     14\u001b[39m \u001b[38;5;28mprint\u001b[39m(duffer_2)\n\u001b[32m     16\u001b[39m \u001b[38;5;66;03m# changing the maximum number of rows and columns printed\u001b[39;00m\n\u001b[32m---> \u001b[39m\u001b[32m17\u001b[39m pd.set_option(\u001b[43mmax_columns\u001b[49m,\u001b[38;5;28;01mNone\u001b[39;00m) \u001b[38;5;66;03m# 'None' means 'unlimited'\u001b[39;00m\n\u001b[32m     18\u001b[39m \u001b[38;5;66;03m# default is 60 rows\u001b[39;00m\n\u001b[32m     20\u001b[39m pd.set_option(max_columns,\u001b[38;5;28;01mNone\u001b[39;00m)\n",
      "\u001b[31mNameError\u001b[39m: name 'max_columns' is not defined"
     ]
    }
   ],
   "source": [
    "# Loading data into DF\n",
    "df = pd.read_csv('username-or-email.csv')\n",
    "\n",
    "# limit which rows are read when reading in a file \n",
    "pd.read_csv('username-or-email.csv', nrows=3) # it will only read first 3 rows\n",
    "pd.read_csv('username-or-email.csv', skiprows=[1,4]) # it will skip 1st row(i.e. row-index=0) & 4th row(i.e. row-index=3)\n",
    "\n",
    "# randomly sample a dataframe\n",
    "duffer_1 = df.sample(frac=0.62, random_state=1) # it will contain 62% of the rows\n",
    "print(duffer_1)\n",
    "# this sample() randomly picks rows from df, like sufflinf a deck of cards\n",
    "# And Without random_state=1 we'll get differetn rows everytime but with it we'll get same rows every time\n",
    "duffer_2 = df[~df.index.isin(duffer_1.index)] # it will contain the other 38% of the rows\n",
    "print(duffer_2)\n",
    "\n",
    "# changing the maximum number of rows and columns printed\n",
    "pd.set_option(max_columns,None) # 'None' means 'unlimited'\n",
    "# default is 60 rows\n",
    "\n",
    "pd.set_option(max_columns,None)\n",
    "# default is 60 columns\n",
    "\n",
    "# Reset options to defaults\n",
    "pd.reset_option(max_rows)\n",
    "pd.reset_option(max_columns)"
   ]
  },
  {
   "cell_type": "markdown",
   "id": "c0e7ad1b",
   "metadata": {},
   "source": [
    "## Create DataFrame :---"
   ]
  },
  {
   "cell_type": "code",
   "execution_count": null,
   "id": "fd59e0f5",
   "metadata": {},
   "outputs": [],
   "source": []
  }
 ],
 "metadata": {
  "kernelspec": {
   "display_name": "Python 3",
   "language": "python",
   "name": "python3"
  },
  "language_info": {
   "codemirror_mode": {
    "name": "ipython",
    "version": 3
   },
   "file_extension": ".py",
   "mimetype": "text/x-python",
   "name": "python",
   "nbconvert_exporter": "python",
   "pygments_lexer": "ipython3",
   "version": "3.13.7"
  }
 },
 "nbformat": 4,
 "nbformat_minor": 5
}
