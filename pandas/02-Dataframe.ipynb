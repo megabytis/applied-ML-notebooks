{
 "cells": [
  {
   "cell_type": "code",
   "execution_count": 12,
   "id": "a506f2f8",
   "metadata": {},
   "outputs": [],
   "source": [
    "import pandas as pd\n",
    "import numpy as np"
   ]
  },
  {
   "cell_type": "markdown",
   "id": "0e0c1193",
   "metadata": {},
   "source": [
    "- #### Pandas DataFrames are two-dimensional data structures with labeled rows and columns, that can hold many data types."
   ]
  },
  {
   "cell_type": "code",
   "execution_count": 13,
   "id": "30ffbecb",
   "metadata": {},
   "outputs": [
    {
     "data": {
      "text/html": [
       "<div>\n",
       "<style scoped>\n",
       "    .dataframe tbody tr th:only-of-type {\n",
       "        vertical-align: middle;\n",
       "    }\n",
       "\n",
       "    .dataframe tbody tr th {\n",
       "        vertical-align: top;\n",
       "    }\n",
       "\n",
       "    .dataframe thead th {\n",
       "        text-align: right;\n",
       "    }\n",
       "</style>\n",
       "<table border=\"1\" class=\"dataframe\">\n",
       "  <thead>\n",
       "    <tr style=\"text-align: right;\">\n",
       "      <th></th>\n",
       "      <th>A</th>\n",
       "      <th>B</th>\n",
       "      <th>C</th>\n",
       "    </tr>\n",
       "  </thead>\n",
       "  <tbody>\n",
       "    <tr>\n",
       "      <th>0</th>\n",
       "      <td>1</td>\n",
       "      <td>4</td>\n",
       "      <td>7</td>\n",
       "    </tr>\n",
       "    <tr>\n",
       "      <th>1</th>\n",
       "      <td>2</td>\n",
       "      <td>5</td>\n",
       "      <td>8</td>\n",
       "    </tr>\n",
       "    <tr>\n",
       "      <th>2</th>\n",
       "      <td>3</td>\n",
       "      <td>6</td>\n",
       "      <td>9</td>\n",
       "    </tr>\n",
       "  </tbody>\n",
       "</table>\n",
       "</div>"
      ],
      "text/plain": [
       "   A  B  C\n",
       "0  1  4  7\n",
       "1  2  5  8\n",
       "2  3  6  9"
      ]
     },
     "execution_count": 13,
     "metadata": {},
     "output_type": "execute_result"
    }
   ],
   "source": [
    "# Sample dataframe\n",
    "df = pd.DataFrame({\n",
    "    'A': [1,2,3],\n",
    "    'B': [4,5,6],\n",
    "    'C': [7,8,9]\n",
    "})\n",
    "df"
   ]
  },
  {
   "cell_type": "markdown",
   "id": "6d0e76c8",
   "metadata": {},
   "source": [
    "## Axes :---"
   ]
  },
  {
   "cell_type": "code",
   "execution_count": 14,
   "id": "715e86b7",
   "metadata": {},
   "outputs": [
    {
     "data": {
      "text/plain": [
       "0    12\n",
       "1    15\n",
       "2    18\n",
       "dtype: int64"
      ]
     },
     "execution_count": 14,
     "metadata": {},
     "output_type": "execute_result"
    }
   ],
   "source": [
    "# Understanding Axes\n",
    "df.sum() # it sums down 0 axis (rows)\n",
    "df.sum(axis=0) # same as before, sums down 0 axis (cuz axis=0 is default)\n",
    "df.sum(axis=1) # sums across the 1 axis (columns)"
   ]
  },
  {
   "cell_type": "markdown",
   "id": "65f2fc17",
   "metadata": {},
   "source": [
    "## Loading Data into DF :---"
   ]
  },
  {
   "cell_type": "code",
   "execution_count": 15,
   "id": "36a14f8c",
   "metadata": {},
   "outputs": [
    {
     "name": "stdout",
     "output_type": "stream",
     "text": [
      "  Username;Login email;Identifier;First name;Last name\n",
      "2  johnson81;craig@yourcompany.com;4081;Craig;Joh...  \n",
      "1       grey07;laura@yourcompany.com;2070;Laura;Grey  \n",
      "4         smith79;jamie@example.com;5079;Jamie;Smith  \n",
      "  Username;Login email;Identifier;First name;Last name\n",
      "0     booker12;rachel@example.com;9012;Rachel;Booker  \n",
      "3       jenkins46;mary@example.com;9346;Mary;Jenkins  \n"
     ]
    },
    {
     "ename": "NameError",
     "evalue": "name 'max_columns' is not defined",
     "output_type": "error",
     "traceback": [
      "\u001b[31m---------------------------------------------------------------------------\u001b[39m",
      "\u001b[31mNameError\u001b[39m                                 Traceback (most recent call last)",
      "\u001b[36mCell\u001b[39m\u001b[36m \u001b[39m\u001b[32mIn[15]\u001b[39m\u001b[32m, line 17\u001b[39m\n\u001b[32m     14\u001b[39m \u001b[38;5;28mprint\u001b[39m(duffer_2)\n\u001b[32m     16\u001b[39m \u001b[38;5;66;03m# changing the maximum number of rows and columns printed\u001b[39;00m\n\u001b[32m---> \u001b[39m\u001b[32m17\u001b[39m pd.set_option(\u001b[43mmax_columns\u001b[49m,\u001b[38;5;28;01mNone\u001b[39;00m) \u001b[38;5;66;03m# 'None' means 'unlimited'\u001b[39;00m\n\u001b[32m     18\u001b[39m \u001b[38;5;66;03m# default is 60 rows\u001b[39;00m\n\u001b[32m     20\u001b[39m pd.set_option(max_columns,\u001b[38;5;28;01mNone\u001b[39;00m)\n",
      "\u001b[31mNameError\u001b[39m: name 'max_columns' is not defined"
     ]
    }
   ],
   "source": [
    "# Loading data into DF\n",
    "df = pd.read_csv('username-or-email.csv')\n",
    "\n",
    "# limit which rows are read when reading in a file \n",
    "pd.read_csv('username-or-email.csv', nrows=3) # it will only read first 3 rows\n",
    "pd.read_csv('username-or-email.csv', skiprows=[1,4]) # it will skip 1st row(i.e. row-index=0) & 4th row(i.e. row-index=3)\n",
    "\n",
    "# randomly sample a dataframe\n",
    "duffer_1 = df.sample(frac=0.62, random_state=1) # it will contain 62% of the rows\n",
    "print(duffer_1)\n",
    "# this sample() randomly picks rows from df, like sufflinf a deck of cards\n",
    "# And Without random_state=1 we'll get differetn rows everytime but with it we'll get same rows every time\n",
    "duffer_2 = df[~df.index.isin(duffer_1.index)] # it will contain the other 38% of the rows\n",
    "print(duffer_2)\n",
    "\n",
    "# changing the maximum number of rows and columns printed\n",
    "pd.set_option(max_columns,None) # 'None' means 'unlimited'\n",
    "# default is 60 rows\n",
    "\n",
    "pd.set_option(max_columns,None)\n",
    "# default is 60 columns\n",
    "\n",
    "# Reset options to defaults\n",
    "pd.reset_option(max_rows)\n",
    "pd.reset_option(max_columns)"
   ]
  },
  {
   "cell_type": "markdown",
   "id": "c0e7ad1b",
   "metadata": {},
   "source": [
    "## Create DataFrame :---"
   ]
  },
  {
   "cell_type": "code",
   "execution_count": null,
   "id": "fd59e0f5",
   "metadata": {},
   "outputs": [
    {
     "name": "stdout",
     "output_type": "stream",
     "text": [
      "<class 'dict'>\n",
      "   t-shirts  full-shirts  watches  bikes  goggles\n",
      "0       5.0          2.0        3    NaN      NaN\n",
      "1       NaN          NaN        2    0.0      6.0\n"
     ]
    }
   ],
   "source": [
    "# Creating a dictionary of pandas series\n",
    "items = {\n",
    "    \"Miku\": pd.Series(data=[100, 33, 181], index=[\"Watches\", \"shoes\", \"books\"]),\n",
    "    \"Milan\": pd.Series(data=[43, 22, 90], index=[\"toys\", \"shoes\", \"bats\"]),\n",
    "    \"Nikita\": pd.Series(data=[90, 28, 187], index=[\"makeup-kit\", \"sarees\", \"books\"]),\n",
    "}\n",
    "\n",
    "print(type(items))  # <class 'dict'>\n",
    "\n",
    "# creating a pandas DataFrame by passing it a dictionary of Series\n",
    "amazon_cart = pd.DataFrame(items)\n",
    "\n",
    "# creating dataframe that only has a subset of the data/colums\n",
    "shoes_shopping_cart = pd.DataFrame(\n",
    "    items, columns=[\"Milan\"]\n",
    ")  # will show everything of 'Milan' column only\n",
    "\n",
    "# creating a dataframe that only has selected keys\n",
    "shopping_cart = pd.DataFrame(\n",
    "    items, index=[\"toys\", \"makeup-kit\"]\n",
    ")  # this will show only 'toys' & 'makeup-kit' index/row for all columns\n",
    "\n",
    "# combining both of the above - i.e. selected keys for selected columns\n",
    "Miku_Nikita_books_shoes_collection = pd.DataFrame(\n",
    "    items, columns=[\"Miku\", \"Nikita\"], index=[\"books\", \"shoes\"]\n",
    ")\n",
    "\n",
    "# Creating DataFrames from a dictionary of lists (arrays)\n",
    "# In this case, however, all the lists (arrays) in the dictionary must be of the same length\n",
    "\n",
    "# Creating a dictioonary of lists (arrays)\n",
    "data = {\"Integers\": [1, 2, 3], \"Floats\": [1.2, 3.4, 5.6]}\n",
    "\n",
    "# Now creating a dataframe using the above lists\n",
    "df = pd.DataFrame(data)\n",
    "\n",
    "# creating a DataFrame & providing the row index for each row/key\n",
    "df = pd.DataFrame(data, index=[\"nums-1\", \"nums-2\", \"nums-3\"])\n",
    "\n",
    "# Creating DataFrames from a list of Python dictionaris\n",
    "# CReating a list of python dictionaries\n",
    "items2 = [\n",
    "    {\"t-shirts\": 5, \"full-shirts\": 2, \"watches\": 3},\n",
    "    {\"bikes\": 0, \"goggles\": 6, \"watches\": 2},\n",
    "]\n",
    "\n",
    "# Creating a DataFrame\n",
    "store_items2 = pd.DataFrame(items2)\n",
    "\n",
    "\n",
    "# Creating a DataFrame and providing th row index\n",
    "store_items2 = pd.DataFrame(items2, index=['store-1','store-2'])"
   ]
  },
  {
   "cell_type": "markdown",
   "id": "05222c3f",
   "metadata": {},
   "source": [
    "## Create df from Series, dicts :---"
   ]
  },
  {
   "cell_type": "code",
   "execution_count": null,
   "id": "de2e52ad",
   "metadata": {},
   "outputs": [],
   "source": [
    "# creaing dictionary from a bunch of Series/data\n",
    "books = pd.Series(\n",
    "    data=[\n",
    "        \"half-girlfriend\",\n",
    "        \"Of Mice and Men\",\n",
    "        \"Romeo and Juliet\",\n",
    "        \"The Time Machine\",\n",
    "        \"Alice in Wonderland\",\n",
    "    ]\n",
    ")\n",
    "authors = pd.Series(\n",
    "    data=[\n",
    "        \"Chetan Bhagat\",\n",
    "        \"John Steinbeck\",\n",
    "        \"William Shakespeare\",\n",
    "        \" H. G. Wells\",\n",
    "        \"Lewis Carroll\",\n",
    "    ]\n",
    ")\n",
    "\n",
    "user_1 = pd.Series(data=[1.4, 4.5])\n",
    "user_2 = pd.Series(data=[3.5, 9.1, 1.1, 9.0])\n",
    "user_3 = pd.Series(data=[1.4, 5, np.nan, 4.2])\n",
    "user_4 = pd.Series(data=[4, 3.5, 6, 8])\n",
    "\n",
    "a_dict = {'Author':authors, 'Book Title':books, 'User_1':user_1, 'User_2':user_2, 'User_3':user_3, 'User_4':user_4}\n",
    "\n",
    "# Use the dictionary to create a Pandas DataFrame\n",
    "book_ratings = pd.DataFrame(a_dict)\n",
    "\n",
    "# convert to numpy array (remove the column names, get just the values to convert it into a numpy array)\n",
    "book_ratings_numpy = book_ratings.values\n",
    "book_ratings_numpy"
   ]
  },
  {
   "cell_type": "code",
   "execution_count": null,
   "id": "d720fe9c",
   "metadata": {},
   "outputs": [],
   "source": [
    "# CReating a DataFrame from a dictionary\n",
    "pd.DataFrame(\n",
    "    {\n",
    "        \"column_x\": [\"value-x1\", \"value-x2\", \"value-x3\"],\n",
    "        \"column_y\": [\"value-y1\", \"value-y2\", \"value-y3\"],\n",
    "    }\n",
    ")\n",
    "\n",
    "# creatign a DataFrame from a list of lists\n",
    "pd.DataFrame([\n",
    "    ['value_x1','value_y1'],\n",
    "    ['value_x2','value_y2'],\n",
    "    ['value_x3','value_y3']\n",
    "])"
   ]
  },
  {
   "cell_type": "markdown",
   "id": "31de8213",
   "metadata": {},
   "source": [
    "## Accessing Elements :---"
   ]
  },
  {
   "cell_type": "code",
   "execution_count": null,
   "id": "a419e660",
   "metadata": {},
   "outputs": [],
   "source": [
    "# Accessing elements :---\n",
    "# Accesing via col-label\n",
    "print('watches in each store:- \\n',store_items2[['watches']])\n",
    "print('\\nt-shirts & goggles in each store:- \\n',store_items2[['t-shirts','goggles']])\n",
    "\n",
    "# Accessing via row-label\n",
    "print('\\nItems in store-1:-\\n',store_items2.loc[['store-1']])\n",
    "\n",
    "# Accessing via both row & col label\n",
    "print('\\nfull-shirts in store-1:',store_items2['full-shirts']['store-1'])\n",
    "\n",
    "# while accessing individual elements in a dataframe, the labels should always be provided with column label first, then row label \n",
    "# i.e. in the form dataframe[column][row]"
   ]
  },
  {
   "cell_type": "markdown",
   "id": "6b537224",
   "metadata": {},
   "source": [
    "## Modify Elements :---"
   ]
  },
  {
   "cell_type": "code",
   "execution_count": 39,
   "id": "2a43e341",
   "metadata": {},
   "outputs": [
    {
     "data": {
      "text/html": [
       "<div>\n",
       "<style scoped>\n",
       "    .dataframe tbody tr th:only-of-type {\n",
       "        vertical-align: middle;\n",
       "    }\n",
       "\n",
       "    .dataframe tbody tr th {\n",
       "        vertical-align: top;\n",
       "    }\n",
       "\n",
       "    .dataframe thead th {\n",
       "        text-align: right;\n",
       "    }\n",
       "</style>\n",
       "<table border=\"1\" class=\"dataframe\">\n",
       "  <thead>\n",
       "    <tr style=\"text-align: right;\">\n",
       "      <th></th>\n",
       "      <th>t-shirts</th>\n",
       "      <th>full-shirts</th>\n",
       "      <th>watches</th>\n",
       "      <th>bikes</th>\n",
       "      <th>goggles</th>\n",
       "      <th>leggings</th>\n",
       "      <th>slippers</th>\n",
       "      <th>laptops</th>\n",
       "      <th>dumbell-plates</th>\n",
       "    </tr>\n",
       "  </thead>\n",
       "  <tbody>\n",
       "    <tr>\n",
       "      <th>store-1</th>\n",
       "      <td>5.0</td>\n",
       "      <td>15.0</td>\n",
       "      <td>3.0</td>\n",
       "      <td>NaN</td>\n",
       "      <td>NaN</td>\n",
       "      <td>20.0</td>\n",
       "      <td>NaN</td>\n",
       "      <td>NaN</td>\n",
       "      <td>NaN</td>\n",
       "    </tr>\n",
       "    <tr>\n",
       "      <th>store-2</th>\n",
       "      <td>NaN</td>\n",
       "      <td>20.0</td>\n",
       "      <td>2.0</td>\n",
       "      <td>0.0</td>\n",
       "      <td>6.0</td>\n",
       "      <td>NaN</td>\n",
       "      <td>NaN</td>\n",
       "      <td>NaN</td>\n",
       "      <td>NaN</td>\n",
       "    </tr>\n",
       "    <tr>\n",
       "      <th>store-3</th>\n",
       "      <td>NaN</td>\n",
       "      <td>NaN</td>\n",
       "      <td>NaN</td>\n",
       "      <td>NaN</td>\n",
       "      <td>NaN</td>\n",
       "      <td>NaN</td>\n",
       "      <td>18.0</td>\n",
       "      <td>5.0</td>\n",
       "      <td>8.0</td>\n",
       "    </tr>\n",
       "  </tbody>\n",
       "</table>\n",
       "</div>"
      ],
      "text/plain": [
       "         t-shirts  full-shirts  watches  bikes  goggles  leggings  slippers  \\\n",
       "store-1       5.0         15.0      3.0    NaN      NaN      20.0       NaN   \n",
       "store-2       NaN         20.0      2.0    0.0      6.0       NaN       NaN   \n",
       "store-3       NaN          NaN      NaN    NaN      NaN       NaN      18.0   \n",
       "\n",
       "         laptops  dumbell-plates  \n",
       "store-1      NaN             NaN  \n",
       "store-2      NaN             NaN  \n",
       "store-3      5.0             8.0  "
      ]
     },
     "execution_count": 39,
     "metadata": {},
     "output_type": "execute_result"
    }
   ],
   "source": [
    "# Modifying Elements\n",
    "# Adding new column (adds it to the end of the DataFrame)\n",
    "store_items2[\"full-shirts\"] = [15, 20]\n",
    "\n",
    "# Adding new column\n",
    "# Via arithmetic operations between columns\n",
    "store_items2[\"leggings\"] = store_items2[\"full-shirts\"] + store_items2[\"t-shirts\"]\n",
    "\n",
    "# Adding new Row\n",
    "# by creating a new df then applying it to the original df\n",
    "# creatign a new dictionary froma list of python dicionaries\n",
    "new_items = [{\"slippers\": 18, \"laptops\": 5, \"dumbell-plates\": 8}]\n",
    "\n",
    "# Now creating a new df wih new items and providing an index label 'store-3'\n",
    "new_store = pd.DataFrame(new_items, index=[\"store-3\"])\n",
    "\n",
    "# Now i'll concat store-3 to our store_items2 DataFrame\n",
    "store_items2 = pd.concat([store_items2, new_store])\n",
    "store_items2"
   ]
  },
  {
   "cell_type": "code",
   "execution_count": null,
   "id": "9ebc5b14",
   "metadata": {},
   "outputs": [],
   "source": []
  }
 ],
 "metadata": {
  "kernelspec": {
   "display_name": "Python 3",
   "language": "python",
   "name": "python3"
  },
  "language_info": {
   "codemirror_mode": {
    "name": "ipython",
    "version": 3
   },
   "file_extension": ".py",
   "mimetype": "text/x-python",
   "name": "python",
   "nbconvert_exporter": "python",
   "pygments_lexer": "ipython3",
   "version": "3.13.7"
  }
 },
 "nbformat": 4,
 "nbformat_minor": 5
}
