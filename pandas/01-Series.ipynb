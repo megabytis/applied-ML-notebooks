{
 "cells": [
  {
   "cell_type": "markdown",
   "id": "9b5d49aa",
   "metadata": {},
   "source": [
    "## 1. What is a Series?\n",
    "\n",
    "- A 1D labeled array in pandas (similar to NumPy array but with index labels).\n",
    "\n",
    "- Can hold different data types (int, float, string, object, etc.).\n",
    "\n",
    "- Very useful for working with columns or 1D data in ML preprocessing."
   ]
  },
  {
   "cell_type": "code",
   "execution_count": 3,
   "id": "2a41bd8c-c203-4553-9c0b-1956693a4a81",
   "metadata": {},
   "outputs": [
    {
     "name": "stdout",
     "output_type": "stream",
     "text": [
      "zsh:1: command not found: pip\n"
     ]
    }
   ],
   "source": [
    "!pip install pandas"
   ]
  },
  {
   "cell_type": "code",
   "execution_count": 2,
   "id": "b9401915",
   "metadata": {},
   "outputs": [
    {
     "ename": "ModuleNotFoundError",
     "evalue": "No module named 'pandas'",
     "output_type": "error",
     "traceback": [
      "\u001b[31m---------------------------------------------------------------------------\u001b[39m",
      "\u001b[31mModuleNotFoundError\u001b[39m                       Traceback (most recent call last)",
      "\u001b[36mCell\u001b[39m\u001b[36m \u001b[39m\u001b[32mIn[2]\u001b[39m\u001b[32m, line 1\u001b[39m\n\u001b[32m----> \u001b[39m\u001b[32m1\u001b[39m \u001b[38;5;28;01mimport\u001b[39;00m\u001b[38;5;250m \u001b[39m\u001b[34;01mpandas\u001b[39;00m\u001b[38;5;250m \u001b[39m\u001b[38;5;28;01mas\u001b[39;00m\u001b[38;5;250m \u001b[39m\u001b[34;01mpd\u001b[39;00m\n\u001b[32m      2\u001b[39m \u001b[38;5;28;01mimport\u001b[39;00m\u001b[38;5;250m \u001b[39m\u001b[34;01mnumpy\u001b[39;00m\u001b[38;5;250m \u001b[39m\u001b[38;5;28;01mas\u001b[39;00m\u001b[38;5;250m \u001b[39m\u001b[34;01mnp\u001b[39;00m\n",
      "\u001b[31mModuleNotFoundError\u001b[39m: No module named 'pandas'"
     ]
    }
   ],
   "source": [
    "import pandas as pd\n",
    "import numpy as np"
   ]
  },
  {
   "cell_type": "markdown",
   "id": "32ce1a6b",
   "metadata": {},
   "source": [
    "## 2. Creating Series"
   ]
  },
  {
   "cell_type": "code",
   "execution_count": null,
   "id": "f4c062fb",
   "metadata": {},
   "outputs": [],
   "source": [
    "# From a Python list\n",
    "pd.Series([10, 20, 30, 40])\n",
    "\n",
    "# With custom index\n",
    "pd.Series([10, 20, 30], index=[\"Math\", \"Science\", \"History\"])\n",
    "\n",
    "# From a dictionary (keys = index, values = data)\n",
    "pd.Series({\"Math\": 90, \"Science\": 80, \"History\": 70})\n",
    "\n",
    "# From a NumPy array\n",
    "pd.Series(np.array([1, 2, 3, 4]))\n",
    "\n",
    "# From a scalar value\n",
    "pd.Series(5, index=[1, 2, 3, 4])   # Every index will have value 5\n"
   ]
  },
  {
   "cell_type": "markdown",
   "id": "4fc1d016",
   "metadata": {},
   "source": [
    "## 3. Attributes"
   ]
  },
  {
   "cell_type": "code",
   "execution_count": null,
   "id": "1e1759e5",
   "metadata": {},
   "outputs": [],
   "source": [
    "marks = pd.Series({\"Math\":90, \"Science\":80, \"History\":70})\n",
    "\n",
    "marks.shape     # (3,) → size of Series\n",
    "marks.size      # 3 → number of elements\n",
    "marks.ndim      # 1 → always 1D\n",
    "marks.values    # array([90, 80, 70])\n",
    "marks.index     # Index(['Math', 'Science', 'History'], dtype='object')"
   ]
  },
  {
   "cell_type": "markdown",
   "id": "1e687f35",
   "metadata": {},
   "source": [
    "## 4. Accessing Elements"
   ]
  },
  {
   "cell_type": "code",
   "execution_count": null,
   "id": "e2fbb6bb",
   "metadata": {},
   "outputs": [],
   "source": [
    "# By label\n",
    "marks[\"Math\"]  \n",
    "\n",
    "# By multiple labels\n",
    "marks[[\"Math\", \"Science\"]]\n",
    "\n",
    "# By position\n",
    "marks.iloc[0]      # 90\n",
    "marks.iloc[0:2]    # first two values\n",
    "\n",
    "# Boolean indexing\n",
    "marks[marks > 75]   # filter values > 75\n"
   ]
  },
  {
   "cell_type": "markdown",
   "id": "461d2ab2",
   "metadata": {},
   "source": [
    "## 5. Modifying & Deleting"
   ]
  },
  {
   "cell_type": "code",
   "execution_count": null,
   "id": "6d6d171f",
   "metadata": {},
   "outputs": [],
   "source": [
    "# Update value\n",
    "marks[\"Math\"] = 95\n",
    "\n",
    "# Delete\n",
    "marks.drop(\"History\")      # returns new Series\n",
    "marks.drop(\"History\", inplace=True)   # modifies original\n"
   ]
  },
  {
   "cell_type": "markdown",
   "id": "876cfe8d",
   "metadata": {},
   "source": [
    "## 6. Arithmetic Operations\n",
    "\n",
    "- Vectorized operations (work element-wise):"
   ]
  },
  {
   "cell_type": "code",
   "execution_count": null,
   "id": "051a8de8",
   "metadata": {},
   "outputs": [],
   "source": [
    "marks + 10         # add 10 to each value\n",
    "marks * 2          # multiply each value by 2\n",
    "np.log(marks)      # NumPy functions also work\n"
   ]
  },
  {
   "cell_type": "markdown",
   "id": "c674f280",
   "metadata": {},
   "source": [
    "## 7. Handling Missing Data (Critical for ML 🚨)"
   ]
  },
  {
   "cell_type": "code",
   "execution_count": null,
   "id": "3a1d2342",
   "metadata": {},
   "outputs": [],
   "source": [
    "data = pd.Series([1, np.nan, 3, None, 5])\n",
    "\n",
    "data.isnull()        # True for NaN/None\n",
    "data.notnull()       # False for NaN/None\n",
    "\n",
    "data.fillna(0)       # replace missing with 0\n",
    "data.fillna(data.mean())   # replace with mean\n",
    "\n",
    "data.dropna()        # remove missing values\n"
   ]
  },
  {
   "cell_type": "markdown",
   "id": "6e9f4fa2",
   "metadata": {},
   "source": [
    "## 8. Statistical & Descriptive Methods"
   ]
  },
  {
   "cell_type": "code",
   "execution_count": null,
   "id": "8c6a1264",
   "metadata": {},
   "outputs": [],
   "source": [
    "marks.sum()          # 245\n",
    "marks.mean()         # average\n",
    "marks.max()          # max\n",
    "marks.min()          # min\n",
    "marks.describe()     # summary statistics\n",
    "marks.value_counts() # frequency of unique values\n",
    "marks.unique()       # unique values\n",
    "marks.nunique()      # count of unique values\n"
   ]
  },
  {
   "cell_type": "markdown",
   "id": "9761abb7",
   "metadata": {},
   "source": [
    "## 9. Sorting & Index Operations"
   ]
  },
  {
   "cell_type": "code",
   "execution_count": null,
   "id": "f93aa7e4",
   "metadata": {},
   "outputs": [],
   "source": [
    "marks.sort_index()      # sort by labels\n",
    "marks.sort_values()     # sort by values\n",
    "marks.rename(\"Scores\")  # rename series\n"
   ]
  },
  {
   "cell_type": "markdown",
   "id": "fa7cfa46",
   "metadata": {},
   "source": [
    "## 10. String Operations (Useful for Text Data in ML)"
   ]
  },
  {
   "cell_type": "code",
   "execution_count": null,
   "id": "e8b90bbd",
   "metadata": {},
   "outputs": [],
   "source": [
    "fruits = pd.Series([\"apple\", \"banana\", \"orange\", None])\n",
    "\n",
    "fruits.str.upper()           # convert to uppercase\n",
    "fruits.str.contains(\"an\")    # check substring\n",
    "fruits.str.len()             # string length\n"
   ]
  },
  {
   "cell_type": "markdown",
   "id": "824dece1",
   "metadata": {},
   "source": [
    "## 11. Apply & Map (Custom Functions)"
   ]
  },
  {
   "cell_type": "code",
   "execution_count": null,
   "id": "3b86b6f1",
   "metadata": {},
   "outputs": [],
   "source": [
    "marks.apply(lambda x: x/10)   # scale values\n",
    "marks.map({90: \"A\", 80: \"B\"}) # map values\n"
   ]
  },
  {
   "cell_type": "code",
   "execution_count": null,
   "id": "04c97654",
   "metadata": {},
   "outputs": [],
   "source": []
  }
 ],
 "metadata": {
  "kernelspec": {
   "display_name": "Python 3 (ipykernel)",
   "language": "python",
   "name": "python3"
  },
  "language_info": {
   "codemirror_mode": {
    "name": "ipython",
    "version": 3
   },
   "file_extension": ".py",
   "mimetype": "text/x-python",
   "name": "python",
   "nbconvert_exporter": "python",
   "pygments_lexer": "ipython3",
   "version": "3.13.7"
  }
 },
 "nbformat": 4,
 "nbformat_minor": 5
}
