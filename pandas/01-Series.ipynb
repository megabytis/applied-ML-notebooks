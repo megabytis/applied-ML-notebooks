{
 "cells": [
  {
   "cell_type": "code",
   "execution_count": 1,
   "id": "b9401915",
   "metadata": {},
   "outputs": [],
   "source": [
    "import pandas as pd"
   ]
  },
  {
   "cell_type": "markdown",
   "id": "9b5d49aa",
   "metadata": {},
   "source": [
    "1D array-like object that can hold many data types. One of the main differences between Pandas Series and NumPy ndarrays is that you can assign an index label to each element in the Pandas Series. Another big difference is that Pandas Series can hold data of different data types."
   ]
  },
  {
   "cell_type": "markdown",
   "id": "32ce1a6b",
   "metadata": {},
   "source": [
    "## Create Series :---"
   ]
  },
  {
   "cell_type": "code",
   "execution_count": 3,
   "id": "50d8277d",
   "metadata": {},
   "outputs": [
    {
     "data": {
      "text/plain": [
       "Math               100\n",
       "Biology             80\n",
       "History      Just_Pass\n",
       "Geography         Fail\n",
       "dtype: object"
      ]
     },
     "execution_count": 3,
     "metadata": {},
     "output_type": "execute_result"
    }
   ],
   "source": [
    "# Syntax :-- pd.Series(data,index)\n",
    "marksheet = pd.Series(data= [100,80,'Just_Pass', 'Fail'], index=['Math','Biology','History','Geography'])\n",
    "marksheet"
   ]
  },
  {
   "cell_type": "markdown",
   "id": "4fc1d016",
   "metadata": {},
   "source": [
    "## shape, size, values, index, ndim :---"
   ]
  },
  {
   "cell_type": "code",
   "execution_count": 10,
   "id": "1e1759e5",
   "metadata": {},
   "outputs": [
    {
     "name": "stdout",
     "output_type": "stream",
     "text": [
      "marksheet has shape: (4,)\n",
      "marksheet has dimesion: 1\n",
      "marksheet has a total elements: 4\n",
      "The data in marksheet are: [100 80 'Just_Pass' 'Fail']\n",
      "The indexes in marksheet are: Index(['Math', 'Biology', 'History', 'Geography'], dtype='object')\n"
     ]
    }
   ],
   "source": [
    "print(\"marksheet has shape:\",marksheet.shape)\n",
    "print(\"marksheet has dimesion:\",marksheet.ndim)\n",
    "print(\"marksheet has a total elements:\",marksheet.size)\n",
    "print(\"The data in marksheet are:\",marksheet.values)\n",
    "print(\"The indexes in marksheet are:\",marksheet.index)"
   ]
  },
  {
   "cell_type": "markdown",
   "id": "1e687f35",
   "metadata": {},
   "source": [
    "## check whether an index label exists in Series :---"
   ]
  },
  {
   "cell_type": "code",
   "execution_count": 14,
   "id": "e2fbb6bb",
   "metadata": {},
   "outputs": [
    {
     "data": {
      "text/plain": [
       "True"
      ]
     },
     "execution_count": 14,
     "metadata": {},
     "output_type": "execute_result"
    }
   ],
   "source": [
    "x = 'Geography' in marksheet\n",
    "x"
   ]
  },
  {
   "cell_type": "markdown",
   "id": "461d2ab2",
   "metadata": {},
   "source": [
    "## Accessing Elements :---"
   ]
  },
  {
   "cell_type": "code",
   "execution_count": 20,
   "id": "6d6d171f",
   "metadata": {},
   "outputs": [
    {
     "name": "stdout",
     "output_type": "stream",
     "text": [
      "How much i secured in Math: 100\n",
      "My performance in History & Geography:\n",
      " History      Just_Pass\n",
      "Geography         Fail\n",
      "dtype: object\n",
      "My marks in Biology & Mathematics:\n",
      " Biology     80\n",
      "Math       100\n",
      "dtype: object\n"
     ]
    }
   ],
   "source": [
    "# using index labels :-\n",
    "# Single index label\n",
    "print(\"How much i secured in Math:\",marksheet['Math'])\n",
    "\n",
    "# access multiple index labels\n",
    "print(\"My performance in History & Geography:\\n\",marksheet[['History','Geography']])\n",
    "\n",
    "# use loc to access multiple index labels\n",
    "print(\"My marks in Biology & Mathematics:\\n\",marksheet.loc[['Biology','Math']])"
   ]
  },
  {
   "cell_type": "code",
   "execution_count": null,
   "id": "2539ea10",
   "metadata": {},
   "outputs": [],
   "source": []
  }
 ],
 "metadata": {
  "kernelspec": {
   "display_name": "Python 3",
   "language": "python",
   "name": "python3"
  },
  "language_info": {
   "codemirror_mode": {
    "name": "ipython",
    "version": 3
   },
   "file_extension": ".py",
   "mimetype": "text/x-python",
   "name": "python",
   "nbconvert_exporter": "python",
   "pygments_lexer": "ipython3",
   "version": "3.13.5"
  }
 },
 "nbformat": 4,
 "nbformat_minor": 5
}
