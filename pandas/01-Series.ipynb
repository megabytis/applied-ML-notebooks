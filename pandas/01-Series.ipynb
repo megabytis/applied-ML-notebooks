{
 "cells": [
  {
   "cell_type": "code",
   "execution_count": 1,
   "id": "b9401915",
   "metadata": {},
   "outputs": [],
   "source": [
    "import pandas as pd\n",
    "import numpy as np"
   ]
  },
  {
   "cell_type": "markdown",
   "id": "9b5d49aa",
   "metadata": {},
   "source": [
    "- #### 1D array-like object that can hold many data types.\n",
    "- #### One of the main differences between Pandas Series and NumPy ndarrays is that you can assign an index label to each element in the Pandas Series.\n",
    "- #### Another big difference is that Pandas Series can hold data of different data types."
   ]
  },
  {
   "cell_type": "markdown",
   "id": "32ce1a6b",
   "metadata": {},
   "source": [
    "## Creating Series :---"
   ]
  },
  {
   "cell_type": "code",
   "execution_count": 2,
   "id": "f4c062fb",
   "metadata": {},
   "outputs": [
    {
     "name": "stdout",
     "output_type": "stream",
     "text": [
      "0    11\n",
      "1    22\n",
      "2    33\n",
      "3    44\n",
      "4    55\n",
      "dtype: int64\n",
      "Name             Madhusudan\n",
      "Age                      21\n",
      "College    Utkal University\n",
      "dtype: object\n",
      "Math               100\n",
      "Biology             80\n",
      "History      Just_Pass\n",
      "Geography         Fail\n",
      "dtype: object \n",
      " Math               100\n",
      "Biology             80\n",
      "History      Just_Pass\n",
      "Geography         Fail\n",
      "dtype: object\n"
     ]
    }
   ],
   "source": [
    "# Syntax :-- pd.Series(data,index)\n",
    "\n",
    "# simple series\n",
    "nums_arr = [11,22,33,44,55]\n",
    "series = pd.Series(nums_arr)\n",
    "print(series)\n",
    "# 👆 here default indexes are 0,1,2,3.....\n",
    "\n",
    "# creating series from dictionary\n",
    "dic = {\n",
    "    'Name': 'Madhusudan',\n",
    "    'Age': 21,\n",
    "    'College': 'Utkal University'\n",
    "}\n",
    "dic_to_series = pd.Series(dic)\n",
    "print(dic_to_series)\n",
    "# 👆 here default indexes are 'Name','Age' etc....\n",
    "\n",
    "data = [100,80,'Just_Pass', 'Fail']\n",
    "indexes = ['Math','Biology','History','Geography']\n",
    "\n",
    "marksheet = pd.Series(data,indexes)\n",
    "# --------------------OR---------------------\n",
    "marksheet2 = pd.Series(data= data, index= indexes)\n",
    "\n",
    "print(marksheet,'\\n',marksheet2)"
   ]
  },
  {
   "cell_type": "markdown",
   "id": "4fc1d016",
   "metadata": {},
   "source": [
    "## shape, size, values, index, ndim :---"
   ]
  },
  {
   "cell_type": "code",
   "execution_count": 3,
   "id": "1e1759e5",
   "metadata": {},
   "outputs": [
    {
     "name": "stdout",
     "output_type": "stream",
     "text": [
      "marksheet has shape: (4,)\n",
      "marksheet has dimesion: 1\n",
      "marksheet has a total elements: 4\n",
      "The data in marksheet are: [100 80 'Just_Pass' 'Fail']\n",
      "The indexes in marksheet are: Index(['Math', 'Biology', 'History', 'Geography'], dtype='object')\n"
     ]
    }
   ],
   "source": [
    "print(\"marksheet has shape:\",marksheet.shape)\n",
    "print(\"marksheet has dimesion:\",marksheet.ndim)\n",
    "print(\"marksheet has a total elements:\",marksheet.size)\n",
    "print(\"The data in marksheet are:\",marksheet.values)\n",
    "print(\"The indexes in marksheet are:\",marksheet.index)"
   ]
  },
  {
   "cell_type": "markdown",
   "id": "1e687f35",
   "metadata": {},
   "source": [
    "## check whether an index label exists in Series :---"
   ]
  },
  {
   "cell_type": "code",
   "execution_count": 4,
   "id": "e2fbb6bb",
   "metadata": {},
   "outputs": [
    {
     "data": {
      "text/plain": [
       "True"
      ]
     },
     "execution_count": 4,
     "metadata": {},
     "output_type": "execute_result"
    }
   ],
   "source": [
    "x = 'Geography' in marksheet\n",
    "x"
   ]
  },
  {
   "cell_type": "markdown",
   "id": "461d2ab2",
   "metadata": {},
   "source": [
    "## Accessing Elements :---"
   ]
  },
  {
   "cell_type": "code",
   "execution_count": 5,
   "id": "6d6d171f",
   "metadata": {},
   "outputs": [
    {
     "name": "stdout",
     "output_type": "stream",
     "text": [
      "How much i secured in Math: 100\n",
      "My performance in History & Geography:\n",
      " History      Just_Pass\n",
      "Geography         Fail\n",
      "dtype: object\n",
      "My marks in Biology & Mathematics:\n",
      " Biology     80\n",
      "Math       100\n",
      "dtype: object\n",
      "My performance in geography, bio & math:\n",
      " Geography    Fail\n",
      "Math          100\n",
      "Biology        80\n",
      "dtype: object\n"
     ]
    }
   ],
   "source": [
    "# using index labels :-\n",
    "# Single index label\n",
    "print(\"How much i secured in Math:\",marksheet['Math'])\n",
    "\n",
    "# access multiple index labels\n",
    "print(\"My performance in History & Geography:\\n\",marksheet[['History','Geography']])\n",
    "\n",
    "# using 'loc' (stands for location) to access multiple index labels\n",
    "print(\"My marks in Biology & Mathematics:\\n\",marksheet.loc[['Biology','Math']])\n",
    "\n",
    "# uing 'iloc' (stands for integer location) to access multiple numerical indices\n",
    "print(\"My performance in geography, bio & math:\\n\",marksheet.iloc[[-1,0,1]])"
   ]
  },
  {
   "cell_type": "markdown",
   "id": "876cfe8d",
   "metadata": {},
   "source": [
    "## Changing & Deleting Elements :---"
   ]
  },
  {
   "cell_type": "code",
   "execution_count": 6,
   "id": "051a8de8",
   "metadata": {},
   "outputs": [
    {
     "name": "stdout",
     "output_type": "stream",
     "text": [
      "Before Changing:\n",
      " Math               100\n",
      "Biology             80\n",
      "History      Just_Pass\n",
      "Geography         Fail\n",
      "dtype: object\n",
      "\n",
      "After Changing:\n",
      " Math         99.9\n",
      "Biology        97\n",
      "History      Fail\n",
      "Geography    Pass\n",
      "dtype: object\n",
      "\n",
      "in marksheet_copy:\n",
      " Math         99.9\n",
      "Biology        97\n",
      "Geography    Pass\n",
      "dtype: object\n",
      "\n",
      "in original marksheet:\n",
      " Math         99.9\n",
      "Biology        97\n",
      "History      Fail\n",
      "Geography    Pass\n",
      "dtype: object\n",
      "\n",
      "now deleted from original:\n",
      " Math         99.9\n",
      "Biology        97\n",
      "Geography    Pass\n",
      "dtype: object\n"
     ]
    }
   ],
   "source": [
    "# Changing elements\n",
    "print(\"Before Changing:\\n\",marksheet)\n",
    "marksheet['Geography'], marksheet['Biology'], marksheet['History'], marksheet['Math'] = 'Pass',97,'Fail', 99.9\n",
    "print(\"\\nAfter Changing:\\n\",marksheet)\n",
    "\n",
    "# Deleting Elements\n",
    "# marksheet.drop('History', inplace=True)\n",
    "marksheet_copy = marksheet.drop('History')\n",
    "\n",
    "print(\"\\nin marksheet_copy:\\n\",marksheet_copy) # history mark & subject removed\n",
    "print(\"\\nin original marksheet:\\n\",marksheet) # in original history is not removed\n",
    "# so, to delete permanently from original by setting keyword 'inplace' to True\n",
    "marksheet.drop('History', inplace=True)\n",
    "print(\"\\nnow deleted from original:\\n\",marksheet) # now history will be deleted from original marksheet "
   ]
  },
  {
   "cell_type": "markdown",
   "id": "c674f280",
   "metadata": {},
   "source": [
    "## Arithmetic Operations :---"
   ]
  },
  {
   "cell_type": "code",
   "execution_count": 7,
   "id": "3a1d2342",
   "metadata": {},
   "outputs": [
    {
     "data": {
      "text/plain": [
       "Math       990\n",
       "Science    830\n",
       "dtype: int64"
      ]
     },
     "execution_count": 7,
     "metadata": {},
     "output_type": "execute_result"
    }
   ],
   "source": [
    "marks = pd.Series(data=[83,30,99], index=['Science','History','Math'])\n",
    "\n",
    "# We can perform element-wise arithmetic operations on pandas series\n",
    "# here ORIGINAL SERIES WILL NOT BE AFFECTED\n",
    "marks + 100 # it adds 100 with all elements of marks series\n",
    "marks - 100\n",
    "marks * 69\n",
    "marks / 5\n",
    "\n",
    "# applying mathematical functions from NumPy to all elements of a Series\n",
    "np.exp(marks)\n",
    "np.sqrt(marks)\n",
    "np.power(marks,2)\n",
    "\n",
    "# Applies arithmetic operations only on selected items in series\n",
    "marks['History'] + 70\n",
    "marks.iloc[1]\n",
    "marks[['Math','Science']] * 10\n",
    "\n",
    "# We can apply arithmetic operations on a Series of mixed data-type provided that the arithmetic operation is defined for all data-types in the Series, otherwise we'll get an error"
   ]
  },
  {
   "cell_type": "code",
   "execution_count": null,
   "id": "8c6a1264",
   "metadata": {},
   "outputs": [],
   "source": []
  }
 ],
 "metadata": {
  "kernelspec": {
   "display_name": "Python 3",
   "language": "python",
   "name": "python3"
  },
  "language_info": {
   "codemirror_mode": {
    "name": "ipython",
    "version": 3
   },
   "file_extension": ".py",
   "mimetype": "text/x-python",
   "name": "python",
   "nbconvert_exporter": "python",
   "pygments_lexer": "ipython3",
   "version": "3.13.7"
  }
 },
 "nbformat": 4,
 "nbformat_minor": 5
}
