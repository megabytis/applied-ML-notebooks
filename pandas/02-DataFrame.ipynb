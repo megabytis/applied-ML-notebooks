{
 "cells": [
  {
   "cell_type": "markdown",
   "id": "c00d3d69",
   "metadata": {},
   "source": [
    "## 1. Introduction to DataFrame\n",
    "\n",
    "- A DataFrame is a 2D tabular structure (rows × columns).\n",
    "\n",
    "- Think of it as:\n",
    "\n",
    "    - Excel sheet in Python.\n",
    "\n",
    "    - SQL table in memory.\n",
    "\n",
    "    - Dataset you’ll feed to ML models.\n",
    "\n",
    "- Why important in ML?\n",
    "    - Most datasets (CSV, JSON, SQL dumps) are read into Pandas DataFrames before cleaning, analyzing, and training."
   ]
  },
  {
   "cell_type": "code",
   "execution_count": null,
   "id": "580ff55c",
   "metadata": {},
   "outputs": [],
   "source": [
    "import pandas as pd\n",
    "import numpy as np"
   ]
  },
  {
   "cell_type": "markdown",
   "id": "95da3472",
   "metadata": {},
   "source": [
    "## 2. Creating DataFrames\n",
    "\n",
    "- From a dictionary of lists/arrays.\n",
    "\n",
    "- From list of dicts.\n",
    "\n",
    "- From NumPy arrays.\n",
    "\n",
    "- From Series."
   ]
  },
  {
   "cell_type": "code",
   "execution_count": null,
   "id": "312d79c6",
   "metadata": {},
   "outputs": [],
   "source": [
    "# From dict of lists\n",
    "df1 = pd.DataFrame({\n",
    "    \"Name\": [\"A\", \"B\", \"C\"],\n",
    "    \"Age\": [21, 22, 23],\n",
    "    \"Score\": [85, 90, 95]\n",
    "})\n",
    "\n",
    "# From list of dicts\n",
    "df2 = pd.DataFrame([\n",
    "    {\"Name\": \"A\", \"Age\": 21, \"Score\": 85},\n",
    "    {\"Name\": \"B\", \"Age\": 22, \"Score\": 90}\n",
    "])\n",
    "\n",
    "# From NumPy array\n",
    "arr = np.arange(9).reshape(3,3)\n",
    "df3 = pd.DataFrame(arr, columns=[\"A\",\"B\",\"C\"])\n"
   ]
  },
  {
   "cell_type": "markdown",
   "id": "61bef950",
   "metadata": {},
   "source": [
    "## 3. Inspecting a DataFrame"
   ]
  },
  {
   "cell_type": "code",
   "execution_count": null,
   "id": "8a4426f0",
   "metadata": {},
   "outputs": [],
   "source": [
    "df1.head()       # first 5 rows\n",
    "df1.tail(3)      # last 3 rows\n",
    "df1.shape        # (rows, cols)\n",
    "df1.columns      # column names\n",
    "df1.info()       # data types + memory usage\n",
    "df1.describe()   # summary stats\n",
    "\n",
    "# 🔑 ML relevance: info() helps spot categorical vs numerical, missing data, etc."
   ]
  },
  {
   "cell_type": "markdown",
   "id": "0a295153",
   "metadata": {},
   "source": [
    "## 4. Selecting Data\n",
    "\n",
    "- Column selection: df[\"col\"], df[[\"col1\",\"col2\"]]\n",
    "\n",
    "- Row selection: df.loc[rows, cols], df.iloc[rows, cols]"
   ]
  },
  {
   "cell_type": "code",
   "execution_count": null,
   "id": "fb619ba3",
   "metadata": {},
   "outputs": [],
   "source": [
    "df1[\"Name\"]            # Single column\n",
    "df1[[\"Name\", \"Age\"]]   # Multiple columns\n",
    "\n",
    "df1.loc[0]             # First row (by label)\n",
    "df1.iloc[0]            # First row (by index position)\n",
    "df1.loc[0, \"Age\"]      # Specific cell\n"
   ]
  },
  {
   "cell_type": "markdown",
   "id": "49ef8b8d",
   "metadata": {},
   "source": [
    "## 5. Filtering & Boolean Indexing"
   ]
  },
  {
   "cell_type": "code",
   "execution_count": null,
   "id": "6f260910",
   "metadata": {},
   "outputs": [],
   "source": [
    "df1[df1[\"Age\"] > 21]              # filter\n",
    "df1[(df1[\"Age\"] > 21) & (df1[\"Score\"] > 85)]  # multiple conditions\n"
   ]
  },
  {
   "cell_type": "markdown",
   "id": "73eb0210",
   "metadata": {},
   "source": [
    "## 6. Adding / Modifying Columns"
   ]
  },
  {
   "cell_type": "code",
   "execution_count": null,
   "id": "f2a7418d",
   "metadata": {},
   "outputs": [],
   "source": [
    "df1[\"Pass\"] = df1[\"Score\"] > 80\n",
    "df1[\"DoubleAge\"] = df1[\"Age\"] * 2\n"
   ]
  },
  {
   "cell_type": "markdown",
   "id": "d6b7afe6",
   "metadata": {},
   "source": [
    "## 7. Dropping Rows/Columns"
   ]
  },
  {
   "cell_type": "code",
   "execution_count": null,
   "id": "e53325b1",
   "metadata": {},
   "outputs": [],
   "source": [
    "df1.drop(\"DoubleAge\", axis=1, inplace=True)  # drop column\n",
    "df1.drop(1, axis=0, inplace=True)            # drop row\n"
   ]
  },
  {
   "cell_type": "markdown",
   "id": "a745e1b1",
   "metadata": {},
   "source": [
    "## 8. Handling Missing Data (Critical for ML 🚨)"
   ]
  },
  {
   "cell_type": "code",
   "execution_count": null,
   "id": "2b39fa93",
   "metadata": {},
   "outputs": [],
   "source": [
    "df1.isna().sum()                # count missing\n",
    "df1.fillna(df1.mean(), inplace=True)  # fill with mean\n",
    "df1.dropna(inplace=True)        # drop rows with NaN\n",
    "\n",
    "# 🔑 ML relevance: Missing values break ML models — you’ll fix them here."
   ]
  },
  {
   "cell_type": "markdown",
   "id": "07823961",
   "metadata": {},
   "source": [
    "## 9. Aggregations & GroupBy (Split → Apply → Combine)"
   ]
  },
  {
   "cell_type": "code",
   "execution_count": 23,
   "id": "c9613e43",
   "metadata": {},
   "outputs": [
    {
     "data": {
      "text/html": [
       "<div>\n",
       "<style scoped>\n",
       "    .dataframe tbody tr th:only-of-type {\n",
       "        vertical-align: middle;\n",
       "    }\n",
       "\n",
       "    .dataframe tbody tr th {\n",
       "        vertical-align: top;\n",
       "    }\n",
       "\n",
       "    .dataframe thead tr th {\n",
       "        text-align: left;\n",
       "    }\n",
       "\n",
       "    .dataframe thead tr:last-of-type th {\n",
       "        text-align: right;\n",
       "    }\n",
       "</style>\n",
       "<table border=\"1\" class=\"dataframe\">\n",
       "  <thead>\n",
       "    <tr>\n",
       "      <th></th>\n",
       "      <th colspan=\"2\" halign=\"left\">Score</th>\n",
       "      <th>Age</th>\n",
       "    </tr>\n",
       "    <tr>\n",
       "      <th></th>\n",
       "      <th>mean</th>\n",
       "      <th>max</th>\n",
       "      <th>min</th>\n",
       "    </tr>\n",
       "    <tr>\n",
       "      <th>Name</th>\n",
       "      <th></th>\n",
       "      <th></th>\n",
       "      <th></th>\n",
       "    </tr>\n",
       "  </thead>\n",
       "  <tbody>\n",
       "    <tr>\n",
       "      <th>A</th>\n",
       "      <td>85.0</td>\n",
       "      <td>85</td>\n",
       "      <td>21</td>\n",
       "    </tr>\n",
       "    <tr>\n",
       "      <th>C</th>\n",
       "      <td>95.0</td>\n",
       "      <td>95</td>\n",
       "      <td>23</td>\n",
       "    </tr>\n",
       "  </tbody>\n",
       "</table>\n",
       "</div>"
      ],
      "text/plain": [
       "     Score     Age\n",
       "      mean max min\n",
       "Name              \n",
       "A     85.0  85  21\n",
       "C     95.0  95  23"
      ]
     },
     "execution_count": 23,
     "metadata": {},
     "output_type": "execute_result"
    }
   ],
   "source": [
    "df1.groupby(\"Name\")[\"Score\"].mean()\n",
    "df1.groupby(\"Name\").agg({\"Score\": [\"mean\",\"max\"], \"Age\": \"min\"})\n",
    "\n",
    "# 🔑 Used for summarizing datasets before training."
   ]
  },
  {
   "cell_type": "markdown",
   "id": "0ce9cb86",
   "metadata": {},
   "source": [
    "## 10. Sorting & Ranking"
   ]
  },
  {
   "cell_type": "code",
   "execution_count": null,
   "id": "34c8d06c",
   "metadata": {},
   "outputs": [],
   "source": [
    "df.sort_values(by=\"Age\")         # ascending\n",
    "df.sort_values(by=\"Salary\", ascending=False)\n",
    "df.sort_index()\n"
   ]
  },
  {
   "cell_type": "markdown",
   "id": "7bcbf59b",
   "metadata": {},
   "source": [
    "## 11. Merge, Join, Concat (SQL-style)"
   ]
  },
  {
   "cell_type": "code",
   "execution_count": 25,
   "id": "7d0bfb22",
   "metadata": {},
   "outputs": [
    {
     "data": {
      "text/html": [
       "<div>\n",
       "<style scoped>\n",
       "    .dataframe tbody tr th:only-of-type {\n",
       "        vertical-align: middle;\n",
       "    }\n",
       "\n",
       "    .dataframe tbody tr th {\n",
       "        vertical-align: top;\n",
       "    }\n",
       "\n",
       "    .dataframe thead th {\n",
       "        text-align: right;\n",
       "    }\n",
       "</style>\n",
       "<table border=\"1\" class=\"dataframe\">\n",
       "  <thead>\n",
       "    <tr style=\"text-align: right;\">\n",
       "      <th></th>\n",
       "      <th>ID</th>\n",
       "      <th>Name</th>\n",
       "      <th>Score</th>\n",
       "    </tr>\n",
       "  </thead>\n",
       "  <tbody>\n",
       "    <tr>\n",
       "      <th>0</th>\n",
       "      <td>1</td>\n",
       "      <td>A</td>\n",
       "      <td>NaN</td>\n",
       "    </tr>\n",
       "    <tr>\n",
       "      <th>1</th>\n",
       "      <td>2</td>\n",
       "      <td>B</td>\n",
       "      <td>NaN</td>\n",
       "    </tr>\n",
       "    <tr>\n",
       "      <th>0</th>\n",
       "      <td>1</td>\n",
       "      <td>NaN</td>\n",
       "      <td>85.0</td>\n",
       "    </tr>\n",
       "    <tr>\n",
       "      <th>1</th>\n",
       "      <td>2</td>\n",
       "      <td>NaN</td>\n",
       "      <td>90.0</td>\n",
       "    </tr>\n",
       "  </tbody>\n",
       "</table>\n",
       "</div>"
      ],
      "text/plain": [
       "   ID Name  Score\n",
       "0   1    A    NaN\n",
       "1   2    B    NaN\n",
       "0   1  NaN   85.0\n",
       "1   2  NaN   90.0"
      ]
     },
     "execution_count": 25,
     "metadata": {},
     "output_type": "execute_result"
    }
   ],
   "source": [
    "df_a = pd.DataFrame({\"ID\": [1,2], \"Name\": [\"A\",\"B\"]})\n",
    "df_b = pd.DataFrame({\"ID\": [1,2], \"Score\": [85,90]})\n",
    "\n",
    "pd.merge(df_a, df_b, on=\"ID\", how=\"inner\")   # SQL-style joins\n",
    "pd.concat([df_a, df_b], axis=0)              # stacking rows\n"
   ]
  },
  {
   "cell_type": "markdown",
   "id": "d5d13f77",
   "metadata": {},
   "source": [
    "## 11. Apply, Map, Applymap (Custom Ops)"
   ]
  },
  {
   "cell_type": "code",
   "execution_count": 26,
   "id": "ee0fbafd",
   "metadata": {},
   "outputs": [
    {
     "name": "stderr",
     "output_type": "stream",
     "text": [
      "/tmp/ipykernel_63004/2970695342.py:8: FutureWarning: DataFrame.applymap has been deprecated. Use DataFrame.map instead.\n",
      "  df1.applymap(lambda x: str(x).upper())\n"
     ]
    },
    {
     "data": {
      "text/html": [
       "<div>\n",
       "<style scoped>\n",
       "    .dataframe tbody tr th:only-of-type {\n",
       "        vertical-align: middle;\n",
       "    }\n",
       "\n",
       "    .dataframe tbody tr th {\n",
       "        vertical-align: top;\n",
       "    }\n",
       "\n",
       "    .dataframe thead th {\n",
       "        text-align: right;\n",
       "    }\n",
       "</style>\n",
       "<table border=\"1\" class=\"dataframe\">\n",
       "  <thead>\n",
       "    <tr style=\"text-align: right;\">\n",
       "      <th></th>\n",
       "      <th>Name</th>\n",
       "      <th>Age</th>\n",
       "      <th>Score</th>\n",
       "      <th>Pass</th>\n",
       "    </tr>\n",
       "  </thead>\n",
       "  <tbody>\n",
       "    <tr>\n",
       "      <th>0</th>\n",
       "      <td>A</td>\n",
       "      <td>21</td>\n",
       "      <td>85</td>\n",
       "      <td>TRUE</td>\n",
       "    </tr>\n",
       "    <tr>\n",
       "      <th>2</th>\n",
       "      <td>C</td>\n",
       "      <td>23</td>\n",
       "      <td>95</td>\n",
       "      <td>TRUE</td>\n",
       "    </tr>\n",
       "  </tbody>\n",
       "</table>\n",
       "</div>"
      ],
      "text/plain": [
       "  Name Age Score  Pass\n",
       "0    A  21    85  TRUE\n",
       "2    C  23    95  TRUE"
      ]
     },
     "execution_count": 26,
     "metadata": {},
     "output_type": "execute_result"
    }
   ],
   "source": [
    "# Apply function to column\n",
    "df1[\"Age\"].apply(lambda x: x+1)\n",
    "\n",
    "# Apply element-wise to Series\n",
    "df1[\"Name\"].map(str.upper)\n",
    "\n",
    "# Apply to entire DataFrame\n",
    "df1.applymap(lambda x: str(x).upper())\n"
   ]
  },
  {
   "cell_type": "markdown",
   "id": "ea0b5a81",
   "metadata": {},
   "source": [
    "## 12. String Operations"
   ]
  },
  {
   "cell_type": "code",
   "execution_count": 27,
   "id": "45475853",
   "metadata": {},
   "outputs": [
    {
     "data": {
      "text/plain": [
       "0    False\n",
       "2    False\n",
       "Name: Name, dtype: bool"
      ]
     },
     "execution_count": 27,
     "metadata": {},
     "output_type": "execute_result"
    }
   ],
   "source": [
    "df1[\"Name\"].str.lower()\n",
    "df1[\"Name\"].str.contains(\"a\")\n",
    "# 🔑 Useful for cleaning messy text data."
   ]
  },
  {
   "cell_type": "markdown",
   "id": "72dc0deb",
   "metadata": {},
   "source": [
    "## 13. Datetime Operations"
   ]
  },
  {
   "cell_type": "code",
   "execution_count": null,
   "id": "7f02915e",
   "metadata": {},
   "outputs": [],
   "source": [
    "df_dates = pd.DataFrame({\n",
    "    \"date\": pd.to_datetime([\"2021-01-01\", \"2021-06-01\"])\n",
    "})\n",
    "df_dates[\"year\"] = df_dates[\"date\"].dt.year\n",
    "\n",
    "# 🔑 Essential for time-series ML."
   ]
  },
  {
   "cell_type": "markdown",
   "id": "cdb199e6",
   "metadata": {},
   "source": [
    "## 14. Handling Categorical & Text Data"
   ]
  },
  {
   "cell_type": "code",
   "execution_count": null,
   "id": "ba273c7a",
   "metadata": {},
   "outputs": [],
   "source": [
    "df[\"Department\"].unique()       # unique categories\n",
    "df[\"Department\"].value_counts() # frequency\n",
    "df[\"Department\"].astype(\"category\")\n",
    "\n",
    "# String ops\n",
    "df[\"Name\"].str.upper()\n",
    "df[\"Name\"].str.contains(\"li\")\n"
   ]
  },
  {
   "cell_type": "markdown",
   "id": "7f60a143",
   "metadata": {},
   "source": [
    "## 15. Indexing Tricks"
   ]
  },
  {
   "cell_type": "code",
   "execution_count": null,
   "id": "fe39023c",
   "metadata": {},
   "outputs": [],
   "source": [
    "df.set_index(\"Name\", inplace=True)\n",
    "df.reset_index(inplace=True)\n",
    "df.rename(columns={\"Salary\":\"Income\"}, inplace=True)\n"
   ]
  },
  {
   "cell_type": "markdown",
   "id": "9d7e0822",
   "metadata": {},
   "source": [
    "## 16. Importing & Exporting Data"
   ]
  },
  {
   "cell_type": "code",
   "execution_count": null,
   "id": "8e8fee9f",
   "metadata": {},
   "outputs": [],
   "source": [
    "# CSV\n",
    "pd.read_csv(\"data.csv\")\n",
    "df.to_csv(\"output.csv\", index=False)\n",
    "\n",
    "# Excel\n",
    "pd.read_excel(\"data.xlsx\")\n",
    "df.to_excel(\"output.xlsx\", index=False)\n",
    "\n",
    "# JSON\n",
    "pd.read_json(\"data.json\")\n",
    "df.to_json(\"output.json\", orient=\"records\")\n"
   ]
  }
 ],
 "metadata": {
  "kernelspec": {
   "display_name": "Python 3",
   "language": "python",
   "name": "python3"
  },
  "language_info": {
   "codemirror_mode": {
    "name": "ipython",
    "version": 3
   },
   "file_extension": ".py",
   "mimetype": "text/x-python",
   "name": "python",
   "nbconvert_exporter": "python",
   "pygments_lexer": "ipython3",
   "version": "3.13.7"
  }
 },
 "nbformat": 4,
 "nbformat_minor": 5
}
