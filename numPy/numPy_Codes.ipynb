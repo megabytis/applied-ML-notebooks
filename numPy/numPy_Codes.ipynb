{
 "cells": [
  {
   "cell_type": "markdown",
   "id": "66c85b92",
   "metadata": {},
   "source": [
    "# 🚀 NumPy: The Powerhouse of Numerical Computing in Python\n",
    "\n",
    "NumPy provides Python with an **extensive math library** capable of performing numerical computations effectively and efficiently.\n",
    "\n",
    "---\n",
    "\n",
    "## 🆚 Python Lists vs NumPy Arrays\n",
    "\n",
    "While Python lists are incredibly flexible, **NumPy offers significant advantages**, especially when working with large datasets:\n",
    "\n",
    "### ⚡ Speed\n",
    "- NumPy can be **orders of magnitude faster** than native Python lists.\n",
    "- This speed comes from:\n",
    "  - **Memory-efficient** layout of NumPy arrays.\n",
    "  - **Optimized C-based algorithms** used under the hood for arithmetic, statistics, and linear algebra.\n",
    "\n",
    "---\n",
    "\n",
    "## 🔢 Multidimensional Arrays: Vectors & Matrices\n",
    "\n",
    "One of the biggest flexes of NumPy is its **support for multidimensional arrays**:\n",
    "\n",
    "- NumPy arrays (also called `ndarray`) can represent:\n",
    "  - **Vectors** (1D arrays)\n",
    "  - **Matrices** (2D arrays)\n",
    "  - **Tensors** (3D+ arrays)\n",
    "\n",
    "---\n",
    "\n",
    "## 🧠 Core Concept: The `ndarray`\n",
    "\n",
    "At the core of NumPy lies the:\n",
    "\n",
    "```python\n",
    "ndarray  # nd stands for \"n-dimensional\"\n"
   ]
  },
  {
   "cell_type": "code",
   "execution_count": 1,
   "id": "5088164c",
   "metadata": {},
   "outputs": [],
   "source": [
    "import numpy as np"
   ]
  },
  {
   "cell_type": "markdown",
   "id": "9d46d965",
   "metadata": {},
   "source": [
    "## Create ndarray :---"
   ]
  },
  {
   "cell_type": "code",
   "execution_count": 2,
   "id": "1d97aeff",
   "metadata": {},
   "outputs": [
    {
     "name": "stdout",
     "output_type": "stream",
     "text": [
      "a = [10 20 30 40 50]\n",
      "a has dimensions:  (5,)\n",
      "The elemnt in a are of type:  int64\n",
      "b has dimentions:  (4, 3)\n",
      "b has a total of 12  elements\n",
      "b has an object of type:  <class 'numpy.ndarray'>\n",
      "The elements of b are of type:  int64\n"
     ]
    }
   ],
   "source": [
    "# Creating an 1D ndarray that contains only integers\n",
    "a = np.array([10,20,30,40,50])\n",
    "print('a =',a) # a = [10,20,30,40,50]\n",
    "print('a has dimensions: ',a.shape) # a has dimention: (5,)\n",
    "print('The elemnt in a are of type: ', a.dtype) # The element in a are of type: int64\n",
    "\n",
    "# Creating a 2D ndarray that conatins only integers\n",
    "b = np.array([[1,2,3],[4,5,6],[7,8,9], [10,11,12]])\n",
    "print('b has dimentions: ', b.shape) # b has dimentions:  (4, 3)\n",
    "print('b has a total of', b.size, ' elements') # b has a total of 12  elements\n",
    "print('b has an object of type: ', type(b)) # b has an object of type:  <class 'numpy.ndarray'>\n",
    "print('The elements of b are of type: ', b.dtype) # The elements of b are of type:  int64"
   ]
  },
  {
   "cell_type": "markdown",
   "id": "4bec1090",
   "metadata": {},
   "source": [
    "## Create ndarray with dtype :---"
   ]
  },
  {
   "cell_type": "code",
   "execution_count": 3,
   "id": "93b6f99a",
   "metadata": {},
   "outputs": [
    {
     "name": "stdout",
     "output_type": "stream",
     "text": [
      "[1 2 3 4 5]\n",
      "[      1   22222 3333333     444]\n"
     ]
    }
   ],
   "source": [
    "# Specifying the dtype when creating the ndarray\n",
    "x = np.array([1.5, 2.2, 3.7, 4.0, 5.9], dtype = np.int64)\n",
    "print(x)\n",
    "\n",
    "# If i'll give an big number but give dtype very small then obviously it will throw error, e.g. :---\n",
    "# y = np.array([1,22222,3333333,444], dtype=np.int8) # throw error :- OverflowError: Python integer 22222 out of bounds for int8\n",
    "# so have to give big dtype\n",
    "y = np.array([1,22222,3333333,444], dtype=np.int32)\n",
    "print(y)"
   ]
  },
  {
   "cell_type": "markdown",
   "id": "23461ddf",
   "metadata": {},
   "source": [
    "## Save and load :---"
   ]
  },
  {
   "cell_type": "code",
   "execution_count": 4,
   "id": "c875875c",
   "metadata": {},
   "outputs": [
    {
     "name": "stdout",
     "output_type": "stream",
     "text": [
      "[1 2 3 4 5]\n"
     ]
    }
   ],
   "source": [
    "# saving an array into a file\n",
    "np.save('saved_array', x)\n",
    "\n",
    "# Now loading the saved array from current Directory\n",
    "y = np.load('./saved_array.npy')\n",
    "print(y)"
   ]
  },
  {
   "cell_type": "markdown",
   "id": "8af9a5b3",
   "metadata": {},
   "source": [
    "## Zeros, Ones, Full :---"
   ]
  },
  {
   "cell_type": "code",
   "execution_count": 5,
   "id": "2ab7d037",
   "metadata": {},
   "outputs": [
    {
     "name": "stdout",
     "output_type": "stream",
     "text": [
      "[[0. 0. 0.]\n",
      " [0. 0. 0.]]\n",
      "[[1. 1.]\n",
      " [1. 1.]\n",
      " [1. 1.]]\n",
      "[[9 9 9]\n",
      " [9 9 9]]\n"
     ]
    }
   ],
   "source": [
    "# Creating ndarray using built-in functions\n",
    "# 2 x 3 ndarray full of zeros\n",
    "# synts :- np.zeros(shape)\n",
    "zeroArr = np.zeros((2,3))\n",
    "print(zeroArr)\n",
    "\n",
    "# a 3 x 2 matrix full of ones\n",
    "# syntax :- np.ones((3,2))\n",
    "oneArr = np.ones((3,2))\n",
    "print(oneArr)\n",
    "\n",
    "# 2 x 3 ndarray full of 9's\n",
    "# syntax :- np.full(shape, constant_value)\n",
    "constArr = np.full((2,3), 9)\n",
    "print(constArr)"
   ]
  },
  {
   "cell_type": "markdown",
   "id": "45444ef3",
   "metadata": {},
   "source": [
    "## Identity Matrix\n",
    "\n",
    "An **identity matrix** is a square matrix with:\n",
    "- All **diagonal elements = 1**.\n",
    "- All **off-diagonal elements = 0**.\n",
    "\n",
    "When we multiply any matrix \\( A \\) with the identity matrix \\( I \\) (of the same size), we get \\( A \\) back.  \n",
    "\\[\n",
    "A x I = A\n",
    "\\]  \n",
    "\\[\n",
    "I x A = A\n",
    "\\]\n"
   ]
  },
  {
   "cell_type": "code",
   "execution_count": 6,
   "id": "6f4e31cb",
   "metadata": {},
   "outputs": [
    {
     "name": "stdout",
     "output_type": "stream",
     "text": [
      "[[1. 0. 0. 0.]\n",
      " [0. 1. 0. 0.]\n",
      " [0. 0. 1. 0.]\n",
      " [0. 0. 0. 1.]]\n"
     ]
    }
   ],
   "source": [
    "# Since all identity matrices are sqaure, the np.eye() function only takes a single integer as an argument\n",
    "# e.g. :- 4 x 4 Identity matrixnp.ones\n",
    "identityMatrix = np.eye(4)\n",
    "print(identityMatrix)"
   ]
  },
  {
   "cell_type": "markdown",
   "id": "f3a96941",
   "metadata": {},
   "source": [
    "## Diagonal Matrix :---\n",
    " \n",
    "A **diagonal matrix** is a **square matrix** where:\n",
    "- All **off-diagonal elements = 0**\n",
    "- Diagonal elements can be **any value** (positive, negative, or zero)"
   ]
  },
  {
   "cell_type": "code",
   "execution_count": 7,
   "id": "da10ff2d",
   "metadata": {},
   "outputs": [
    {
     "name": "stdout",
     "output_type": "stream",
     "text": [
      "[[10  0  0  0  0]\n",
      " [ 0 20  0  0  0]\n",
      " [ 0  0 30  0  0]\n",
      " [ 0  0  0 40  0]\n",
      " [ 0  0  0  0 50]]\n"
     ]
    }
   ],
   "source": [
    "# 5 x 5 diagonal matrix that contains the numbers 10,20,30,40 and 50 on its main diagonal\n",
    "diagMatrix = np.diag([10,20,30,40,50])\n",
    "print(diagMatrix)"
   ]
  },
  {
   "cell_type": "markdown",
   "id": "f08f53e9",
   "metadata": {},
   "source": [
    "## Transpose Matrix :---\n",
    "\n",
    "here row becomes column & colums becomes row"
   ]
  },
  {
   "cell_type": "code",
   "execution_count": 8,
   "id": "1101aecb",
   "metadata": {},
   "outputs": [
    {
     "ename": "NameError",
     "evalue": "name 'ar' is not defined",
     "output_type": "error",
     "traceback": [
      "\u001b[31m---------------------------------------------------------------------------\u001b[39m",
      "\u001b[31mNameError\u001b[39m                                 Traceback (most recent call last)",
      "\u001b[36mCell\u001b[39m\u001b[36m \u001b[39m\u001b[32mIn[8]\u001b[39m\u001b[32m, line 1\u001b[39m\n\u001b[32m----> \u001b[39m\u001b[32m1\u001b[39m \u001b[38;5;28mprint\u001b[39m(\u001b[33m'\u001b[39m\u001b[33mBefore transposing : \u001b[39m\u001b[38;5;130;01m\\n\u001b[39;00m\u001b[33m'\u001b[39m,\u001b[43mar\u001b[49m)\n\u001b[32m      2\u001b[39m \u001b[38;5;28mprint\u001b[39m(\u001b[33m'\u001b[39m\u001b[33mAfter transposing : \u001b[39m\u001b[38;5;130;01m\\n\u001b[39;00m\u001b[33m'\u001b[39m,ar.T)\n",
      "\u001b[31mNameError\u001b[39m: name 'ar' is not defined"
     ]
    }
   ],
   "source": [
    "print('Before transposing : \\n',ar)\n",
    "print('After transposing : \\n',ar.T)"
   ]
  },
  {
   "cell_type": "markdown",
   "id": "d61af09b",
   "metadata": {},
   "source": [
    "## Flat :---"
   ]
  },
  {
   "cell_type": "code",
   "execution_count": null,
   "id": "4455cebe",
   "metadata": {},
   "outputs": [
    {
     "name": "stdout",
     "output_type": "stream",
     "text": [
      "1\n",
      "2\n",
      "3\n",
      "4\n",
      "5\n",
      "6\n",
      "7\n",
      "8\n",
      "9\n"
     ]
    }
   ],
   "source": [
    "makeFlat = ar.flat\n",
    "\n",
    "for stuffs in makeFlat :\n",
    "    print(stuffs)"
   ]
  },
  {
   "cell_type": "markdown",
   "id": "edbaafbc",
   "metadata": {},
   "source": [
    "## A Range :---"
   ]
  },
  {
   "cell_type": "code",
   "execution_count": null,
   "id": "52fcedf4",
   "metadata": {},
   "outputs": [
    {
     "name": "stdout",
     "output_type": "stream",
     "text": [
      "[0 1 2 3 4 5 6 7 8 9]\n",
      "[ 5  6  7  8  9 10 11 12 13]\n",
      "[ 7  9 11 13 15 17 19 21 23 25]\n"
     ]
    }
   ],
   "source": [
    "# Rank 1 ndarray that has sequential integers from 0 to 9\n",
    "seqArr_1 = np.arange(10)\n",
    "print(seqArr_1)\n",
    "\n",
    "# Rank 1 ndarray that has sequential integers from 5 to 13\n",
    "# syntax :- (start, stop+1)\n",
    "seqArr_2 = np.arange(5,14)\n",
    "print(seqArr_2)\n",
    "\n",
    "# Rank 1 ndarray that has sequential integers from 7 to 25 in steps/gaps of 2\n",
    "# syntax :- (start, stop+1, step_size)\n",
    "seqArr_3 = np.arange(7,26,2)\n",
    "print(seqArr_3)"
   ]
  },
  {
   "cell_type": "markdown",
   "id": "7c1026aa",
   "metadata": {},
   "source": [
    "# Linspace :---\n",
    "\n",
    "### 🔍 Why `linspace()` over `arange()`?\n",
    "Even though the `np.arange()` function allows for **non-integer steps** (e.g., `0.3`),  \n",
    "its output can be inconsistent due to **finite floating-point precision**.\n",
    "\n",
    "✅ In cases where non-integer steps are needed, it’s usually better to use **`np.linspace()`** because:\n",
    "- It **specifies the number of elements** in the range, not the step size.\n",
    "- It produces evenly spaced numbers over the interval `[start, stop]`.\n",
    "\n",
    "---\n",
    "\n",
    "## 🛠 Syntax\n",
    "```python\n",
    "np.linspace(start, stop, how_many_nums_u_wanna_print)\n",
    "\n",
    "where ;\n",
    "start → First value in the sequence\n",
    "stop → Last value in the sequence (inclusive)\n",
    "num → Number of evenly spaced values to generate\n",
    "\n",
    "\n",
    "📐 How linspace() Calculates Step Size :\n",
    "\n",
    "Step size = (stop - start) / (num - 1)\n",
    "\n",
    "Example :--\n",
    "Step size = (25 - 0) / (10 - 1)\n",
    "          = 25 / 9\n",
    "          ≈ 2.77777777...\n",
    "\n",
    "📊 Process\n",
    "0.0\n",
    "0.0 + 2.777...  = 2.777...\n",
    "2.777... + 2.777... = 5.555...\n",
    "...\n",
    "up to 25.0 (exactly)\n",
    "\n",
    "# ⚠️mportant\n",
    "# i.e. from start(0) to stop(25) , 10 numbers will be printed in gap of 2.7777777 , understood ? 😜\n"
   ]
  },
  {
   "cell_type": "code",
   "execution_count": null,
   "id": "616aa9b0",
   "metadata": {},
   "outputs": [
    {
     "name": "stdout",
     "output_type": "stream",
     "text": [
      "[ 0.          2.77777778  5.55555556  8.33333333 11.11111111 13.88888889\n",
      " 16.66666667 19.44444444 22.22222222 25.        ]\n"
     ]
    }
   ],
   "source": [
    "x = np.linspace(0,25,10)\n",
    "print(x)"
   ]
  },
  {
   "cell_type": "markdown",
   "id": "3f2a1b6f",
   "metadata": {},
   "source": [
    "## Reshape :---"
   ]
  },
  {
   "cell_type": "code",
   "execution_count": null,
   "id": "849ca2f8",
   "metadata": {},
   "outputs": [
    {
     "name": "stdout",
     "output_type": "stream",
     "text": [
      "Before re-shaping :--\n",
      " [ 1  2  3  4  5  6  7  8  9 10 11 12 13 14 15 16 17 18 19 20]\n",
      "\n",
      "After re-shaping :--\n",
      " [[ 1  2  3  4  5]\n",
      " [ 6  7  8  9 10]\n",
      " [11 12 13 14 15]\n",
      " [16 17 18 19 20]]\n",
      "\n",
      "using all methods in one line :-- \n",
      "[[ 1  2  3  4  5  6  7  8]\n",
      " [ 9 10 11 12 13 14 15 16]\n",
      " [17 18 19 20 21 22 23 24]\n",
      " [25 26 27 28 29 30 31 32]]\n",
      "\n",
      " [[ 0.          4.28571429  8.57142857 12.85714286]\n",
      " [17.14285714 21.42857143 25.71428571 30.        ]]\n"
     ]
    }
   ],
   "source": [
    "# syntsx :- np.reshape(ndarray, new_shape)\n",
    "# it converts the given ndarray into the specified new shape \n",
    "\n",
    "# without re-shaping\n",
    "arr = np.arange(1,21)\n",
    "print('Before re-shaping :--\\n',arr)\n",
    "\n",
    "# After Re-shaping \n",
    "arr = arr.reshape(4,5)\n",
    "print('\\nAfter re-shaping :--\\n',arr)\n",
    "\n",
    "# reshapingArr = np.reshape(reshapingArr, (4,5))\n",
    "# --------------or---------------\n",
    "reshapingArr_2 = np.arange(1,33).reshape(4,8)\n",
    "print(f'\\nusing all methods in one line :-- \\n{reshapingArr_2}')\n",
    "\n",
    "# ⚠️⚠️⚠️ IMPORTANT  ⚠️⚠️⚠️\n",
    "# The multiplication of shape values e.g. (4,8) should be equal with created array boxes, e.g. arange(1,33), \n",
    "# here in {1,33} i.e. 33-1=32 boxes r there inside array , so 4*8 = 32 so it's VALID array with shape, otherwise it will throw error, abviously, if array number mismatches\n",
    "\n",
    "reshapingArr_3 = np.linspace(0,30,8).reshape(2,4)\n",
    "print('\\n',reshapingArr_3)\n",
    "\n",
    "# One great feature about NumPy, is that some functions can also be\n",
    "# applied as methods. This allows us to apply different functions in\n",
    "# sequence in just one line of code"
   ]
  },
  {
   "cell_type": "markdown",
   "id": "a6ee3051",
   "metadata": {},
   "source": [
    "## Ravel :--"
   ]
  },
  {
   "cell_type": "code",
   "execution_count": null,
   "id": "6ab511e3",
   "metadata": {},
   "outputs": [
    {
     "name": "stdout",
     "output_type": "stream",
     "text": [
      "[ 1  2  3  4  5  6  7  8  9 10 11 12 13 14 15 16 17 18 19 20]\n"
     ]
    },
    {
     "data": {
      "text/plain": [
       "(20,)"
      ]
     },
     "execution_count": 11,
     "metadata": {},
     "output_type": "execute_result"
    }
   ],
   "source": [
    "# It will make ndarray to a straight 1D array\n",
    "arr = arr.ravel()\n",
    "print(arr)\n",
    "arr.shape"
   ]
  },
  {
   "cell_type": "markdown",
   "id": "f9df1b02",
   "metadata": {},
   "source": [
    "## Slicing :---"
   ]
  },
  {
   "cell_type": "code",
   "execution_count": null,
   "id": "a9e61959",
   "metadata": {},
   "outputs": [
    {
     "name": "stdout",
     "output_type": "stream",
     "text": [
      "full arr\n",
      " [[ 0  1  2  3]\n",
      " [ 4  5  6  7]\n",
      " [ 8  9 10 11]\n",
      " [12 13 14 15]\n",
      " [16 17 18 19]]\n",
      "\n",
      "elements from 3rd rows to last with all columns\n",
      " [[ 8  9 10 11]\n",
      " [12 13 14 15]\n",
      " [16 17 18 19]]\n",
      "\n",
      "elements from 3rd col onwards having all rows\n",
      " [[ 2  3]\n",
      " [ 6  7]\n",
      " [10 11]\n",
      " [14 15]\n",
      " [18 19]]\n",
      "\n",
      "elements from 2nd column to last + 3rd nd 4th row only\n",
      " [[ 9 10 11]\n",
      " [13 14 15]]\n",
      "\n",
      "original is changing ? :---\n",
      " [[ 0  1  2  3]\n",
      " [ 4  5  6  7]\n",
      " [ 8 69 39 11]\n",
      " [12 39 69 15]\n",
      " [16 17 18 19]]\n"
     ]
    }
   ],
   "source": [
    "'''\n",
    "Syntaxes :-\n",
    "\n",
    "ndarray[start:end]\n",
    "ndarray[start:]\n",
    "ndarray[:end]\n",
    "ndarray[<start>:<stop>:<step>]\n",
    "ndarray[row,column] i.e. ndarray[<rstrt>:<rstp>:<rstep> , <cstrt>:<cstp>:<cstep>] or ndarray[<rstrt>:<rstp>:<rstep>][<cstrt>:<cstp>:<cstep>]\n",
    "'''\n",
    "# In methods one and three, the end index is included [,)\n",
    "arr = np.arange(20).reshape(5,4)\n",
    "print('full arr\\n',arr)\n",
    "\n",
    "# Examples :---\n",
    "\n",
    "# I wanna get elements from 3rdd rows[i.e. index no - 2] to last with all columns\n",
    "slicedEl_1 = arr[2:,]\n",
    "print('\\nelements from 3rd rows to last with all columns\\n',slicedEl_1)\n",
    "\n",
    "# I wanna get elements from 3rd col onwards having all rows\n",
    "slicedEl_2 = arr[:,2:,]\n",
    "print('\\nelements from 3rd col onwards having all rows\\n',slicedEl_2)\n",
    "\n",
    "# i wanna get elements from 2nd column to last + 3rd nd 4th row only\n",
    "slicedEl_3 = arr[2:4,1:,]\n",
    "print('\\nelements from 2nd column to last + 3rd nd 4th row only\\n',slicedEl_3)\n",
    "\n",
    "# ⚠️⚠️⚠️ V. V. Important ⚠️⚠️⚠️\n",
    "# 🔁 Slicing creates a view, not a copy. \n",
    "''' \n",
    "-> It means e.g. if i'm doing slicedEl_3 = arr[2:4,1:,], it doesn't means a changed copy of 'arr' is storing under slicedArr_3, NAH !!!!\n",
    "-> It just zooming in and whatever part we'r slicing, it is just creating a view of that specified part under 'slicedEl_3' 🤣\n",
    "-> That means 'slicedEl_3' is nothing but another name of the original 'arr', so whatevery changes we'll make in 'slicedEl_3' in viewed part will also be refelected in original 'arr' \n",
    "\n",
    "here is the proof :--- 👇\n",
    "'''\n",
    "slicedEl_3[0,0] = 69\n",
    "slicedEl_3[1,1] = 69\n",
    "slicedEl_3[0,1] = 39\n",
    "slicedEl_3[1,0] = 39\n",
    "print('\\noriginal is changing ? :---\\n',arr)"
   ]
  },
  {
   "cell_type": "markdown",
   "id": "8ebbd32d",
   "metadata": {},
   "source": [
    "## Random :---"
   ]
  },
  {
   "cell_type": "code",
   "execution_count": null,
   "id": "b9cb9302",
   "metadata": {},
   "outputs": [
    {
     "name": "stdout",
     "output_type": "stream",
     "text": [
      "[[0.53123086 0.35917779 0.45251896]\n",
      " [0.91126197 0.34908985 0.57759976]]\n",
      "[[14 15]\n",
      " [14 21]\n",
      " [21 20]]\n",
      "[[ 0.06212769  0.04348444  0.00807673 ...  0.12150182  0.11324499\n",
      "  -0.1833954 ]\n",
      " [-0.02149608 -0.05424329 -0.09194221 ... -0.0040696   0.03698465\n",
      "  -0.03219237]\n",
      " [ 0.11313574 -0.04052016  0.12086885 ... -0.01676974  0.05238351\n",
      "  -0.12892425]\n",
      " ...\n",
      " [-0.14196276 -0.08229978  0.04816467 ...  0.06658095 -0.0246257\n",
      "  -0.01665518]\n",
      " [ 0.08697161  0.01473788 -0.05423726 ...  0.09631354 -0.011399\n",
      "  -0.0281801 ]\n",
      " [ 0.20080933 -0.00925852  0.00850219 ... -0.10529885 -0.00802061\n",
      "   0.1286247 ]]\n"
     ]
    }
   ],
   "source": [
    "# TO GET RANDOM FLOATs\n",
    "# syntsx :--  np.random.random(shape)\n",
    "randomFloats = np.random.random((2,3))\n",
    "print(randomFloats)\n",
    "\n",
    "# TO GET RANDOM INTEGERS\n",
    "# syntsx :-- np.random.randint(start, stop, size = shape)\n",
    "randomIntegers = np.random.randint(8,22,size=(3,2))\n",
    "print(randomIntegers)\n",
    "\n",
    "# syntx :--- np.random.normal(mean, standard deviation, size=shape)\n",
    "randomGussian = np.random.normal(0,0.1,size=(500,5000))\n",
    "print(randomGussian)"
   ]
  },
  {
   "cell_type": "markdown",
   "id": "d06714b9",
   "metadata": {},
   "source": [
    "### MUTABILITY :---"
   ]
  },
  {
   "cell_type": "code",
   "execution_count": null,
   "id": "f7df5a35",
   "metadata": {},
   "outputs": [
    {
     "name": "stdout",
     "output_type": "stream",
     "text": [
      "Before mutating :- \n",
      "\n",
      "[[ 0  1  2  3]\n",
      " [ 4  5  6  7]\n",
      " [ 8 69 39 11]\n",
      " [12 39 69 15]\n",
      " [16 17 18 19]]\n",
      "\n",
      "After mutating :---\n",
      "\n",
      "[[ 0  1  2  3]\n",
      " [ 4  5  6 70]\n",
      " [ 8 69 39 11]\n",
      " [60 60 60 60]\n",
      " [16 17 18 19]]\n"
     ]
    }
   ],
   "source": [
    "# Change ndarray\n",
    "\n",
    "print(\"Before mutating :- \\n\")\n",
    "print(arr)\n",
    "\n",
    "print(\"\\nAfter mutating :---\\n\")\n",
    "arr[3] = 60\n",
    "arr[1,3] = 70\n",
    "print(arr)"
   ]
  },
  {
   "cell_type": "markdown",
   "id": "2d964f66",
   "metadata": {},
   "source": [
    "# Axis :--\n",
    "\n",
    "**There are 2 axes**\n",
    "\n",
    "- axis=0 : ROW-Axis\n",
    "- axis=1 : COLUMN-Axis"
   ]
  },
  {
   "cell_type": "code",
   "execution_count": null,
   "id": "52e097bc",
   "metadata": {},
   "outputs": [
    {
     "name": "stdout",
     "output_type": "stream",
     "text": [
      "[ 6 15 24]\n",
      "\n",
      " [12 15 18]\n"
     ]
    }
   ],
   "source": [
    "ar = np.array([[1,2,3],[4,5,6],[7,8,9]])\n",
    "\n",
    "# Axis-Wise SUM\n",
    "print(ar.sum(axis=0)) # axis=0 means rows, so think like each rows are collapsing over below rows to add, i.e. DOWNWARD-Row-Addition\n",
    "print('\\n',ar.sum(axis=1)) # axis=1 means columns, so think like each columns are collapsing over side columns to add, i.e. SIDEWISE-Column-Addition"
   ]
  },
  {
   "cell_type": "markdown",
   "id": "1f4a396f",
   "metadata": {},
   "source": [
    "## Delete :--"
   ]
  },
  {
   "cell_type": "code",
   "execution_count": null,
   "id": "f179ad68",
   "metadata": {},
   "outputs": [
    {
     "name": "stdout",
     "output_type": "stream",
     "text": [
      "[10 30 50 40]\n",
      "[[12 34 56]\n",
      " [14 25 36]]\n",
      "[[12 34]\n",
      " [14 25]]\n"
     ]
    }
   ],
   "source": [
    "# Syntax :-- np.delete(ndarray, elements, axis)\n",
    "A = np.array([10,20,30,60,50,40])\n",
    "# Here i wanna delete 2nd & 4th element of A aray, i.e. 20 & 60\n",
    "A = np.delete(A, [1,3])\n",
    "print(A)\n",
    "\n",
    "B = np.array([[12,34,56],[13,24,35],[14,25,36]])\n",
    "# Now i wanna delete second row of B\n",
    "B = np.delete(B, 1, axis=0) # wanna delete 2nd row, so here, '1' means 2nd + 'axis=0' means 'row'  = lo ho gaya '2nd row' 😅\n",
    "print(B)\n",
    "\n",
    "# Now i wanna delete 3rd column\n",
    "B = np.delete(B, 2, axis=1) # wanna delete 3rd column, so, '2' means 3rd + 'axis=1' means 'row' = 3rd row\n",
    "print(B)"
   ]
  },
  {
   "cell_type": "markdown",
   "id": "e7f533b2",
   "metadata": {},
   "source": [
    "## Append :---"
   ]
  },
  {
   "cell_type": "code",
   "execution_count": null,
   "id": "a3a3eff5",
   "metadata": {},
   "outputs": [
    {
     "name": "stdout",
     "output_type": "stream",
     "text": [
      "[11 22 33 44 55 66]\n",
      "[11 22 33 44 55 66 77 88 99]\n",
      "[[10 20 30]\n",
      " [40 50 60]]\n",
      "[[10 20 30 70]\n",
      " [40 50 60 80]]\n"
     ]
    }
   ],
   "source": [
    "# Syntax :- np.append(ndarray, elements, axis)\n",
    "\n",
    "arr = [11,22,33,44,55]\n",
    "\n",
    "# I wanna add 66 here in the above array \n",
    "arr = np.append(arr, 66)\n",
    "print(arr)\n",
    "\n",
    "# I wanna add [77,88,99] in the above array \n",
    "arr = np.append(arr, [77,88,99])\n",
    "print(arr)\n",
    "\n",
    "# -------------------------------------------------------------------------------\n",
    "arr2 = [[10,20,30]]\n",
    "# I wanna append a new ROW\n",
    "arr2 = np.append(arr2, [[40,50,60]], axis=0) # ⚠️ REMEMBER ⚠️: cuz we're appending another row in an 2D arr, so have to write [[40,50,60]] in double bracket i.e. 2D format\n",
    "print(arr2)\n",
    "\n",
    "# Now adding a new column\n",
    "arr2 = np.append(arr2, [[70],[80]], axis=1)\n",
    "print(arr2)\n",
    "\n",
    "''' ⚠️ Important ⚠️\n",
    "If main matrix is 2x3 i.e. 2 rows and 3 columns\n",
    "-> so, if we're appending a row it should have 3 numbers i.e. to fit in 3 column\n",
    "-> nd if we're appending a column, it should have 2 numbers in each separate []'es, so that it would fit in 2 rows \n",
    "'''"
   ]
  },
  {
   "cell_type": "markdown",
   "id": "29dc7c7f",
   "metadata": {},
   "source": [
    "## Insert :---"
   ]
  },
  {
   "cell_type": "code",
   "execution_count": null,
   "id": "fd232972",
   "metadata": {},
   "outputs": [
    {
     "name": "stdout",
     "output_type": "stream",
     "text": [
      "[10 20 88 99 30 40]\n",
      "[[11 22 33]\n",
      " [77 88 99]\n",
      " [44 55 66]]\n",
      "[[11 22  0 33]\n",
      " [77 88  0 99]\n",
      " [44 55  0 66]]\n"
     ]
    }
   ],
   "source": [
    "# Syntax :- np.insert(ndarray, inWhichIndexWeWannaInsert, elements, axis)\n",
    "A = np.array([10,20,30,40])\n",
    "B = np.array([[11,22,33],[44,55,66]])\n",
    "\n",
    "# i wanna insert 88,99 in btn 20 & 30 in A\n",
    "# i.e. 88 & 99 will start staying from 3rd position i.e. index=2\n",
    "A = np.insert(A, 2, [88,99], axis=0) # here axis not necessary, cuz obviously axis would be 0 , cuz it's an !D array\n",
    "print(A)\n",
    "\n",
    "# I wanna insert a new row btn 1st & 2nd row\n",
    "B = np.insert(B, 1, [77,88,99], axis=0)\n",
    "print(B)\n",
    "\n",
    "# Now i wanna insert a column btn 2nd & 3rd col\n",
    "B = np.insert(B, 2, [00,00,00], axis=1)\n",
    "print(B)"
   ]
  },
  {
   "cell_type": "markdown",
   "id": "6628e9ac",
   "metadata": {},
   "source": [
    "## Stacking :---\n",
    "\n",
    "- NumPy also allows us to stack ndarrays on top of each other,\n",
    "or to stack them side by side. \n",
    "- The stacking is done using either the np.vstack() function for vertical stacking, or the np.hstack() function for horizontal stacking. \n",
    "- It is important to note that in order to stack ndarrays, the shape of the ndarrays must match."
   ]
  },
  {
   "cell_type": "code",
   "execution_count": null,
   "id": "7df16da5",
   "metadata": {},
   "outputs": [
    {
     "name": "stdout",
     "output_type": "stream",
     "text": [
      "[[10 30]\n",
      " [ 3  2]\n",
      " [ 5  4]]\n",
      "[[ 3  2 10]\n",
      " [ 5  4 30]]\n"
     ]
    }
   ],
   "source": [
    "arr = np.array([10,30])\n",
    "arr_2 = np.array([[3,2],[5,4]])\n",
    "\n",
    "stacked_Arr_1 = np.vstack((arr,arr_2))\n",
    "print(stacked_Arr_1)\n",
    "\n",
    "stacked_Arr_2 = np.hstack((arr_2,arr.reshape(2,1)))\n",
    "print(stacked_Arr_2)"
   ]
  },
  {
   "cell_type": "markdown",
   "id": "5a705313",
   "metadata": {},
   "source": [
    "## Copy :--\n",
    "- If we want to create a new ndarray that contains a copy of the values in the slice we need to use the np.copy()\n",
    "- Syntax :- np.copy(array_like, order)\n",
    "    - array_like: Input data (array or array-like object)\n",
    "    - order: {'C', 'F', 'A', 'K'} - Memory layout of the copy (optional)\n",
    "        - order='C' : C order\n",
    "        - order='F' : Fortran order\n",
    "        - order='A' : Same as original\n",
    "        - order='K' : Keep layout\n"
   ]
  },
  {
   "cell_type": "code",
   "execution_count": null,
   "id": "08e3525c",
   "metadata": {},
   "outputs": [
    {
     "name": "stdout",
     "output_type": "stream",
     "text": [
      "[1 2 3 4 5]\n"
     ]
    }
   ],
   "source": [
    "original = np.array([1,2,3,4,5])\n",
    "copied = np.copy(original, order='K')\n",
    "print(copied)"
   ]
  },
  {
   "cell_type": "markdown",
   "id": "ece38e74",
   "metadata": {},
   "source": [
    "## Extracting elements along the diagram :--\n",
    "\n",
    "#### syntax: np.diag(array, k)\n",
    "    where default is k=0, which refers to the main diagonal.\n",
    "    Values of k > 0 are used to select elements in diagonals above the main diagonal\n",
    "    values of k < 0 are used to select elements in diagonals below the main diagonal."
   ]
  },
  {
   "cell_type": "code",
   "execution_count": null,
   "id": "6e795c69",
   "metadata": {},
   "outputs": [
    {
     "name": "stdout",
     "output_type": "stream",
     "text": [
      "Main diagonal (default k=0): \n",
      " [ 1  6 11 16]\n",
      "Above Main Diagonal :- \n",
      " [ 2  7 12]\n",
      "Below Main Diagonal:- \n",
      " [ 5 10 15]\n"
     ]
    }
   ],
   "source": [
    "arr = np.array([[1, 2, 3, 4],\n",
    "                [5, 6, 7, 8],\n",
    "                [9, 10, 11, 12],\n",
    "                [13, 14, 15, 16]])\n",
    "# Extract elements along the diagonal\n",
    "\n",
    "# ------ Main Diagonal (k=0, default) ----------\n",
    "diag_1 = np.diag(arr)\n",
    "print(\"Main diagonal (default k=0): \\n\",diag_1)\n",
    "\n",
    "# ------ Above Main Diagonal (k>0) -----------\n",
    "diag_2 = np.diag(arr, k=1)\n",
    "print(\"Above Main Diagonal :- \\n\",diag_2)\n",
    "\n",
    "# ------- Below Main Diagonal (k<0) -----------\n",
    "diag_3 = np.diag(arr, k=-1)\n",
    "print(\"Below Main Diagonal:- \\n\",diag_3)"
   ]
  },
  {
   "cell_type": "markdown",
   "id": "95560e9f",
   "metadata": {},
   "source": [
    "## Finding Unique Elements :---"
   ]
  },
  {
   "cell_type": "code",
   "execution_count": null,
   "id": "f5c481e2",
   "metadata": {},
   "outputs": [
    {
     "name": "stdout",
     "output_type": "stream",
     "text": [
      "[10 11 21 34 90]\n"
     ]
    }
   ],
   "source": [
    "arr = np.array([[21,34,21],[90,34,10],[34,21,11]])\n",
    "unique_El = np.unique(arr)\n",
    "print(unique_El)"
   ]
  },
  {
   "cell_type": "markdown",
   "id": "e83c3d47",
   "metadata": {},
   "source": [
    "## Boolean Indexing :---"
   ]
  },
  {
   "cell_type": "code",
   "execution_count": null,
   "id": "418cec92",
   "metadata": {},
   "outputs": [
    {
     "name": "stdout",
     "output_type": "stream",
     "text": [
      "[[0 1 2 3 4]\n",
      " [5 6 7 8 9]]\n",
      "Elements in boool which are greater than 5:  [6 7 8 9]\n",
      "Elements in boool which are between 10 to 20:  []\n"
     ]
    }
   ],
   "source": [
    "booool = np.arange(10).reshape(2,5)\n",
    "print(booool)\n",
    "print('Elements in boool which are greater than 5: ',booool[booool>5])\n",
    "print('Elements in boool which are between 10 to 20: ',booool[(booool>10) & (booool<20)])"
   ]
  },
  {
   "cell_type": "markdown",
   "id": "5a8ce82c",
   "metadata": {},
   "source": [
    "## Set Operations :---"
   ]
  },
  {
   "cell_type": "code",
   "execution_count": null,
   "id": "d1eb0742",
   "metadata": {},
   "outputs": [
    {
     "name": "stdout",
     "output_type": "stream",
     "text": [
      "Elements which are +nt in both arr1 & arr2:  [1 2 5]\n",
      "The elements that are in arr1 that are not in arr2: [3 4]\n",
      "All elements of arr1 & arr2:  [1 2 3 4 5 6 7 9]\n"
     ]
    }
   ],
   "source": [
    "arr1 = np.array([1,2,3,4,5])\n",
    "arr2 = np.array([5,2,6,1,7,9])\n",
    "print(\"Elements which are +nt in both arr1 & arr2: \", np.intersect1d(arr1,arr2))\n",
    "print(\"The elements that are in arr1 that are not in arr2:\", np.setdiff1d(arr1,arr2))\n",
    "print(\"All elements of arr1 & arr2: \", np.union1d(arr1,arr2))"
   ]
  },
  {
   "cell_type": "markdown",
   "id": "0780abc7",
   "metadata": {},
   "source": [
    "## Sorting :---"
   ]
  },
  {
   "cell_type": "code",
   "execution_count": null,
   "id": "2ed84b11",
   "metadata": {},
   "outputs": [
    {
     "name": "stdout",
     "output_type": "stream",
     "text": [
      "before: [33 69 10 92  1]\n",
      "after: [ 1 10 33 69 92]\n",
      "\n",
      "before: [ 90  38  11  36  29 100]\n",
      "after: [ 11  29  36  38  90 100]\n"
     ]
    }
   ],
   "source": [
    "# When used as a function, it doesn't change the original ndarray\n",
    "arr1 = np.array([33,69,10,92,1])\n",
    "print(\"before:\",arr1)\n",
    "sortedArr = np.sort(arr1)\n",
    "print(\"after:\",sortedArr)\n",
    "\n",
    "# When used as a method, the original array will be sorted\n",
    "arr2 = np.array([90,38,11,36,29,100])\n",
    "print(\"\\nbefore:\",arr2)\n",
    "arr2.sort()\n",
    "print(\"after:\",arr2)"
   ]
  },
  {
   "cell_type": "markdown",
   "id": "52e6d1e6",
   "metadata": {},
   "source": [
    "## Math Operations :---"
   ]
  },
  {
   "cell_type": "code",
   "execution_count": null,
   "id": "814e86bc",
   "metadata": {},
   "outputs": [
    {
     "name": "stdout",
     "output_type": "stream",
     "text": [
      "[ 6  4  9  5 12]\n",
      "[-4  0 -3  3 -2]\n",
      "[ 5  4 18  4 35]\n",
      "[0.2        1.         0.5        4.         0.71428571]\n",
      "[[2.1 3.2]\n",
      " [4.3 5.4]]\n",
      "[[-0.1  0.8]\n",
      " [ 1.7  2.6]]\n",
      "[[1.1 2.4]\n",
      " [3.9 5.6]]\n",
      "[[0.90909091 1.66666667]\n",
      " [2.30769231 2.85714286]]\n"
     ]
    }
   ],
   "source": [
    "arr1 = np.array([1,2,3,4,5])\n",
    "arr2 = np.array([5,2,6,1,7])\n",
    "\n",
    "add = np.add(arr1,arr2)\n",
    "print(add)\n",
    "\n",
    "subtract = np.subtract(arr1,arr2)\n",
    "print(subtract)\n",
    "\n",
    "multiply = np.multiply(arr1,arr2)\n",
    "print(multiply)\n",
    "\n",
    "divide = np.divide(arr1,arr2)\n",
    "print(divide)\n",
    "\n",
    "# In order to do these operations the shapes of the ndarray being operated on, must have the same shape or be broadcastable\n",
    "arr3 = np.array([1,2,3,4]).reshape(2,2)\n",
    "arr4 = np.array([1.1,1.2,1.3,1.4]).reshape(2,2)\n",
    "\n",
    "add2 = np.add(arr3,arr4)\n",
    "print(add2)\n",
    "\n",
    "subtract2 = np.subtract(arr3,arr4)\n",
    "print(subtract2)\n",
    "\n",
    "multiply2 = np.multiply(arr3,arr4)\n",
    "print(multiply2)\n",
    "\n",
    "divide2 = np.divide(arr3,arr4)\n",
    "print(divide2)"
   ]
  },
  {
   "cell_type": "markdown",
   "id": "ce1e62bc",
   "metadata": {},
   "source": [
    "## Statistical Functions :---"
   ]
  },
  {
   "cell_type": "code",
   "execution_count": null,
   "id": "8c40dc28",
   "metadata": {},
   "outputs": [
    {
     "name": "stdout",
     "output_type": "stream",
     "text": [
      "Average of all elements in arr: 13.166666666666666\n",
      "Average of all elements in columns of arr: [ 6.5 14.5 18.5]\n",
      "Average of all elements in rows of arr: [ 9.66666667 16.66666667]\n",
      "Sum of all elements in arr: 79\n",
      "Standard Deviation of all elements in arr: 10.188501143718616\n",
      "Median of all elements in arr: 9.0\n",
      "Maximum value of all elements in arr: 32\n",
      "Minimum value of all elements in arr: 3\n"
     ]
    }
   ],
   "source": [
    "arr = np.array([[3,21,5],[10,8,32]])\n",
    "print(\"Average of all elements in arr:\",arr.mean())\n",
    "print(\"Average of all elements in columns of arr:\",arr.mean(axis=0))\n",
    "print(\"Average of all elements in rows of arr:\",arr.mean(axis=1))\n",
    "print(\"Sum of all elements in arr:\",arr.sum())\n",
    "print('Standard Deviation of all elements in arr:', arr.std())\n",
    "print('Median of all elements in arr:', np.median(arr))\n",
    "print('Maximum value of all elements in arr:', arr.max())\n",
    "print('Minimum value of all elements in arr:', arr.min())"
   ]
  },
  {
   "cell_type": "markdown",
   "id": "9b8bf3dd",
   "metadata": {},
   "source": [
    "## Broadcasting :---\n",
    "Broadcasting is a powerful feature in NumPy that allows arrays with different shapes to be used in arithmetic operations. The smaller array is \"broadcast\" across the larger array to make their shapes compatible."
   ]
  },
  {
   "cell_type": "code",
   "execution_count": null,
   "id": "07a2869a",
   "metadata": {},
   "outputs": [
    {
     "name": "stdout",
     "output_type": "stream",
     "text": [
      "Scalar Broadcasting:\n",
      "4 * X = \n",
      " [[ 4  8 12]\n",
      " [16 20 24]]\n",
      "4 + X = \n",
      " [[ 5  6  7]\n",
      " [ 8  9 10]]\n",
      "4 - X = \n",
      " [[ 3  2  1]\n",
      " [ 0 -1 -2]]\n",
      "4 / X = \n",
      " [[4.         2.         1.33333333]\n",
      " [1.         0.8        0.66666667]]\n",
      "\n",
      "Array Broadcasting:\n",
      "x + Y =\n",
      "[[ 2  4  6]\n",
      " [ 5  7  9]\n",
      " [ 8 10 12]]\n",
      "\n",
      "Z + Y =\n",
      "[[ 2  3  4]\n",
      " [ 6  7  8]\n",
      " [10 11 12]]\n"
     ]
    }
   ],
   "source": [
    "# Scalar broadcasting - VERY COMMON in ML\n",
    "X = np.array([[1, 2, 3],\n",
    "              [4, 5, 6]])\n",
    "\n",
    "print(\"Scalar Broadcasting:\")\n",
    "print(\"4 * X = \\n\",4 * X) # Multiply every element by 4\n",
    "print(\"4 + X = \\n\",4 + X) # Add 4 to every element\n",
    "print(\"4 - X = \\n\",4 - X) # Subtract every element from 4\n",
    "print(\"4 / X = \\n\",4 / X) # Divide 4 by every element \n",
    "\n",
    "# Array broadcasting - ESSENTIAL for ML operations\n",
    "x = np.array([1, 2, 3])           # 1D array (1x3)\n",
    "Y = np.array([[1, 2, 3],          # 2D array (3x3)\n",
    "              [4, 5, 6],\n",
    "              [7, 8, 9]])\n",
    "Z = np.array([1, 2, 3]).reshape(3, 1)  # Column vector (3x1)\n",
    "\n",
    "print(\"\\nArray Broadcasting:\")\n",
    "print(\"x + Y =\")      # Row vector + matrix\n",
    "print(x + Y)\n",
    "\n",
    "print(\"\\nZ + Y =\")    # Column vector + matrix  \n",
    "print(Z + Y)"
   ]
  },
  {
   "cell_type": "markdown",
   "id": "ffd4eac1",
   "metadata": {},
   "source": [
    "## Universal Function :---"
   ]
  },
  {
   "cell_type": "code",
   "execution_count": 16,
   "id": "e614e5a2",
   "metadata": {},
   "outputs": [
    {
     "name": "stdout",
     "output_type": "stream",
     "text": [
      "[3.16227766 4.47213595 5.47722558 6.32455532 7.07106781]\n",
      "[2.20264658e+04 4.85165195e+08 1.06864746e+13 2.35385267e+17\n",
      " 5.18470553e+21]\n",
      "[-0.54402111  0.91294525 -0.98803162  0.74511316 -0.26237485]\n"
     ]
    }
   ],
   "source": [
    "arr = np.array([10,20,30,40,50])\n",
    "\n",
    "# Square-root\n",
    "print(np.sqrt(arr))\n",
    "\n",
    "# Exponential\n",
    "print(np.exp(arr))\n",
    "\n",
    "# Sine\n",
    "print(np.sin(arr))"
   ]
  },
  {
   "cell_type": "code",
   "execution_count": null,
   "id": "502e14df",
   "metadata": {},
   "outputs": [],
   "source": []
  }
 ],
 "metadata": {
  "kernelspec": {
   "display_name": "Python 3",
   "language": "python",
   "name": "python3"
  },
  "language_info": {
   "codemirror_mode": {
    "name": "ipython",
    "version": 3
   },
   "file_extension": ".py",
   "mimetype": "text/x-python",
   "name": "python",
   "nbconvert_exporter": "python",
   "pygments_lexer": "ipython3",
   "version": "3.13.7"
  }
 },
 "nbformat": 4,
 "nbformat_minor": 5
}
