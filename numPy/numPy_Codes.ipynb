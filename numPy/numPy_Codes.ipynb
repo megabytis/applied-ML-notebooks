{
 "cells": [
  {
   "cell_type": "markdown",
   "id": "66c85b92",
   "metadata": {},
   "source": [
    "# 🚀 NumPy: The Powerhouse of Numerical Computing in Python\n",
    "\n",
    "NumPy provides Python with an **extensive math library** capable of performing numerical computations effectively and efficiently.\n",
    "\n",
    "---\n",
    "\n",
    "## 🆚 Python Lists vs NumPy Arrays\n",
    "\n",
    "While Python lists are incredibly flexible, **NumPy offers significant advantages**, especially when working with large datasets:\n",
    "\n",
    "### ⚡ Speed\n",
    "- NumPy can be **orders of magnitude faster** than native Python lists.\n",
    "- This speed comes from:\n",
    "  - **Memory-efficient** layout of NumPy arrays.\n",
    "  - **Optimized C-based algorithms** used under the hood for arithmetic, statistics, and linear algebra.\n",
    "\n",
    "---\n",
    "\n",
    "## 🔢 Multidimensional Arrays: Vectors & Matrices\n",
    "\n",
    "One of the biggest flexes of NumPy is its **support for multidimensional arrays**:\n",
    "\n",
    "- NumPy arrays (also called `ndarray`) can represent:\n",
    "  - **Vectors** (1D arrays)\n",
    "  - **Matrices** (2D arrays)\n",
    "  - **Tensors** (3D+ arrays)\n",
    "\n",
    "---\n",
    "\n",
    "## 🧠 Core Concept: The `ndarray`\n",
    "\n",
    "At the core of NumPy lies the:\n",
    "\n",
    "```python\n",
    "ndarray  # nd stands for \"n-dimensional\"\n"
   ]
  },
  {
   "cell_type": "code",
   "execution_count": 1,
   "id": "5088164c",
   "metadata": {},
   "outputs": [],
   "source": [
    "import numpy as np"
   ]
  },
  {
   "cell_type": "markdown",
   "id": "9d46d965",
   "metadata": {},
   "source": [
    "## Create ndarray :---"
   ]
  },
  {
   "cell_type": "code",
   "execution_count": 2,
   "id": "1d97aeff",
   "metadata": {},
   "outputs": [
    {
     "name": "stdout",
     "output_type": "stream",
     "text": [
      "a = [10 20 30 40 50]\n",
      "a has dimensions:  (5,)\n",
      "The elemnt in a are of type:  int64\n",
      "b has dimentions:  (4, 3)\n",
      "b has a total of 12  elements\n",
      "b has an object of type:  <class 'numpy.ndarray'>\n",
      "The elements of b are of type:  int64\n"
     ]
    }
   ],
   "source": [
    "# Creating an 1D ndarray that contains only integers\n",
    "a = np.array([10,20,30,40,50])\n",
    "print('a =',a) # a = [10,20,30,40,50]\n",
    "print('a has dimensions: ',a.shape) # a has dimention: (5,)\n",
    "print('The elemnt in a are of type: ', a.dtype) # The element in a are of type: int64\n",
    "\n",
    "# Creating a 2D ndarray that conatins only integers\n",
    "b = np.array([[1,2,3],[4,5,6],[7,8,9], [10,11,12]])\n",
    "print('b has dimentions: ', b.shape) # b has dimentions:  (4, 3)\n",
    "print('b has a total of', b.size, ' elements') # b has a total of 12  elements\n",
    "print('b has an object of type: ', type(b)) # b has an object of type:  <class 'numpy.ndarray'>\n",
    "print('The elements of b are of type: ', b.dtype) # The elements of b are of type:  int64"
   ]
  },
  {
   "cell_type": "markdown",
   "id": "4bec1090",
   "metadata": {},
   "source": [
    "## Create ndarray with dtype :---"
   ]
  },
  {
   "cell_type": "code",
   "execution_count": 3,
   "id": "93b6f99a",
   "metadata": {},
   "outputs": [
    {
     "name": "stdout",
     "output_type": "stream",
     "text": [
      "[1 2 3 4 5]\n"
     ]
    }
   ],
   "source": [
    "# Specifying the dtype when creating the ndarray\n",
    "x = np.array([1.5, 2.2, 3.7, 4.0, 5.9], dtype = np.int64)\n",
    "print(x)"
   ]
  },
  {
   "cell_type": "markdown",
   "id": "23461ddf",
   "metadata": {},
   "source": [
    "## Save and load :---"
   ]
  },
  {
   "cell_type": "code",
   "execution_count": 4,
   "id": "c875875c",
   "metadata": {},
   "outputs": [
    {
     "name": "stdout",
     "output_type": "stream",
     "text": [
      "[1 2 3 4 5]\n"
     ]
    }
   ],
   "source": [
    "# saving an array into a file\n",
    "np.save('saved_array', x)\n",
    "\n",
    "# Now loading the saved array from current Directory\n",
    "y = np.load('./saved_array.npy')\n",
    "print(y)"
   ]
  },
  {
   "cell_type": "markdown",
   "id": "8af9a5b3",
   "metadata": {},
   "source": [
    "## Zeros, Ones, Full :---"
   ]
  },
  {
   "cell_type": "code",
   "execution_count": 5,
   "id": "2ab7d037",
   "metadata": {},
   "outputs": [
    {
     "name": "stdout",
     "output_type": "stream",
     "text": [
      "[[0. 0. 0.]\n",
      " [0. 0. 0.]]\n",
      "[[1. 1.]\n",
      " [1. 1.]\n",
      " [1. 1.]]\n",
      "[[9 9 9]\n",
      " [9 9 9]]\n"
     ]
    }
   ],
   "source": [
    "# Creating ndarray using built-in functions\n",
    "# 2 x 3 ndarray full of zeros\n",
    "# synts :- np.zeros(shape)\n",
    "zeroArr = np.zeros((2,3))\n",
    "print(zeroArr)\n",
    "\n",
    "# a 3 x 2 matrix full of ones\n",
    "# syntax :- np.ones((3,2))\n",
    "oneArr = np.ones((3,2))\n",
    "print(oneArr)\n",
    "\n",
    "# 2 x 3 ndarray full of 9's\n",
    "# syntax :- np.full(shape, constant_value)\n",
    "constArr = np.full((2,3), 9)\n",
    "print(constArr)"
   ]
  },
  {
   "cell_type": "markdown",
   "id": "45444ef3",
   "metadata": {},
   "source": [
    "## identity matrix :---"
   ]
  },
  {
   "cell_type": "code",
   "execution_count": 6,
   "id": "6f4e31cb",
   "metadata": {},
   "outputs": [
    {
     "name": "stdout",
     "output_type": "stream",
     "text": [
      "[[1. 0. 0. 0.]\n",
      " [0. 1. 0. 0.]\n",
      " [0. 0. 1. 0.]\n",
      " [0. 0. 0. 1.]]\n"
     ]
    }
   ],
   "source": [
    "# Since all identity matrices are sqaure, the np.eye() function only takes a single integer as an argument\n",
    "# e.g. :- 4 x 4 Identity matrix\n",
    "identityMatrix = np.eye(4)\n",
    "print(identityMatrix)"
   ]
  },
  {
   "cell_type": "markdown",
   "id": "f3a96941",
   "metadata": {},
   "source": [
    "## Diagonal Matrix :---"
   ]
  },
  {
   "cell_type": "code",
   "execution_count": 7,
   "id": "da10ff2d",
   "metadata": {},
   "outputs": [
    {
     "name": "stdout",
     "output_type": "stream",
     "text": [
      "[[10  0  0  0  0]\n",
      " [ 0 20  0  0  0]\n",
      " [ 0  0 30  0  0]\n",
      " [ 0  0  0 40  0]\n",
      " [ 0  0  0  0 50]]\n"
     ]
    }
   ],
   "source": [
    "# 5 x 5 diagonal matrix that contains the numbers 10,20,30,40 and 50 on its main diagonal\n",
    "diagMatrix = np.diag([10,20,30,40,50])\n",
    "print(diagMatrix)"
   ]
  },
  {
   "cell_type": "markdown",
   "id": "edbaafbc",
   "metadata": {},
   "source": [
    "## Arrange :---"
   ]
  },
  {
   "cell_type": "code",
   "execution_count": 8,
   "id": "52fcedf4",
   "metadata": {},
   "outputs": [
    {
     "name": "stdout",
     "output_type": "stream",
     "text": [
      "[0 1 2 3 4 5 6 7 8 9]\n",
      "[ 5  6  7  8  9 10 11 12 13]\n",
      "[ 7  9 11 13 15 17 19 21 23 25]\n"
     ]
    }
   ],
   "source": [
    "# Rank 1 ndarray that has sequential integers from 0 to 9\n",
    "seqArr_1 = np.arange(10)\n",
    "print(seqArr_1)\n",
    "\n",
    "# Rank 1 ndarray that has sequential integers from 5 to 13\n",
    "# syntax :- (start, stop+1)\n",
    "seqArr_2 = np.arange(5,14)\n",
    "print(seqArr_2)\n",
    "\n",
    "# Rank 1 ndarray that has sequential integers from 7 to 25 in steps/gaps of 2\n",
    "# syntax :- (start, stop+1, step_size)\n",
    "seqArr_3 = np.arange(7,26,2)\n",
    "print(seqArr_3)"
   ]
  },
  {
   "cell_type": "markdown",
   "id": "7c1026aa",
   "metadata": {},
   "source": [
    "# Linspace :---\n",
    "\n",
    "### 🔍 Why `linspace()` over `arange()`?\n",
    "Even though the `np.arange()` function allows for **non-integer steps** (e.g., `0.3`),  \n",
    "its output can be inconsistent due to **finite floating-point precision**.\n",
    "\n",
    "✅ In cases where non-integer steps are needed, it’s usually better to use **`np.linspace()`** because:\n",
    "- It **specifies the number of elements** in the range, not the step size.\n",
    "- It produces evenly spaced numbers over the interval `[start, stop]`.\n",
    "\n",
    "---\n",
    "\n",
    "## 🛠 Syntax\n",
    "```python\n",
    "np.linspace(start, stop, how_many_nums_u_wanna_print)\n",
    "\n",
    "where ;\n",
    "start → First value in the sequence\n",
    "stop → Last value in the sequence (inclusive)\n",
    "num → Number of evenly spaced values to generate\n",
    "\n",
    "\n",
    "📐 How linspace() Calculates Step Size :\n",
    "\n",
    "Step size = (stop - start) / (num - 1)\n",
    "\n",
    "Example :--\n",
    "Step size = (25 - 0) / (10 - 1)\n",
    "          = 25 / 9\n",
    "          ≈ 2.77777777...\n",
    "\n",
    "📊 Process\n",
    "0.0\n",
    "0.0 + 2.777...  = 2.777...\n",
    "2.777... + 2.777... = 5.555...\n",
    "...\n",
    "up to 25.0 (exactly)\n",
    "\n",
    "# ⚠️mportant\n",
    "# i.e. from start(0) to stop(25) , 10 numbers will be printed in gap of 2.7777777 , understood ? 😜\n"
   ]
  },
  {
   "cell_type": "code",
   "execution_count": 9,
   "id": "616aa9b0",
   "metadata": {},
   "outputs": [
    {
     "name": "stdout",
     "output_type": "stream",
     "text": [
      "[ 0.          2.77777778  5.55555556  8.33333333 11.11111111 13.88888889\n",
      " 16.66666667 19.44444444 22.22222222 25.        ]\n"
     ]
    }
   ],
   "source": [
    "x = np.linspace(0,25,10)\n",
    "print(x)"
   ]
  },
  {
   "cell_type": "markdown",
   "id": "3f2a1b6f",
   "metadata": {},
   "source": [
    "## Reshape :---"
   ]
  },
  {
   "cell_type": "code",
   "execution_count": 10,
   "id": "849ca2f8",
   "metadata": {},
   "outputs": [
    {
     "name": "stdout",
     "output_type": "stream",
     "text": [
      "Before re-shaping :--\n",
      " [ 1  2  3  4  5  6  7  8  9 10 11 12 13 14 15 16 17 18 19 20]\n",
      "\n",
      "After re-shaping :--\n",
      " [[ 1  2  3  4  5]\n",
      " [ 6  7  8  9 10]\n",
      " [11 12 13 14 15]\n",
      " [16 17 18 19 20]]\n",
      "\n",
      "using all methods in one line :-- \n",
      "[[ 1  2  3  4  5  6  7  8]\n",
      " [ 9 10 11 12 13 14 15 16]\n",
      " [17 18 19 20 21 22 23 24]\n",
      " [25 26 27 28 29 30 31 32]]\n",
      "[[ 0.          4.28571429  8.57142857 12.85714286]\n",
      " [17.14285714 21.42857143 25.71428571 30.        ]]\n"
     ]
    }
   ],
   "source": [
    "# syntsx :- np.reshape(ndarray, new_shape)\n",
    "# it converts the given ndarray into the specified new shape \n",
    "\n",
    "# without re-shaping\n",
    "arr = np.arange(1,21)\n",
    "print('Before re-shaping :--\\n',arr)\n",
    "\n",
    "# After Re-shaping \n",
    "arr = arr.reshape(4,5)\n",
    "print('\\nAfter re-shaping :--\\n',arr)\n",
    "\n",
    "# reshapingArr = np.reshape(reshapingArr, (4,5))\n",
    "# --------------or---------------\n",
    "reshapingArr_2 = np.arange(1,33).reshape(4,8)\n",
    "print(f'\\nusing all methods in one line :-- \\n{reshapingArr_2}')\n",
    "\n",
    "# ⚠️⚠️⚠️ IMPORTANT  ⚠️⚠️⚠️\n",
    "# The multiplication of shape values e.g. (4,8) should be equal with created array boxes, e.g. arange(1,33), \n",
    "# here in {1,33} i.e. 33-1=32 boxes r there inside array , so 4*8 = 32 so it's VALID array with shape, otherwise it will throw error, abviously, if array number mismatches\n",
    "\n",
    "reshapingArr_3 = np.linspace(0,30,8).reshape(2,4)\n",
    "print(reshapingArr_3)\n",
    "\n",
    "# One great feature about NumPy, is that some functions can also be\n",
    "# applied as methods. This allows us to apply different functions in\n",
    "# sequence in just one line of code"
   ]
  },
  {
   "cell_type": "markdown",
   "id": "f9df1b02",
   "metadata": {},
   "source": [
    "## Slicing :---"
   ]
  },
  {
   "cell_type": "code",
   "execution_count": 11,
   "id": "a9e61959",
   "metadata": {},
   "outputs": [
    {
     "name": "stdout",
     "output_type": "stream",
     "text": [
      "full arr\n",
      " [[ 0  1  2  3]\n",
      " [ 4  5  6  7]\n",
      " [ 8  9 10 11]\n",
      " [12 13 14 15]\n",
      " [16 17 18 19]]\n",
      "\n",
      "elements from 3rd rows to last with all columns\n",
      " [[ 8  9 10 11]\n",
      " [12 13 14 15]\n",
      " [16 17 18 19]]\n",
      "\n",
      "elements from 3rd col onwards having all rows\n",
      " [[ 2  3]\n",
      " [ 6  7]\n",
      " [10 11]\n",
      " [14 15]\n",
      " [18 19]]\n",
      "\n",
      "elements from 2nd column to last + 3rd nd 4th row only\n",
      " [[ 9 10 11]\n",
      " [13 14 15]]\n",
      "\n",
      "original is changing ? :---\n",
      " [[ 0  1  2  3]\n",
      " [ 4  5  6  7]\n",
      " [ 8 69 39 11]\n",
      " [12 39 69 15]\n",
      " [16 17 18 19]]\n"
     ]
    }
   ],
   "source": [
    "'''\n",
    "Syntaxes :-\n",
    "\n",
    "ndarray[start:end]\n",
    "ndarray[start:]\n",
    "ndarray[:end]\n",
    "ndarray[<start>:<stop>:<step>]\n",
    "'''\n",
    "# In methods one and three, the end index is included [,)\n",
    "arr = np.arange(20).reshape(5,4)\n",
    "print('full arr\\n',arr)\n",
    "\n",
    "# Examples :---\n",
    "\n",
    "# I wanna get elements from 3rdd rows[i.e. index no - 2] to last with all columns\n",
    "slicedEl_1 = arr[2:,]\n",
    "print('\\nelements from 3rd rows to last with all columns\\n',slicedEl_1)\n",
    "\n",
    "# I wanna get elements from 3rd col onwards having all rows\n",
    "slicedEl_2 = arr[:,2:,]\n",
    "print('\\nelements from 3rd col onwards having all rows\\n',slicedEl_2)\n",
    "\n",
    "# i wanna get elements from 2nd column to last + 3rd nd 4th row only\n",
    "slicedEl_3 = arr[2:4,1:,]\n",
    "print('\\nelements from 2nd column to last + 3rd nd 4th row only\\n',slicedEl_3)\n",
    "\n",
    "# ⚠️⚠️⚠️ V. V. Important ⚠️⚠️⚠️\n",
    "# 🔁 Slicing creates a view, not a copy. \n",
    "''' \n",
    "-> It means e.g. if i'm doing slicedEl_3 = arr[2:4,1:,], it doesn't means a changed copy of 'arr' is storing under slicedArr_3, NAH !!!!\n",
    "-> It just zooming in and whatever part we'r slicing, it is just creating a view of that specified part under 'slicedEl_3' 🤣\n",
    "-> That means 'slicedEl_3' is nothing but another name of the original 'arr', so whatevery changes we'll make in 'slicedEl_3' in viewed part will also be refelected in original 'arr' \n",
    "\n",
    "here is the proof :--- 👇\n",
    "'''\n",
    "slicedEl_3[0,0] = 69\n",
    "slicedEl_3[1,1] = 69\n",
    "slicedEl_3[0,1] = 39\n",
    "slicedEl_3[1,0] = 39\n",
    "print('\\noriginal is changing ? :---\\n',arr)"
   ]
  },
  {
   "cell_type": "markdown",
   "id": "8ebbd32d",
   "metadata": {},
   "source": [
    "## Random :---"
   ]
  },
  {
   "cell_type": "code",
   "execution_count": null,
   "id": "85c7f205",
   "metadata": {},
   "outputs": [
    {
     "name": "stdout",
     "output_type": "stream",
     "text": [
      "[1 0]\n"
     ]
    }
   ],
   "source": []
  },
  {
   "cell_type": "code",
   "execution_count": null,
   "id": "5d2820b9",
   "metadata": {},
   "outputs": [],
   "source": []
  }
 ],
 "metadata": {
  "kernelspec": {
   "display_name": "Python 3",
   "language": "python",
   "name": "python3"
  },
  "language_info": {
   "codemirror_mode": {
    "name": "ipython",
    "version": 3
   },
   "file_extension": ".py",
   "mimetype": "text/x-python",
   "name": "python",
   "nbconvert_exporter": "python",
   "pygments_lexer": "ipython3",
   "version": "3.13.5"
  }
 },
 "nbformat": 4,
 "nbformat_minor": 5
}
