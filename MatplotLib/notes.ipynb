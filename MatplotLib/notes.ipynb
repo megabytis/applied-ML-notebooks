{
 "cells": [
  {
   "cell_type": "code",
   "execution_count": 14,
   "id": "1cbf3ec3",
   "metadata": {},
   "outputs": [],
   "source": [
    "import numpy as np\n",
    "import pandas as pd\n",
    "import matplotlib.pyplot as plt\n",
    "import matplotlib\n",
    "from IPython.core.pylabtools import figsize\n",
    "from matplotlib.lines import lineStyles\n",
    "\n",
    "# matplotlib.use(\"TkAgg\")"
   ]
  },
  {
   "cell_type": "code",
   "execution_count": 15,
   "id": "9d32e7c0",
   "metadata": {},
   "outputs": [
    {
     "name": "stderr",
     "output_type": "stream",
     "text": [
      "invalid command name \"137325582753600process_stream_events\"\n",
      "    while executing\n",
      "\"137325582753600process_stream_events\"\n",
      "    (\"after\" script)\n"
     ]
    }
   ],
   "source": [
    "############################\n",
    "# 1. Line Plot -> plt.plot()\n",
    "############################\n",
    "\n",
    "# Purpose: Show trends (time-series, loss curves, trends)\n",
    "# Syntax: plt.plot(x, y, color=..., linestyle=..., marker=..., label=...)\n",
    "\n",
    "\"\"\"\n",
    "Arguments to know:\n",
    "\n",
    "color (\"blue\", \"r\", \"#FF5733\")\n",
    "linestyle (\"-\", \"--\", \"-.\", \":\")\n",
    "marker (\"o\", \"s\", \"x\", \".\")\n",
    "label → for legend\n",
    "\"\"\"\n",
    "\n",
    "#  Example :-\n",
    "\n",
    "x = np.arange(1, 11)\n",
    "y = x**2\n",
    "\n",
    "plt.plot(x, y, color=\"blue\", linestyle=\"--\", label=\"y = x^2\", marker=\"o\")\n",
    "plt.xlabel(\"x-axis\")\n",
    "plt.ylabel(\"y-axis\")\n",
    "plt.title(\"Line plot Example\")\n",
    "plt.legend()\n",
    "\n",
    "plt.show()"
   ]
  },
  {
   "cell_type": "code",
   "execution_count": 16,
   "id": "2f6de516",
   "metadata": {},
   "outputs": [
    {
     "name": "stderr",
     "output_type": "stream",
     "text": [
      "invalid command name \"137325581679232process_stream_events\"\n",
      "    while executing\n",
      "\"137325581679232process_stream_events\"\n",
      "    (\"after\" script)\n"
     ]
    }
   ],
   "source": [
    "#########################\n",
    "# 2. Scatter Plot -> plt\n",
    "#########################\n",
    "\n",
    "# Purpose: visualize features, clusters, correlations\n",
    "# Syntax: plt.scatter(x, y, color=..., s=..., alpha=..., label=...)\n",
    "\n",
    "\"\"\"\n",
    "Useful args:\n",
    "\n",
    "color / c → color of points\n",
    "s → size of points\n",
    "alpha → transparency (0 = invisible, 1 = solid)\n",
    "label → name for legend\n",
    "\"\"\"\n",
    "\n",
    "# Example :-\n",
    "\n",
    "x = np.random.rand(50)\n",
    "y = np.random.rand(50)\n",
    "\n",
    "plt.scatter(x,y, color=\"red\", s=60 , alpha=0.6, label=\"Points\")\n",
    "plt.title(\"scatter plot example\")\n",
    "plt.legend()\n",
    "plt.show()"
   ]
  },
  {
   "cell_type": "code",
   "execution_count": 17,
   "id": "033153b1",
   "metadata": {},
   "outputs": [
    {
     "name": "stderr",
     "output_type": "stream",
     "text": [
      "invalid command name \"137325588883840process_stream_events\"\n",
      "    while executing\n",
      "\"137325588883840process_stream_events\"\n",
      "    (\"after\" script)\n"
     ]
    }
   ],
   "source": [
    "############################\n",
    "# 3. Histogram -> plt.hist()\n",
    "############################\n",
    "\n",
    "# Purpose:  Check distribution of a feature (e.g. age, income)\n",
    "# Syntax: plt.hist(data, bins=..., color=..., alpha=..., edgecolor=...)\n",
    "\n",
    "\"\"\"\n",
    "Useful args:\n",
    "\n",
    "bins → number of groups/divisions\n",
    "color → bar color\n",
    "alpha → transparency\n",
    "edgecolor → outline color of bars\n",
    "\"\"\"\n",
    "\n",
    "# Example :-\n",
    "\n",
    "data = np.random.randn(1000)\n",
    "\n",
    "plt.hist(data, bins=30, color=\"purple\", alpha=0.7, edgecolor=\"black\")\n",
    "plt.title(\"Histogram Example\")\n",
    "plt.show()"
   ]
  },
  {
   "cell_type": "code",
   "execution_count": 18,
   "id": "b1cd4ef4",
   "metadata": {},
   "outputs": [
    {
     "name": "stderr",
     "output_type": "stream",
     "text": [
      "invalid command name \"137325522366144process_stream_events\"\n",
      "    while executing\n",
      "\"137325522366144process_stream_events\"\n",
      "    (\"after\" script)\n"
     ]
    }
   ],
   "source": [
    "###########################\n",
    "# 4. Bar Chart -> plt.bar()\n",
    "###########################\n",
    "\n",
    "# Purpose: Compare categories (e.g. accuracy of different models)\n",
    "# Syntax: plt.bar(categories, values, color=..., width=..., alpha=..., label=...)\n",
    "\n",
    "\"\"\"\n",
    "Useful args:\n",
    "\n",
    "color → bar color\n",
    "width → bar width (default = 0.8)\n",
    "alpha → transparency\n",
    "label → for legend\n",
    "\"\"\"\n",
    "\n",
    "# Example :-\n",
    "\n",
    "ai_models = [\"chatgpt\",\"deepseek\",\"qwen\",\"claude\"]\n",
    "points = [95,85,90,70]\n",
    "\n",
    "plt.bar(ai_models, points, color=\"green\", alpha=0.7)\n",
    "plt.title(\"AI Models Comparison\")\n",
    "plt.ylabel(\"Accuracy\")\n",
    "plt.show()"
   ]
  },
  {
   "cell_type": "code",
   "execution_count": 19,
   "id": "802979cc",
   "metadata": {},
   "outputs": [
    {
     "name": "stderr",
     "output_type": "stream",
     "text": [
      "invalid command name \"137325582524032process_stream_events\"\n",
      "    while executing\n",
      "\"137325582524032process_stream_events\"\n",
      "    (\"after\" script)\n"
     ]
    }
   ],
   "source": [
    "########################################################\n",
    "# 5. Multi-Plots in One Figure -> subplot() / subplots()\n",
    "########################################################\n",
    "\n",
    "# Purpose: Compare multiple graphs side by side.\n",
    "\n",
    "# Example :-\n",
    "\n",
    "fig, axs = plt.subplots(1,2, figsize=(10,4))\n",
    "\n",
    "# Line\n",
    "axs[0].plot(x,y, color=\"blue\")\n",
    "axs[0].set_title(\"Line plot\")\n",
    "\n",
    "# Histogram\n",
    "axs[1].hist(data, bins=20, color=\"orange\")\n",
    "axs[1].set_title(\"Histogram\")\n",
    "\n",
    "plt.tight_layout()\n",
    "plt.show()"
   ]
  },
  {
   "cell_type": "code",
   "execution_count": 20,
   "id": "3d14f729",
   "metadata": {},
   "outputs": [
    {
     "name": "stderr",
     "output_type": "stream",
     "text": [
      "invalid command name \"137325518552896process_stream_events\"\n",
      "    while executing\n",
      "\"137325518552896process_stream_events\"\n",
      "    (\"after\" script)\n"
     ]
    },
    {
     "data": {
      "text/plain": [
       "\"\\n👆 here df.plot() is Pandas own plot() method which is nothing but a wrapper around plyplot's plot() method\\n\\nSo;\\nplt.plot() = raw Matplotlib function.\\ndf.plot() = Pandas helper method that uses Matplotlib under the hood.\\n\\n** so, Why does Pandas have its own .plot()?\\n\\nBecause most of the time in ML we'll work with DataFrames (after cleaning data).\\nInstead of extracting columns manually and passing them into plt, we can directly plot from the DataFrame.\\n\\n** ⚡ So the rule is:\\n\\nIf we’re working with raw arrays (NumPy) → use plt.plot, plt.scatter, etc.\\nIf ywe’re working with Pandas DataFrame → use df.plot(...).\\n\""
      ]
     },
     "execution_count": 20,
     "metadata": {},
     "output_type": "execute_result"
    }
   ],
   "source": [
    "#################################################\n",
    "# 6. Integration with Pandas (super common in ML)\n",
    "#################################################\n",
    "\n",
    "df = pd.DataFrame({\n",
    "    \"Height\": np.random.normal(170,10,100),\n",
    "    \"Weight\": np.random.normal(65,15,100)\n",
    "})\n",
    "\n",
    "df.plot(kind=\"scatter\", x=\"Height\", y=\"Weight\", alpha=0.5, color=\"red\")\n",
    "plt.title(\"Height v/s Weight\")\n",
    "plt.show()\n",
    "\n",
    "\"\"\"\n",
    "👆 here df.plot() is Pandas own plot() method which is nothing but a wrapper around plyplot's plot() method\n",
    "\n",
    "So;\n",
    "plt.plot() = raw Matplotlib function.\n",
    "df.plot() = Pandas helper method that uses Matplotlib under the hood.\n",
    "\n",
    "** so, Why does Pandas have its own .plot()?\n",
    "\n",
    "Because most of the time in ML we'll work with DataFrames (after cleaning data).\n",
    "Instead of extracting columns manually and passing them into plt, we can directly plot from the DataFrame.\n",
    "\n",
    "** ⚡ So the rule is:\n",
    "\n",
    "If we’re working with raw arrays (NumPy) → use plt.plot, plt.scatter, etc.\n",
    "If ywe’re working with Pandas DataFrame → use df.plot(...).\n",
    "\"\"\""
   ]
  },
  {
   "cell_type": "code",
   "execution_count": 1,
   "id": "44691862",
   "metadata": {},
   "outputs": [
    {
     "data": {
      "text/plain": [
       "'\\n🔧 Helper Functions to Use All the Time\\n\\nplt.title(\"...\")\\n\\nplt.xlabel(\"...\")\\n\\nplt.ylabel(\"...\")\\n\\nplt.legend()\\n\\nplt.grid(True)\\n\\nplt.xlim(min, max) / plt.ylim(min, max)\\n\\nplt.show() (always ends the plot)\\n'"
      ]
     },
     "execution_count": 1,
     "metadata": {},
     "output_type": "execute_result"
    }
   ],
   "source": [
    "\"\"\"\n",
    "🔧 Helper Functions to Use All the Time\n",
    "\n",
    "plt.title(\"...\")\n",
    "\n",
    "plt.xlabel(\"...\")\n",
    "\n",
    "plt.ylabel(\"...\")\n",
    "\n",
    "plt.legend()\n",
    "\n",
    "plt.grid(True)\n",
    "\n",
    "plt.xlim(min, max) / plt.ylim(min, max)\n",
    "\n",
    "plt.show() (always ends the plot)\n",
    "\"\"\""
   ]
  },
  {
   "cell_type": "code",
   "execution_count": 2,
   "id": "c237ee44",
   "metadata": {},
   "outputs": [
    {
     "data": {
      "text/plain": [
       "'\\n📊 Multi-Plot Layouts\\n\\nplt.subplot(rows, cols, index) → quick grids\\n\\nfig, ax = plt.subplots() → preferred way in ML notebooks\\n'"
      ]
     },
     "execution_count": 2,
     "metadata": {},
     "output_type": "execute_result"
    }
   ],
   "source": [
    "\"\"\"\n",
    "📊 Multi-Plot Layouts\n",
    "\n",
    "plt.subplot(rows, cols, index) → quick grids\n",
    "\n",
    "fig, ax = plt.subplots() → preferred way in ML notebooks\n",
    "\"\"\"\n"
   ]
  },
  {
   "cell_type": "code",
   "execution_count": null,
   "id": "295fa4de",
   "metadata": {},
   "outputs": [],
   "source": []
  }
 ],
 "metadata": {
  "kernelspec": {
   "display_name": "jupyterlab-env",
   "language": "python",
   "name": "python3"
  },
  "language_info": {
   "codemirror_mode": {
    "name": "ipython",
    "version": 3
   },
   "file_extension": ".py",
   "mimetype": "text/x-python",
   "name": "python",
   "nbconvert_exporter": "python",
   "pygments_lexer": "ipython3",
   "version": "3.13.7"
  }
 },
 "nbformat": 4,
 "nbformat_minor": 5
}
